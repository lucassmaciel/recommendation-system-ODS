{
 "cells": [
  {
   "cell_type": "code",
   "execution_count": 611,
   "id": "f78b1ebf",
   "metadata": {},
   "outputs": [],
   "source": [
    "import pandas as pd\n",
    "from pandas import DataFrame\n",
    "import matplotlib.pyplot as plt\n",
    "import seaborn as sns\n",
    "from pathlib import Path"
   ]
  },
  {
   "cell_type": "code",
   "execution_count": 612,
   "id": "f338d4e2",
   "metadata": {},
   "outputs": [
    {
     "data": {
      "application/vnd.microsoft.datawrangler.viewer.v0+json": {
       "columns": [
        {
         "name": "index",
         "rawType": "int64",
         "type": "integer"
        },
        {
         "name": "User-ID",
         "rawType": "int64",
         "type": "integer"
        },
        {
         "name": "ISBN",
         "rawType": "object",
         "type": "string"
        },
        {
         "name": "Book-Rating",
         "rawType": "int64",
         "type": "integer"
        }
       ],
       "ref": "0022a49e-9c00-4a1a-a159-39aad01e2c8a",
       "rows": [
        [
         "0",
         "276725",
         "034545104X",
         "0"
        ],
        [
         "1",
         "276726",
         "0155061224",
         "5"
        ],
        [
         "2",
         "276727",
         "0446520802",
         "0"
        ],
        [
         "3",
         "276729",
         "052165615X",
         "3"
        ],
        [
         "4",
         "276729",
         "0521795028",
         "6"
        ],
        [
         "5",
         "276733",
         "2080674722",
         "0"
        ],
        [
         "6",
         "276736",
         "3257224281",
         "8"
        ],
        [
         "7",
         "276737",
         "0600570967",
         "6"
        ],
        [
         "8",
         "276744",
         "038550120X",
         "7"
        ],
        [
         "9",
         "276745",
         "342310538",
         "10"
        ],
        [
         "10",
         "276746",
         "0425115801",
         "0"
        ],
        [
         "11",
         "276746",
         "0449006522",
         "0"
        ],
        [
         "12",
         "276746",
         "0553561618",
         "0"
        ],
        [
         "13",
         "276746",
         "055356451X",
         "0"
        ],
        [
         "14",
         "276746",
         "0786013990",
         "0"
        ],
        [
         "15",
         "276746",
         "0786014512",
         "0"
        ],
        [
         "16",
         "276747",
         "0060517794",
         "9"
        ],
        [
         "17",
         "276747",
         "0451192001",
         "0"
        ],
        [
         "18",
         "276747",
         "0609801279",
         "0"
        ],
        [
         "19",
         "276747",
         "0671537458",
         "9"
        ],
        [
         "20",
         "276747",
         "0679776818",
         "8"
        ],
        [
         "21",
         "276747",
         "0943066433",
         "7"
        ],
        [
         "22",
         "276747",
         "1570231028",
         "0"
        ],
        [
         "23",
         "276747",
         "1885408226",
         "7"
        ],
        [
         "24",
         "276748",
         "0747558167",
         "6"
        ],
        [
         "25",
         "276748",
         "3442437407",
         "0"
        ],
        [
         "26",
         "276751",
         "033390804X",
         "0"
        ],
        [
         "27",
         "276751",
         "3596218098",
         "8"
        ],
        [
         "28",
         "276754",
         "0684867621",
         "8"
        ],
        [
         "29",
         "276755",
         "0451166892",
         "5"
        ],
        [
         "30",
         "276760",
         "8440682697",
         "10"
        ],
        [
         "31",
         "276762",
         "034544003X",
         "0"
        ],
        [
         "32",
         "276762",
         "0380000059",
         "0"
        ],
        [
         "33",
         "276762",
         "0380711524",
         "5"
        ],
        [
         "34",
         "276762",
         "0451167317",
         "0"
        ],
        [
         "35",
         "276762",
         "0451454952",
         "0"
        ],
        [
         "36",
         "276762",
         "0843920262",
         "0"
        ],
        [
         "37",
         "276762",
         "3404122879",
         "0"
        ],
        [
         "38",
         "276762",
         "3404182928",
         "0"
        ],
        [
         "39",
         "276762",
         "3404611306",
         "0"
        ],
        [
         "40",
         "276762",
         "342662429",
         "0"
        ],
        [
         "41",
         "276762",
         "3426690179",
         "0"
        ],
        [
         "42",
         "276762",
         "3442424216",
         "0"
        ],
        [
         "43",
         "276762",
         "3442425573",
         "0"
        ],
        [
         "44",
         "276762",
         "3453092007",
         "8"
        ],
        [
         "45",
         "276762",
         "3453157745",
         "0"
        ],
        [
         "46",
         "276762",
         "3453176944",
         "0"
        ],
        [
         "47",
         "276762",
         "3453185137",
         "0"
        ],
        [
         "48",
         "276762",
         "3453185323",
         "0"
        ],
        [
         "49",
         "276762",
         "3453213025",
         "3"
        ]
       ],
       "shape": {
        "columns": 3,
        "rows": 50
       }
      },
      "text/html": [
       "<div>\n",
       "<style scoped>\n",
       "    .dataframe tbody tr th:only-of-type {\n",
       "        vertical-align: middle;\n",
       "    }\n",
       "\n",
       "    .dataframe tbody tr th {\n",
       "        vertical-align: top;\n",
       "    }\n",
       "\n",
       "    .dataframe thead th {\n",
       "        text-align: right;\n",
       "    }\n",
       "</style>\n",
       "<table border=\"1\" class=\"dataframe\">\n",
       "  <thead>\n",
       "    <tr style=\"text-align: right;\">\n",
       "      <th></th>\n",
       "      <th>User-ID</th>\n",
       "      <th>ISBN</th>\n",
       "      <th>Book-Rating</th>\n",
       "    </tr>\n",
       "  </thead>\n",
       "  <tbody>\n",
       "    <tr>\n",
       "      <th>0</th>\n",
       "      <td>276725</td>\n",
       "      <td>034545104X</td>\n",
       "      <td>0</td>\n",
       "    </tr>\n",
       "    <tr>\n",
       "      <th>1</th>\n",
       "      <td>276726</td>\n",
       "      <td>0155061224</td>\n",
       "      <td>5</td>\n",
       "    </tr>\n",
       "    <tr>\n",
       "      <th>2</th>\n",
       "      <td>276727</td>\n",
       "      <td>0446520802</td>\n",
       "      <td>0</td>\n",
       "    </tr>\n",
       "    <tr>\n",
       "      <th>3</th>\n",
       "      <td>276729</td>\n",
       "      <td>052165615X</td>\n",
       "      <td>3</td>\n",
       "    </tr>\n",
       "    <tr>\n",
       "      <th>4</th>\n",
       "      <td>276729</td>\n",
       "      <td>0521795028</td>\n",
       "      <td>6</td>\n",
       "    </tr>\n",
       "    <tr>\n",
       "      <th>5</th>\n",
       "      <td>276733</td>\n",
       "      <td>2080674722</td>\n",
       "      <td>0</td>\n",
       "    </tr>\n",
       "    <tr>\n",
       "      <th>6</th>\n",
       "      <td>276736</td>\n",
       "      <td>3257224281</td>\n",
       "      <td>8</td>\n",
       "    </tr>\n",
       "    <tr>\n",
       "      <th>7</th>\n",
       "      <td>276737</td>\n",
       "      <td>0600570967</td>\n",
       "      <td>6</td>\n",
       "    </tr>\n",
       "    <tr>\n",
       "      <th>8</th>\n",
       "      <td>276744</td>\n",
       "      <td>038550120X</td>\n",
       "      <td>7</td>\n",
       "    </tr>\n",
       "    <tr>\n",
       "      <th>9</th>\n",
       "      <td>276745</td>\n",
       "      <td>342310538</td>\n",
       "      <td>10</td>\n",
       "    </tr>\n",
       "    <tr>\n",
       "      <th>10</th>\n",
       "      <td>276746</td>\n",
       "      <td>0425115801</td>\n",
       "      <td>0</td>\n",
       "    </tr>\n",
       "    <tr>\n",
       "      <th>11</th>\n",
       "      <td>276746</td>\n",
       "      <td>0449006522</td>\n",
       "      <td>0</td>\n",
       "    </tr>\n",
       "    <tr>\n",
       "      <th>12</th>\n",
       "      <td>276746</td>\n",
       "      <td>0553561618</td>\n",
       "      <td>0</td>\n",
       "    </tr>\n",
       "    <tr>\n",
       "      <th>13</th>\n",
       "      <td>276746</td>\n",
       "      <td>055356451X</td>\n",
       "      <td>0</td>\n",
       "    </tr>\n",
       "    <tr>\n",
       "      <th>14</th>\n",
       "      <td>276746</td>\n",
       "      <td>0786013990</td>\n",
       "      <td>0</td>\n",
       "    </tr>\n",
       "    <tr>\n",
       "      <th>15</th>\n",
       "      <td>276746</td>\n",
       "      <td>0786014512</td>\n",
       "      <td>0</td>\n",
       "    </tr>\n",
       "    <tr>\n",
       "      <th>16</th>\n",
       "      <td>276747</td>\n",
       "      <td>0060517794</td>\n",
       "      <td>9</td>\n",
       "    </tr>\n",
       "    <tr>\n",
       "      <th>17</th>\n",
       "      <td>276747</td>\n",
       "      <td>0451192001</td>\n",
       "      <td>0</td>\n",
       "    </tr>\n",
       "    <tr>\n",
       "      <th>18</th>\n",
       "      <td>276747</td>\n",
       "      <td>0609801279</td>\n",
       "      <td>0</td>\n",
       "    </tr>\n",
       "    <tr>\n",
       "      <th>19</th>\n",
       "      <td>276747</td>\n",
       "      <td>0671537458</td>\n",
       "      <td>9</td>\n",
       "    </tr>\n",
       "    <tr>\n",
       "      <th>20</th>\n",
       "      <td>276747</td>\n",
       "      <td>0679776818</td>\n",
       "      <td>8</td>\n",
       "    </tr>\n",
       "    <tr>\n",
       "      <th>21</th>\n",
       "      <td>276747</td>\n",
       "      <td>0943066433</td>\n",
       "      <td>7</td>\n",
       "    </tr>\n",
       "    <tr>\n",
       "      <th>22</th>\n",
       "      <td>276747</td>\n",
       "      <td>1570231028</td>\n",
       "      <td>0</td>\n",
       "    </tr>\n",
       "    <tr>\n",
       "      <th>23</th>\n",
       "      <td>276747</td>\n",
       "      <td>1885408226</td>\n",
       "      <td>7</td>\n",
       "    </tr>\n",
       "    <tr>\n",
       "      <th>24</th>\n",
       "      <td>276748</td>\n",
       "      <td>0747558167</td>\n",
       "      <td>6</td>\n",
       "    </tr>\n",
       "    <tr>\n",
       "      <th>25</th>\n",
       "      <td>276748</td>\n",
       "      <td>3442437407</td>\n",
       "      <td>0</td>\n",
       "    </tr>\n",
       "    <tr>\n",
       "      <th>26</th>\n",
       "      <td>276751</td>\n",
       "      <td>033390804X</td>\n",
       "      <td>0</td>\n",
       "    </tr>\n",
       "    <tr>\n",
       "      <th>27</th>\n",
       "      <td>276751</td>\n",
       "      <td>3596218098</td>\n",
       "      <td>8</td>\n",
       "    </tr>\n",
       "    <tr>\n",
       "      <th>28</th>\n",
       "      <td>276754</td>\n",
       "      <td>0684867621</td>\n",
       "      <td>8</td>\n",
       "    </tr>\n",
       "    <tr>\n",
       "      <th>29</th>\n",
       "      <td>276755</td>\n",
       "      <td>0451166892</td>\n",
       "      <td>5</td>\n",
       "    </tr>\n",
       "    <tr>\n",
       "      <th>30</th>\n",
       "      <td>276760</td>\n",
       "      <td>8440682697</td>\n",
       "      <td>10</td>\n",
       "    </tr>\n",
       "    <tr>\n",
       "      <th>31</th>\n",
       "      <td>276762</td>\n",
       "      <td>034544003X</td>\n",
       "      <td>0</td>\n",
       "    </tr>\n",
       "    <tr>\n",
       "      <th>32</th>\n",
       "      <td>276762</td>\n",
       "      <td>0380000059</td>\n",
       "      <td>0</td>\n",
       "    </tr>\n",
       "    <tr>\n",
       "      <th>33</th>\n",
       "      <td>276762</td>\n",
       "      <td>0380711524</td>\n",
       "      <td>5</td>\n",
       "    </tr>\n",
       "    <tr>\n",
       "      <th>34</th>\n",
       "      <td>276762</td>\n",
       "      <td>0451167317</td>\n",
       "      <td>0</td>\n",
       "    </tr>\n",
       "    <tr>\n",
       "      <th>35</th>\n",
       "      <td>276762</td>\n",
       "      <td>0451454952</td>\n",
       "      <td>0</td>\n",
       "    </tr>\n",
       "    <tr>\n",
       "      <th>36</th>\n",
       "      <td>276762</td>\n",
       "      <td>0843920262</td>\n",
       "      <td>0</td>\n",
       "    </tr>\n",
       "    <tr>\n",
       "      <th>37</th>\n",
       "      <td>276762</td>\n",
       "      <td>3404122879</td>\n",
       "      <td>0</td>\n",
       "    </tr>\n",
       "    <tr>\n",
       "      <th>38</th>\n",
       "      <td>276762</td>\n",
       "      <td>3404182928</td>\n",
       "      <td>0</td>\n",
       "    </tr>\n",
       "    <tr>\n",
       "      <th>39</th>\n",
       "      <td>276762</td>\n",
       "      <td>3404611306</td>\n",
       "      <td>0</td>\n",
       "    </tr>\n",
       "    <tr>\n",
       "      <th>40</th>\n",
       "      <td>276762</td>\n",
       "      <td>342662429</td>\n",
       "      <td>0</td>\n",
       "    </tr>\n",
       "    <tr>\n",
       "      <th>41</th>\n",
       "      <td>276762</td>\n",
       "      <td>3426690179</td>\n",
       "      <td>0</td>\n",
       "    </tr>\n",
       "    <tr>\n",
       "      <th>42</th>\n",
       "      <td>276762</td>\n",
       "      <td>3442424216</td>\n",
       "      <td>0</td>\n",
       "    </tr>\n",
       "    <tr>\n",
       "      <th>43</th>\n",
       "      <td>276762</td>\n",
       "      <td>3442425573</td>\n",
       "      <td>0</td>\n",
       "    </tr>\n",
       "    <tr>\n",
       "      <th>44</th>\n",
       "      <td>276762</td>\n",
       "      <td>3453092007</td>\n",
       "      <td>8</td>\n",
       "    </tr>\n",
       "    <tr>\n",
       "      <th>45</th>\n",
       "      <td>276762</td>\n",
       "      <td>3453157745</td>\n",
       "      <td>0</td>\n",
       "    </tr>\n",
       "    <tr>\n",
       "      <th>46</th>\n",
       "      <td>276762</td>\n",
       "      <td>3453176944</td>\n",
       "      <td>0</td>\n",
       "    </tr>\n",
       "    <tr>\n",
       "      <th>47</th>\n",
       "      <td>276762</td>\n",
       "      <td>3453185137</td>\n",
       "      <td>0</td>\n",
       "    </tr>\n",
       "    <tr>\n",
       "      <th>48</th>\n",
       "      <td>276762</td>\n",
       "      <td>3453185323</td>\n",
       "      <td>0</td>\n",
       "    </tr>\n",
       "    <tr>\n",
       "      <th>49</th>\n",
       "      <td>276762</td>\n",
       "      <td>3453213025</td>\n",
       "      <td>3</td>\n",
       "    </tr>\n",
       "  </tbody>\n",
       "</table>\n",
       "</div>"
      ],
      "text/plain": [
       "    User-ID        ISBN  Book-Rating\n",
       "0    276725  034545104X            0\n",
       "1    276726  0155061224            5\n",
       "2    276727  0446520802            0\n",
       "3    276729  052165615X            3\n",
       "4    276729  0521795028            6\n",
       "5    276733  2080674722            0\n",
       "6    276736  3257224281            8\n",
       "7    276737  0600570967            6\n",
       "8    276744  038550120X            7\n",
       "9    276745   342310538           10\n",
       "10   276746  0425115801            0\n",
       "11   276746  0449006522            0\n",
       "12   276746  0553561618            0\n",
       "13   276746  055356451X            0\n",
       "14   276746  0786013990            0\n",
       "15   276746  0786014512            0\n",
       "16   276747  0060517794            9\n",
       "17   276747  0451192001            0\n",
       "18   276747  0609801279            0\n",
       "19   276747  0671537458            9\n",
       "20   276747  0679776818            8\n",
       "21   276747  0943066433            7\n",
       "22   276747  1570231028            0\n",
       "23   276747  1885408226            7\n",
       "24   276748  0747558167            6\n",
       "25   276748  3442437407            0\n",
       "26   276751  033390804X            0\n",
       "27   276751  3596218098            8\n",
       "28   276754  0684867621            8\n",
       "29   276755  0451166892            5\n",
       "30   276760  8440682697           10\n",
       "31   276762  034544003X            0\n",
       "32   276762  0380000059            0\n",
       "33   276762  0380711524            5\n",
       "34   276762  0451167317            0\n",
       "35   276762  0451454952            0\n",
       "36   276762  0843920262            0\n",
       "37   276762  3404122879            0\n",
       "38   276762  3404182928            0\n",
       "39   276762  3404611306            0\n",
       "40   276762   342662429            0\n",
       "41   276762  3426690179            0\n",
       "42   276762  3442424216            0\n",
       "43   276762  3442425573            0\n",
       "44   276762  3453092007            8\n",
       "45   276762  3453157745            0\n",
       "46   276762  3453176944            0\n",
       "47   276762  3453185137            0\n",
       "48   276762  3453185323            0\n",
       "49   276762  3453213025            3"
      ]
     },
     "execution_count": 612,
     "metadata": {},
     "output_type": "execute_result"
    }
   ],
   "source": [
    "df_ratings: DataFrame = pd.read_csv(\"../unprocessed-data/ratings.csv\", encoding='utf-8')\n",
    "\n",
    "df_ratings.head(50)\n",
    "\n",
    "# Todas as colunas de df_ratings são importantes"
   ]
  },
  {
   "cell_type": "code",
   "execution_count": 613,
   "id": "31dc97a9",
   "metadata": {},
   "outputs": [
    {
     "name": "stdout",
     "output_type": "stream",
     "text": [
      "<class 'pandas.core.frame.DataFrame'>\n",
      "RangeIndex: 1149780 entries, 0 to 1149779\n",
      "Data columns (total 3 columns):\n",
      " #   Column       Non-Null Count    Dtype \n",
      "---  ------       --------------    ----- \n",
      " 0   User-ID      1149780 non-null  int64 \n",
      " 1   ISBN         1149780 non-null  object\n",
      " 2   Book-Rating  1149780 non-null  int64 \n",
      "dtypes: int64(2), object(1)\n",
      "memory usage: 26.3+ MB\n"
     ]
    }
   ],
   "source": [
    "df_ratings.info()"
   ]
  },
  {
   "cell_type": "code",
   "execution_count": 614,
   "id": "a20eeea9",
   "metadata": {},
   "outputs": [
    {
     "data": {
      "application/vnd.microsoft.datawrangler.viewer.v0+json": {
       "columns": [
        {
         "name": "index",
         "rawType": "object",
         "type": "string"
        },
        {
         "name": "0",
         "rawType": "int64",
         "type": "integer"
        }
       ],
       "ref": "bcf106c8-b0eb-439a-b68b-ecdf51b45e5e",
       "rows": [
        [
         "User-ID",
         "0"
        ],
        [
         "ISBN",
         "0"
        ],
        [
         "Book-Rating",
         "0"
        ]
       ],
       "shape": {
        "columns": 1,
        "rows": 3
       }
      },
      "text/plain": [
       "User-ID        0\n",
       "ISBN           0\n",
       "Book-Rating    0\n",
       "dtype: int64"
      ]
     },
     "execution_count": 614,
     "metadata": {},
     "output_type": "execute_result"
    }
   ],
   "source": [
    "df_ratings.isna().sum()"
   ]
  },
  {
   "cell_type": "code",
   "execution_count": 615,
   "id": "1f50c721",
   "metadata": {},
   "outputs": [
    {
     "data": {
      "image/png": "[encoded data removed]",
      "text/plain": [
       "<Figure size 800x600 with 1 Axes>"
      ]
     },
     "metadata": {},
     "output_type": "display_data"
    }
   ],
   "source": [
    "plt.figure(figsize=(8, 6))\n",
    "sns.countplot(data=df_ratings, x='Book-Rating')\n",
    "plt.title('Distribution of Book Ratings')\n",
    "plt.show()"
   ]
  },
  {
   "cell_type": "code",
   "execution_count": 616,
   "id": "49593622",
   "metadata": {},
   "outputs": [
    {
     "data": {
      "application/vnd.microsoft.datawrangler.viewer.v0+json": {
       "columns": [
        {
         "name": "index",
         "rawType": "int64",
         "type": "integer"
        },
        {
         "name": "ISBN",
         "rawType": "object",
         "type": "string"
        },
        {
         "name": "Book-Title",
         "rawType": "object",
         "type": "string"
        },
        {
         "name": "Book-Author",
         "rawType": "object",
         "type": "string"
        },
        {
         "name": "Year-Of-Publication",
         "rawType": "object",
         "type": "string"
        },
        {
         "name": "Publisher",
         "rawType": "object",
         "type": "string"
        },
        {
         "name": "Image-URL-S",
         "rawType": "object",
         "type": "string"
        },
        {
         "name": "Image-URL-M",
         "rawType": "object",
         "type": "string"
        },
        {
         "name": "Image-URL-L",
         "rawType": "object",
         "type": "string"
        }
       ],
       "ref": "0636e35b-d4f6-4ce6-9e8f-8b47763ac449",
       "rows": [
        [
         "0",
         "0195153448",
         "Classical Mythology",
         "Mark P. O. Morford",
         "2002",
         "Oxford University Press",
         "http://images.amazon.com/images/P/0195153448.01.THUMBZZZ.jpg",
         "http://images.amazon.com/images/P/0195153448.01.MZZZZZZZ.jpg",
         "http://images.amazon.com/images/P/0195153448.01.LZZZZZZZ.jpg"
        ],
        [
         "1",
         "0002005018",
         "Clara Callan",
         "Richard Bruce Wright",
         "2001",
         "HarperFlamingo Canada",
         "http://images.amazon.com/images/P/0002005018.01.THUMBZZZ.jpg",
         "http://images.amazon.com/images/P/0002005018.01.MZZZZZZZ.jpg",
         "http://images.amazon.com/images/P/0002005018.01.LZZZZZZZ.jpg"
        ],
        [
         "2",
         "0060973129",
         "Decision in Normandy",
         "Carlo D'Este",
         "1991",
         "HarperPerennial",
         "http://images.amazon.com/images/P/0060973129.01.THUMBZZZ.jpg",
         "http://images.amazon.com/images/P/0060973129.01.MZZZZZZZ.jpg",
         "http://images.amazon.com/images/P/0060973129.01.LZZZZZZZ.jpg"
        ],
        [
         "3",
         "0374157065",
         "Flu: The Story of the Great Influenza Pandemic of 1918 and the Search for the Virus That Caused It",
         "Gina Bari Kolata",
         "1999",
         "Farrar Straus Giroux",
         "http://images.amazon.com/images/P/0374157065.01.THUMBZZZ.jpg",
         "http://images.amazon.com/images/P/0374157065.01.MZZZZZZZ.jpg",
         "http://images.amazon.com/images/P/0374157065.01.LZZZZZZZ.jpg"
        ],
        [
         "4",
         "0393045218",
         "The Mummies of Urumchi",
         "E. J. W. Barber",
         "1999",
         "W. W. Norton &amp; Company",
         "http://images.amazon.com/images/P/0393045218.01.THUMBZZZ.jpg",
         "http://images.amazon.com/images/P/0393045218.01.MZZZZZZZ.jpg",
         "http://images.amazon.com/images/P/0393045218.01.LZZZZZZZ.jpg"
        ]
       ],
       "shape": {
        "columns": 8,
        "rows": 5
       }
      },
      "text/html": [
       "<div>\n",
       "<style scoped>\n",
       "    .dataframe tbody tr th:only-of-type {\n",
       "        vertical-align: middle;\n",
       "    }\n",
       "\n",
       "    .dataframe tbody tr th {\n",
       "        vertical-align: top;\n",
       "    }\n",
       "\n",
       "    .dataframe thead th {\n",
       "        text-align: right;\n",
       "    }\n",
       "</style>\n",
       "<table border=\"1\" class=\"dataframe\">\n",
       "  <thead>\n",
       "    <tr style=\"text-align: right;\">\n",
       "      <th></th>\n",
       "      <th>ISBN</th>\n",
       "      <th>Book-Title</th>\n",
       "      <th>Book-Author</th>\n",
       "      <th>Year-Of-Publication</th>\n",
       "      <th>Publisher</th>\n",
       "      <th>Image-URL-S</th>\n",
       "      <th>Image-URL-M</th>\n",
       "      <th>Image-URL-L</th>\n",
       "    </tr>\n",
       "  </thead>\n",
       "  <tbody>\n",
       "    <tr>\n",
       "      <th>0</th>\n",
       "      <td>0195153448</td>\n",
       "      <td>Classical Mythology</td>\n",
       "      <td>Mark P. O. Morford</td>\n",
       "      <td>2002</td>\n",
       "      <td>Oxford University Press</td>\n",
       "      <td>http://images.amazon.com/images/P/0195153448.0...</td>\n",
       "      <td>http://images.amazon.com/images/P/0195153448.0...</td>\n",
       "      <td>http://images.amazon.com/images/P/0195153448.0...</td>\n",
       "    </tr>\n",
       "    <tr>\n",
       "      <th>1</th>\n",
       "      <td>0002005018</td>\n",
       "      <td>Clara Callan</td>\n",
       "      <td>Richard Bruce Wright</td>\n",
       "      <td>2001</td>\n",
       "      <td>HarperFlamingo Canada</td>\n",
       "      <td>http://images.amazon.com/images/P/0002005018.0...</td>\n",
       "      <td>http://images.amazon.com/images/P/0002005018.0...</td>\n",
       "      <td>http://images.amazon.com/images/P/0002005018.0...</td>\n",
       "    </tr>\n",
       "    <tr>\n",
       "      <th>2</th>\n",
       "      <td>0060973129</td>\n",
       "      <td>Decision in Normandy</td>\n",
       "      <td>Carlo D'Este</td>\n",
       "      <td>1991</td>\n",
       "      <td>HarperPerennial</td>\n",
       "      <td>http://images.amazon.com/images/P/0060973129.0...</td>\n",
       "      <td>http://images.amazon.com/images/P/0060973129.0...</td>\n",
       "      <td>http://images.amazon.com/images/P/0060973129.0...</td>\n",
       "    </tr>\n",
       "    <tr>\n",
       "      <th>3</th>\n",
       "      <td>0374157065</td>\n",
       "      <td>Flu: The Story of the Great Influenza Pandemic...</td>\n",
       "      <td>Gina Bari Kolata</td>\n",
       "      <td>1999</td>\n",
       "      <td>Farrar Straus Giroux</td>\n",
       "      <td>http://images.amazon.com/images/P/0374157065.0...</td>\n",
       "      <td>http://images.amazon.com/images/P/0374157065.0...</td>\n",
       "      <td>http://images.amazon.com/images/P/0374157065.0...</td>\n",
       "    </tr>\n",
       "    <tr>\n",
       "      <th>4</th>\n",
       "      <td>0393045218</td>\n",
       "      <td>The Mummies of Urumchi</td>\n",
       "      <td>E. J. W. Barber</td>\n",
       "      <td>1999</td>\n",
       "      <td>W. W. Norton &amp;amp; Company</td>\n",
       "      <td>http://images.amazon.com/images/P/0393045218.0...</td>\n",
       "      <td>http://images.amazon.com/images/P/0393045218.0...</td>\n",
       "      <td>http://images.amazon.com/images/P/0393045218.0...</td>\n",
       "    </tr>\n",
       "  </tbody>\n",
       "</table>\n",
       "</div>"
      ],
      "text/plain": [
       "         ISBN                                         Book-Title  \\\n",
       "0  0195153448                                Classical Mythology   \n",
       "1  0002005018                                       Clara Callan   \n",
       "2  0060973129                               Decision in Normandy   \n",
       "3  0374157065  Flu: The Story of the Great Influenza Pandemic...   \n",
       "4  0393045218                             The Mummies of Urumchi   \n",
       "\n",
       "            Book-Author Year-Of-Publication                   Publisher  \\\n",
       "0    Mark P. O. Morford                2002     Oxford University Press   \n",
       "1  Richard Bruce Wright                2001       HarperFlamingo Canada   \n",
       "2          Carlo D'Este                1991             HarperPerennial   \n",
       "3      Gina Bari Kolata                1999        Farrar Straus Giroux   \n",
       "4       E. J. W. Barber                1999  W. W. Norton &amp; Company   \n",
       "\n",
       "                                         Image-URL-S  \\\n",
       "0  http://images.amazon.com/images/P/0195153448.0...   \n",
       "1  http://images.amazon.com/images/P/0002005018.0...   \n",
       "2  http://images.amazon.com/images/P/0060973129.0...   \n",
       "3  http://images.amazon.com/images/P/0374157065.0...   \n",
       "4  http://images.amazon.com/images/P/0393045218.0...   \n",
       "\n",
       "                                         Image-URL-M  \\\n",
       "0  http://images.amazon.com/images/P/0195153448.0...   \n",
       "1  http://images.amazon.com/images/P/0002005018.0...   \n",
       "2  http://images.amazon.com/images/P/0060973129.0...   \n",
       "3  http://images.amazon.com/images/P/0374157065.0...   \n",
       "4  http://images.amazon.com/images/P/0393045218.0...   \n",
       "\n",
       "                                         Image-URL-L  \n",
       "0  http://images.amazon.com/images/P/0195153448.0...  \n",
       "1  http://images.amazon.com/images/P/0002005018.0...  \n",
       "2  http://images.amazon.com/images/P/0060973129.0...  \n",
       "3  http://images.amazon.com/images/P/0374157065.0...  \n",
       "4  http://images.amazon.com/images/P/0393045218.0...  "
      ]
     },
     "execution_count": 616,
     "metadata": {},
     "output_type": "execute_result"
    }
   ],
   "source": [
    "df_books: DataFrame = pd.read_csv(\"../unprocessed-data/books.csv\", encoding='utf-8', low_memory=False)\n",
    "\n",
    "df_books.head()\n"
   ]
  },
  {
   "cell_type": "code",
   "execution_count": 617,
   "id": "8fb48bd1",
   "metadata": {},
   "outputs": [
    {
     "name": "stdout",
     "output_type": "stream",
     "text": [
      "<class 'pandas.core.frame.DataFrame'>\n",
      "RangeIndex: 271360 entries, 0 to 271359\n",
      "Data columns (total 8 columns):\n",
      " #   Column               Non-Null Count   Dtype \n",
      "---  ------               --------------   ----- \n",
      " 0   ISBN                 271360 non-null  object\n",
      " 1   Book-Title           271360 non-null  object\n",
      " 2   Book-Author          271358 non-null  object\n",
      " 3   Year-Of-Publication  271360 non-null  object\n",
      " 4   Publisher            271358 non-null  object\n",
      " 5   Image-URL-S          271360 non-null  object\n",
      " 6   Image-URL-M          271360 non-null  object\n",
      " 7   Image-URL-L          271357 non-null  object\n",
      "dtypes: object(8)\n",
      "memory usage: 16.6+ MB\n"
     ]
    }
   ],
   "source": [
    "df_books.info()"
   ]
  },
  {
   "cell_type": "code",
   "execution_count": 618,
   "id": "e54a6c1f",
   "metadata": {},
   "outputs": [
    {
     "data": {
      "application/vnd.microsoft.datawrangler.viewer.v0+json": {
       "columns": [
        {
         "name": "index",
         "rawType": "object",
         "type": "string"
        },
        {
         "name": "0",
         "rawType": "int64",
         "type": "integer"
        }
       ],
       "ref": "c384e6f2-3b4d-4c84-8334-427b29d96625",
       "rows": [
        [
         "ISBN",
         "0"
        ],
        [
         "Book-Title",
         "0"
        ],
        [
         "Book-Author",
         "2"
        ],
        [
         "Year-Of-Publication",
         "0"
        ],
        [
         "Publisher",
         "2"
        ],
        [
         "Image-URL-S",
         "0"
        ],
        [
         "Image-URL-M",
         "0"
        ],
        [
         "Image-URL-L",
         "3"
        ]
       ],
       "shape": {
        "columns": 1,
        "rows": 8
       }
      },
      "text/plain": [
       "ISBN                   0\n",
       "Book-Title             0\n",
       "Book-Author            2\n",
       "Year-Of-Publication    0\n",
       "Publisher              2\n",
       "Image-URL-S            0\n",
       "Image-URL-M            0\n",
       "Image-URL-L            3\n",
       "dtype: int64"
      ]
     },
     "execution_count": 618,
     "metadata": {},
     "output_type": "execute_result"
    }
   ],
   "source": [
    "df_books.isna().sum()"
   ]
  },
  {
   "cell_type": "code",
   "execution_count": 619,
   "id": "9d2a76f2",
   "metadata": {},
   "outputs": [],
   "source": [
    "df_books[\"Book-Author\"] = df_books['Book-Author'].fillna('Unknown Author')\n",
    "df_books[\"Publisher\"] = df_books['Publisher'].fillna('Unknown Publisher')"
   ]
  },
  {
   "cell_type": "code",
   "execution_count": 620,
   "id": "6edabee3",
   "metadata": {},
   "outputs": [],
   "source": [
    "df_books['Year-Of-Publication'] = pd.to_numeric(df_books['Year-Of-Publication'], errors='coerce')"
   ]
  },
  {
   "cell_type": "code",
   "execution_count": 621,
   "id": "51a01dee",
   "metadata": {},
   "outputs": [],
   "source": [
    "df_books.isna().sum()\n",
    "df_books: DataFrame = df_books.dropna(subset=['Year-Of-Publication'])"
   ]
  },
  {
   "cell_type": "code",
   "execution_count": 622,
   "id": "9b48ad95",
   "metadata": {},
   "outputs": [
    {
     "data": {
      "application/vnd.microsoft.datawrangler.viewer.v0+json": {
       "columns": [
        {
         "name": "index",
         "rawType": "int64",
         "type": "integer"
        },
        {
         "name": "User-ID",
         "rawType": "int64",
         "type": "integer"
        },
        {
         "name": "Location",
         "rawType": "object",
         "type": "string"
        },
        {
         "name": "Age",
         "rawType": "float64",
         "type": "float"
        }
       ],
       "ref": "8fe5887d-ec2e-46d1-ad49-2fc2febc3629",
       "rows": [
        [
         "0",
         "1",
         "nyc, new york, usa",
         null
        ],
        [
         "1",
         "2",
         "stockton, california, usa",
         "18.0"
        ],
        [
         "2",
         "3",
         "moscow, yukon territory, russia",
         null
        ],
        [
         "3",
         "4",
         "porto, v.n.gaia, portugal",
         "17.0"
        ],
        [
         "4",
         "5",
         "farnborough, hants, united kingdom",
         null
        ]
       ],
       "shape": {
        "columns": 3,
        "rows": 5
       }
      },
      "text/html": [
       "<div>\n",
       "<style scoped>\n",
       "    .dataframe tbody tr th:only-of-type {\n",
       "        vertical-align: middle;\n",
       "    }\n",
       "\n",
       "    .dataframe tbody tr th {\n",
       "        vertical-align: top;\n",
       "    }\n",
       "\n",
       "    .dataframe thead th {\n",
       "        text-align: right;\n",
       "    }\n",
       "</style>\n",
       "<table border=\"1\" class=\"dataframe\">\n",
       "  <thead>\n",
       "    <tr style=\"text-align: right;\">\n",
       "      <th></th>\n",
       "      <th>User-ID</th>\n",
       "      <th>Location</th>\n",
       "      <th>Age</th>\n",
       "    </tr>\n",
       "  </thead>\n",
       "  <tbody>\n",
       "    <tr>\n",
       "      <th>0</th>\n",
       "      <td>1</td>\n",
       "      <td>nyc, new york, usa</td>\n",
       "      <td>NaN</td>\n",
       "    </tr>\n",
       "    <tr>\n",
       "      <th>1</th>\n",
       "      <td>2</td>\n",
       "      <td>stockton, california, usa</td>\n",
       "      <td>18.0</td>\n",
       "    </tr>\n",
       "    <tr>\n",
       "      <th>2</th>\n",
       "      <td>3</td>\n",
       "      <td>moscow, yukon territory, russia</td>\n",
       "      <td>NaN</td>\n",
       "    </tr>\n",
       "    <tr>\n",
       "      <th>3</th>\n",
       "      <td>4</td>\n",
       "      <td>porto, v.n.gaia, portugal</td>\n",
       "      <td>17.0</td>\n",
       "    </tr>\n",
       "    <tr>\n",
       "      <th>4</th>\n",
       "      <td>5</td>\n",
       "      <td>farnborough, hants, united kingdom</td>\n",
       "      <td>NaN</td>\n",
       "    </tr>\n",
       "  </tbody>\n",
       "</table>\n",
       "</div>"
      ],
      "text/plain": [
       "   User-ID                            Location   Age\n",
       "0        1                  nyc, new york, usa   NaN\n",
       "1        2           stockton, california, usa  18.0\n",
       "2        3     moscow, yukon territory, russia   NaN\n",
       "3        4           porto, v.n.gaia, portugal  17.0\n",
       "4        5  farnborough, hants, united kingdom   NaN"
      ]
     },
     "execution_count": 622,
     "metadata": {},
     "output_type": "execute_result"
    }
   ],
   "source": [
    "df_users: DataFrame = pd.read_csv(\"../unprocessed-data/users.csv\")\n",
    "\n",
    "df_users.head()"
   ]
  },
  {
   "cell_type": "code",
   "execution_count": 623,
   "id": "0d3bd0b6",
   "metadata": {},
   "outputs": [
    {
     "name": "stdout",
     "output_type": "stream",
     "text": [
      "<class 'pandas.core.frame.DataFrame'>\n",
      "RangeIndex: 278858 entries, 0 to 278857\n",
      "Data columns (total 3 columns):\n",
      " #   Column    Non-Null Count   Dtype  \n",
      "---  ------    --------------   -----  \n",
      " 0   User-ID   278858 non-null  int64  \n",
      " 1   Location  278858 non-null  object \n",
      " 2   Age       168096 non-null  float64\n",
      "dtypes: float64(1), int64(1), object(1)\n",
      "memory usage: 6.4+ MB\n"
     ]
    }
   ],
   "source": [
    "df_users.info()"
   ]
  },
  {
   "cell_type": "code",
   "execution_count": 624,
   "id": "a20de0ae",
   "metadata": {},
   "outputs": [
    {
     "data": {
      "application/vnd.microsoft.datawrangler.viewer.v0+json": {
       "columns": [
        {
         "name": "index",
         "rawType": "object",
         "type": "string"
        },
        {
         "name": "0",
         "rawType": "int64",
         "type": "integer"
        }
       ],
       "ref": "deda9b39-06ac-4797-a5c7-cfd254dc9b0a",
       "rows": [
        [
         "User-ID",
         "0"
        ],
        [
         "Location",
         "0"
        ],
        [
         "Age",
         "110762"
        ]
       ],
       "shape": {
        "columns": 1,
        "rows": 3
       }
      },
      "text/plain": [
       "User-ID          0\n",
       "Location         0\n",
       "Age         110762\n",
       "dtype: int64"
      ]
     },
     "execution_count": 624,
     "metadata": {},
     "output_type": "execute_result"
    }
   ],
   "source": [
    "df_users.isna().sum()"
   ]
  },
  {
   "cell_type": "code",
   "execution_count": 625,
   "id": "3d44f327",
   "metadata": {},
   "outputs": [],
   "source": [
    "df_users: DataFrame = df_users.drop(columns=\"Age\")"
   ]
  },
  {
   "cell_type": "code",
   "execution_count": 626,
   "id": "5fd5bb11",
   "metadata": {},
   "outputs": [
    {
     "data": {
      "application/vnd.microsoft.datawrangler.viewer.v0+json": {
       "columns": [
        {
         "name": "index",
         "rawType": "int64",
         "type": "integer"
        },
        {
         "name": "User-ID",
         "rawType": "int64",
         "type": "integer"
        },
        {
         "name": "Location",
         "rawType": "object",
         "type": "string"
        }
       ],
       "ref": "332413b4-8f5c-4cb7-98a4-95e686524fbc",
       "rows": [
        [
         "0",
         "1",
         "nyc, new york, usa"
        ],
        [
         "1",
         "2",
         "stockton, california, usa"
        ],
        [
         "2",
         "3",
         "moscow, yukon territory, russia"
        ],
        [
         "3",
         "4",
         "porto, v.n.gaia, portugal"
        ],
        [
         "4",
         "5",
         "farnborough, hants, united kingdom"
        ]
       ],
       "shape": {
        "columns": 2,
        "rows": 5
       }
      },
      "text/html": [
       "<div>\n",
       "<style scoped>\n",
       "    .dataframe tbody tr th:only-of-type {\n",
       "        vertical-align: middle;\n",
       "    }\n",
       "\n",
       "    .dataframe tbody tr th {\n",
       "        vertical-align: top;\n",
       "    }\n",
       "\n",
       "    .dataframe thead th {\n",
       "        text-align: right;\n",
       "    }\n",
       "</style>\n",
       "<table border=\"1\" class=\"dataframe\">\n",
       "  <thead>\n",
       "    <tr style=\"text-align: right;\">\n",
       "      <th></th>\n",
       "      <th>User-ID</th>\n",
       "      <th>Location</th>\n",
       "    </tr>\n",
       "  </thead>\n",
       "  <tbody>\n",
       "    <tr>\n",
       "      <th>0</th>\n",
       "      <td>1</td>\n",
       "      <td>nyc, new york, usa</td>\n",
       "    </tr>\n",
       "    <tr>\n",
       "      <th>1</th>\n",
       "      <td>2</td>\n",
       "      <td>stockton, california, usa</td>\n",
       "    </tr>\n",
       "    <tr>\n",
       "      <th>2</th>\n",
       "      <td>3</td>\n",
       "      <td>moscow, yukon territory, russia</td>\n",
       "    </tr>\n",
       "    <tr>\n",
       "      <th>3</th>\n",
       "      <td>4</td>\n",
       "      <td>porto, v.n.gaia, portugal</td>\n",
       "    </tr>\n",
       "    <tr>\n",
       "      <th>4</th>\n",
       "      <td>5</td>\n",
       "      <td>farnborough, hants, united kingdom</td>\n",
       "    </tr>\n",
       "  </tbody>\n",
       "</table>\n",
       "</div>"
      ],
      "text/plain": [
       "   User-ID                            Location\n",
       "0        1                  nyc, new york, usa\n",
       "1        2           stockton, california, usa\n",
       "2        3     moscow, yukon territory, russia\n",
       "3        4           porto, v.n.gaia, portugal\n",
       "4        5  farnborough, hants, united kingdom"
      ]
     },
     "execution_count": 626,
     "metadata": {},
     "output_type": "execute_result"
    }
   ],
   "source": [
    "df_users.head()"
   ]
  },
  {
   "cell_type": "code",
   "execution_count": 627,
   "id": "5dd61ec3",
   "metadata": {},
   "outputs": [
    {
     "data": {
      "application/vnd.microsoft.datawrangler.viewer.v0+json": {
       "columns": [
        {
         "name": "index",
         "rawType": "int64",
         "type": "integer"
        },
        {
         "name": "User-ID",
         "rawType": "int64",
         "type": "integer"
        },
        {
         "name": "ISBN",
         "rawType": "object",
         "type": "string"
        },
        {
         "name": "Book-Rating",
         "rawType": "int64",
         "type": "integer"
        },
        {
         "name": "Book-Title",
         "rawType": "object",
         "type": "string"
        },
        {
         "name": "Book-Author",
         "rawType": "object",
         "type": "string"
        },
        {
         "name": "Year-Of-Publication",
         "rawType": "float64",
         "type": "float"
        },
        {
         "name": "Publisher",
         "rawType": "object",
         "type": "string"
        },
        {
         "name": "Image-URL-S",
         "rawType": "object",
         "type": "string"
        },
        {
         "name": "Image-URL-M",
         "rawType": "object",
         "type": "string"
        },
        {
         "name": "Image-URL-L",
         "rawType": "object",
         "type": "string"
        }
       ],
       "ref": "07acb27a-cccf-49a4-8b47-48838f31a3d8",
       "rows": [
        [
         "0",
         "276725",
         "034545104X",
         "0",
         "Flesh Tones: A Novel",
         "M. J. Rose",
         "2002.0",
         "Ballantine Books",
         "http://images.amazon.com/images/P/034545104X.01.THUMBZZZ.jpg",
         "http://images.amazon.com/images/P/034545104X.01.MZZZZZZZ.jpg",
         "http://images.amazon.com/images/P/034545104X.01.LZZZZZZZ.jpg"
        ],
        [
         "1",
         "276726",
         "0155061224",
         "5",
         "Rites of Passage",
         "Judith Rae",
         "2001.0",
         "Heinle",
         "http://images.amazon.com/images/P/0155061224.01.THUMBZZZ.jpg",
         "http://images.amazon.com/images/P/0155061224.01.MZZZZZZZ.jpg",
         "http://images.amazon.com/images/P/0155061224.01.LZZZZZZZ.jpg"
        ],
        [
         "2",
         "276727",
         "0446520802",
         "0",
         "The Notebook",
         "Nicholas Sparks",
         "1996.0",
         "Warner Books",
         "http://images.amazon.com/images/P/0446520802.01.THUMBZZZ.jpg",
         "http://images.amazon.com/images/P/0446520802.01.MZZZZZZZ.jpg",
         "http://images.amazon.com/images/P/0446520802.01.LZZZZZZZ.jpg"
        ],
        [
         "3",
         "276729",
         "052165615X",
         "3",
         "Help!: Level 1",
         "Philip Prowse",
         "1999.0",
         "Cambridge University Press",
         "http://images.amazon.com/images/P/052165615X.01.THUMBZZZ.jpg",
         "http://images.amazon.com/images/P/052165615X.01.MZZZZZZZ.jpg",
         "http://images.amazon.com/images/P/052165615X.01.LZZZZZZZ.jpg"
        ],
        [
         "4",
         "276729",
         "0521795028",
         "6",
         "The Amsterdam Connection : Level 4 (Cambridge English Readers)",
         "Sue Leather",
         "2001.0",
         "Cambridge University Press",
         "http://images.amazon.com/images/P/0521795028.01.THUMBZZZ.jpg",
         "http://images.amazon.com/images/P/0521795028.01.MZZZZZZZ.jpg",
         "http://images.amazon.com/images/P/0521795028.01.LZZZZZZZ.jpg"
        ]
       ],
       "shape": {
        "columns": 10,
        "rows": 5
       }
      },
      "text/html": [
       "<div>\n",
       "<style scoped>\n",
       "    .dataframe tbody tr th:only-of-type {\n",
       "        vertical-align: middle;\n",
       "    }\n",
       "\n",
       "    .dataframe tbody tr th {\n",
       "        vertical-align: top;\n",
       "    }\n",
       "\n",
       "    .dataframe thead th {\n",
       "        text-align: right;\n",
       "    }\n",
       "</style>\n",
       "<table border=\"1\" class=\"dataframe\">\n",
       "  <thead>\n",
       "    <tr style=\"text-align: right;\">\n",
       "      <th></th>\n",
       "      <th>User-ID</th>\n",
       "      <th>ISBN</th>\n",
       "      <th>Book-Rating</th>\n",
       "      <th>Book-Title</th>\n",
       "      <th>Book-Author</th>\n",
       "      <th>Year-Of-Publication</th>\n",
       "      <th>Publisher</th>\n",
       "      <th>Image-URL-S</th>\n",
       "      <th>Image-URL-M</th>\n",
       "      <th>Image-URL-L</th>\n",
       "    </tr>\n",
       "  </thead>\n",
       "  <tbody>\n",
       "    <tr>\n",
       "      <th>0</th>\n",
       "      <td>276725</td>\n",
       "      <td>034545104X</td>\n",
       "      <td>0</td>\n",
       "      <td>Flesh Tones: A Novel</td>\n",
       "      <td>M. J. Rose</td>\n",
       "      <td>2002.0</td>\n",
       "      <td>Ballantine Books</td>\n",
       "      <td>http://images.amazon.com/images/P/034545104X.0...</td>\n",
       "      <td>http://images.amazon.com/images/P/034545104X.0...</td>\n",
       "      <td>http://images.amazon.com/images/P/034545104X.0...</td>\n",
       "    </tr>\n",
       "    <tr>\n",
       "      <th>1</th>\n",
       "      <td>276726</td>\n",
       "      <td>0155061224</td>\n",
       "      <td>5</td>\n",
       "      <td>Rites of Passage</td>\n",
       "      <td>Judith Rae</td>\n",
       "      <td>2001.0</td>\n",
       "      <td>Heinle</td>\n",
       "      <td>http://images.amazon.com/images/P/0155061224.0...</td>\n",
       "      <td>http://images.amazon.com/images/P/0155061224.0...</td>\n",
       "      <td>http://images.amazon.com/images/P/0155061224.0...</td>\n",
       "    </tr>\n",
       "    <tr>\n",
       "      <th>2</th>\n",
       "      <td>276727</td>\n",
       "      <td>0446520802</td>\n",
       "      <td>0</td>\n",
       "      <td>The Notebook</td>\n",
       "      <td>Nicholas Sparks</td>\n",
       "      <td>1996.0</td>\n",
       "      <td>Warner Books</td>\n",
       "      <td>http://images.amazon.com/images/P/0446520802.0...</td>\n",
       "      <td>http://images.amazon.com/images/P/0446520802.0...</td>\n",
       "      <td>http://images.amazon.com/images/P/0446520802.0...</td>\n",
       "    </tr>\n",
       "    <tr>\n",
       "      <th>3</th>\n",
       "      <td>276729</td>\n",
       "      <td>052165615X</td>\n",
       "      <td>3</td>\n",
       "      <td>Help!: Level 1</td>\n",
       "      <td>Philip Prowse</td>\n",
       "      <td>1999.0</td>\n",
       "      <td>Cambridge University Press</td>\n",
       "      <td>http://images.amazon.com/images/P/052165615X.0...</td>\n",
       "      <td>http://images.amazon.com/images/P/052165615X.0...</td>\n",
       "      <td>http://images.amazon.com/images/P/052165615X.0...</td>\n",
       "    </tr>\n",
       "    <tr>\n",
       "      <th>4</th>\n",
       "      <td>276729</td>\n",
       "      <td>0521795028</td>\n",
       "      <td>6</td>\n",
       "      <td>The Amsterdam Connection : Level 4 (Cambridge ...</td>\n",
       "      <td>Sue Leather</td>\n",
       "      <td>2001.0</td>\n",
       "      <td>Cambridge University Press</td>\n",
       "      <td>http://images.amazon.com/images/P/0521795028.0...</td>\n",
       "      <td>http://images.amazon.com/images/P/0521795028.0...</td>\n",
       "      <td>http://images.amazon.com/images/P/0521795028.0...</td>\n",
       "    </tr>\n",
       "  </tbody>\n",
       "</table>\n",
       "</div>"
      ],
      "text/plain": [
       "   User-ID        ISBN  Book-Rating  \\\n",
       "0   276725  034545104X            0   \n",
       "1   276726  0155061224            5   \n",
       "2   276727  0446520802            0   \n",
       "3   276729  052165615X            3   \n",
       "4   276729  0521795028            6   \n",
       "\n",
       "                                          Book-Title      Book-Author  \\\n",
       "0                               Flesh Tones: A Novel       M. J. Rose   \n",
       "1                                   Rites of Passage       Judith Rae   \n",
       "2                                       The Notebook  Nicholas Sparks   \n",
       "3                                     Help!: Level 1    Philip Prowse   \n",
       "4  The Amsterdam Connection : Level 4 (Cambridge ...      Sue Leather   \n",
       "\n",
       "   Year-Of-Publication                   Publisher  \\\n",
       "0               2002.0            Ballantine Books   \n",
       "1               2001.0                      Heinle   \n",
       "2               1996.0                Warner Books   \n",
       "3               1999.0  Cambridge University Press   \n",
       "4               2001.0  Cambridge University Press   \n",
       "\n",
       "                                         Image-URL-S  \\\n",
       "0  http://images.amazon.com/images/P/034545104X.0...   \n",
       "1  http://images.amazon.com/images/P/0155061224.0...   \n",
       "2  http://images.amazon.com/images/P/0446520802.0...   \n",
       "3  http://images.amazon.com/images/P/052165615X.0...   \n",
       "4  http://images.amazon.com/images/P/0521795028.0...   \n",
       "\n",
       "                                         Image-URL-M  \\\n",
       "0  http://images.amazon.com/images/P/034545104X.0...   \n",
       "1  http://images.amazon.com/images/P/0155061224.0...   \n",
       "2  http://images.amazon.com/images/P/0446520802.0...   \n",
       "3  http://images.amazon.com/images/P/052165615X.0...   \n",
       "4  http://images.amazon.com/images/P/0521795028.0...   \n",
       "\n",
       "                                         Image-URL-L  \n",
       "0  http://images.amazon.com/images/P/034545104X.0...  \n",
       "1  http://images.amazon.com/images/P/0155061224.0...  \n",
       "2  http://images.amazon.com/images/P/0446520802.0...  \n",
       "3  http://images.amazon.com/images/P/052165615X.0...  \n",
       "4  http://images.amazon.com/images/P/0521795028.0...  "
      ]
     },
     "execution_count": 627,
     "metadata": {},
     "output_type": "execute_result"
    }
   ],
   "source": [
    "df_books_rating: DataFrame = pd.merge(df_ratings, df_books, on=\"ISBN\", how=\"inner\")\n",
    "\n",
    "df_books_rating.head()"
   ]
  },
  {
   "cell_type": "code",
   "execution_count": 628,
   "id": "b045f6cb",
   "metadata": {},
   "outputs": [],
   "source": [
    "df_books_rating.drop(columns=[\"Image-URL-S\", \"Image-URL-M\", \"Image-URL-L\"], inplace=True)"
   ]
  },
  {
   "cell_type": "code",
   "execution_count": 629,
   "id": "f2237584",
   "metadata": {},
   "outputs": [
    {
     "data": {
      "application/vnd.microsoft.datawrangler.viewer.v0+json": {
       "columns": [
        {
         "name": "index",
         "rawType": "int64",
         "type": "integer"
        },
        {
         "name": "User-ID",
         "rawType": "int64",
         "type": "integer"
        },
        {
         "name": "ISBN",
         "rawType": "object",
         "type": "string"
        },
        {
         "name": "Book-Rating",
         "rawType": "int64",
         "type": "integer"
        },
        {
         "name": "Book-Title",
         "rawType": "object",
         "type": "string"
        },
        {
         "name": "Book-Author",
         "rawType": "object",
         "type": "string"
        },
        {
         "name": "Year-Of-Publication",
         "rawType": "float64",
         "type": "float"
        },
        {
         "name": "Publisher",
         "rawType": "object",
         "type": "string"
        }
       ],
       "ref": "367bd683-271f-400d-9925-e887cb177e1d",
       "rows": [
        [
         "0",
         "276725",
         "034545104X",
         "0",
         "Flesh Tones: A Novel",
         "M. J. Rose",
         "2002.0",
         "Ballantine Books"
        ],
        [
         "1",
         "276726",
         "0155061224",
         "5",
         "Rites of Passage",
         "Judith Rae",
         "2001.0",
         "Heinle"
        ],
        [
         "2",
         "276727",
         "0446520802",
         "0",
         "The Notebook",
         "Nicholas Sparks",
         "1996.0",
         "Warner Books"
        ],
        [
         "3",
         "276729",
         "052165615X",
         "3",
         "Help!: Level 1",
         "Philip Prowse",
         "1999.0",
         "Cambridge University Press"
        ],
        [
         "4",
         "276729",
         "0521795028",
         "6",
         "The Amsterdam Connection : Level 4 (Cambridge English Readers)",
         "Sue Leather",
         "2001.0",
         "Cambridge University Press"
        ]
       ],
       "shape": {
        "columns": 7,
        "rows": 5
       }
      },
      "text/html": [
       "<div>\n",
       "<style scoped>\n",
       "    .dataframe tbody tr th:only-of-type {\n",
       "        vertical-align: middle;\n",
       "    }\n",
       "\n",
       "    .dataframe tbody tr th {\n",
       "        vertical-align: top;\n",
       "    }\n",
       "\n",
       "    .dataframe thead th {\n",
       "        text-align: right;\n",
       "    }\n",
       "</style>\n",
       "<table border=\"1\" class=\"dataframe\">\n",
       "  <thead>\n",
       "    <tr style=\"text-align: right;\">\n",
       "      <th></th>\n",
       "      <th>User-ID</th>\n",
       "      <th>ISBN</th>\n",
       "      <th>Book-Rating</th>\n",
       "      <th>Book-Title</th>\n",
       "      <th>Book-Author</th>\n",
       "      <th>Year-Of-Publication</th>\n",
       "      <th>Publisher</th>\n",
       "    </tr>\n",
       "  </thead>\n",
       "  <tbody>\n",
       "    <tr>\n",
       "      <th>0</th>\n",
       "      <td>276725</td>\n",
       "      <td>034545104X</td>\n",
       "      <td>0</td>\n",
       "      <td>Flesh Tones: A Novel</td>\n",
       "      <td>M. J. Rose</td>\n",
       "      <td>2002.0</td>\n",
       "      <td>Ballantine Books</td>\n",
       "    </tr>\n",
       "    <tr>\n",
       "      <th>1</th>\n",
       "      <td>276726</td>\n",
       "      <td>0155061224</td>\n",
       "      <td>5</td>\n",
       "      <td>Rites of Passage</td>\n",
       "      <td>Judith Rae</td>\n",
       "      <td>2001.0</td>\n",
       "      <td>Heinle</td>\n",
       "    </tr>\n",
       "    <tr>\n",
       "      <th>2</th>\n",
       "      <td>276727</td>\n",
       "      <td>0446520802</td>\n",
       "      <td>0</td>\n",
       "      <td>The Notebook</td>\n",
       "      <td>Nicholas Sparks</td>\n",
       "      <td>1996.0</td>\n",
       "      <td>Warner Books</td>\n",
       "    </tr>\n",
       "    <tr>\n",
       "      <th>3</th>\n",
       "      <td>276729</td>\n",
       "      <td>052165615X</td>\n",
       "      <td>3</td>\n",
       "      <td>Help!: Level 1</td>\n",
       "      <td>Philip Prowse</td>\n",
       "      <td>1999.0</td>\n",
       "      <td>Cambridge University Press</td>\n",
       "    </tr>\n",
       "    <tr>\n",
       "      <th>4</th>\n",
       "      <td>276729</td>\n",
       "      <td>0521795028</td>\n",
       "      <td>6</td>\n",
       "      <td>The Amsterdam Connection : Level 4 (Cambridge ...</td>\n",
       "      <td>Sue Leather</td>\n",
       "      <td>2001.0</td>\n",
       "      <td>Cambridge University Press</td>\n",
       "    </tr>\n",
       "  </tbody>\n",
       "</table>\n",
       "</div>"
      ],
      "text/plain": [
       "   User-ID        ISBN  Book-Rating  \\\n",
       "0   276725  034545104X            0   \n",
       "1   276726  0155061224            5   \n",
       "2   276727  0446520802            0   \n",
       "3   276729  052165615X            3   \n",
       "4   276729  0521795028            6   \n",
       "\n",
       "                                          Book-Title      Book-Author  \\\n",
       "0                               Flesh Tones: A Novel       M. J. Rose   \n",
       "1                                   Rites of Passage       Judith Rae   \n",
       "2                                       The Notebook  Nicholas Sparks   \n",
       "3                                     Help!: Level 1    Philip Prowse   \n",
       "4  The Amsterdam Connection : Level 4 (Cambridge ...      Sue Leather   \n",
       "\n",
       "   Year-Of-Publication                   Publisher  \n",
       "0               2002.0            Ballantine Books  \n",
       "1               2001.0                      Heinle  \n",
       "2               1996.0                Warner Books  \n",
       "3               1999.0  Cambridge University Press  \n",
       "4               2001.0  Cambridge University Press  "
      ]
     },
     "execution_count": 629,
     "metadata": {},
     "output_type": "execute_result"
    }
   ],
   "source": [
    "df_books_rating.head()"
   ]
  },
  {
   "cell_type": "code",
   "execution_count": 630,
   "id": "eb0becaa",
   "metadata": {},
   "outputs": [
    {
     "data": {
      "application/vnd.microsoft.datawrangler.viewer.v0+json": {
       "columns": [
        {
         "name": "index",
         "rawType": "object",
         "type": "string"
        },
        {
         "name": "0",
         "rawType": "int64",
         "type": "integer"
        }
       ],
       "ref": "c5aec2ae-fbdb-4cf2-8c24-1a35a9609e0e",
       "rows": [
        [
         "User-ID",
         "0"
        ],
        [
         "ISBN",
         "0"
        ],
        [
         "Book-Rating",
         "0"
        ],
        [
         "Book-Title",
         "0"
        ],
        [
         "Book-Author",
         "0"
        ],
        [
         "Year-Of-Publication",
         "0"
        ],
        [
         "Publisher",
         "0"
        ]
       ],
       "shape": {
        "columns": 1,
        "rows": 7
       }
      },
      "text/plain": [
       "User-ID                0\n",
       "ISBN                   0\n",
       "Book-Rating            0\n",
       "Book-Title             0\n",
       "Book-Author            0\n",
       "Year-Of-Publication    0\n",
       "Publisher              0\n",
       "dtype: int64"
      ]
     },
     "execution_count": 630,
     "metadata": {},
     "output_type": "execute_result"
    }
   ],
   "source": [
    "df_books_rating.isnull().sum()"
   ]
  },
  {
   "cell_type": "code",
   "execution_count": 631,
   "id": "bb71d44b",
   "metadata": {},
   "outputs": [
    {
     "data": {
      "application/vnd.microsoft.datawrangler.viewer.v0+json": {
       "columns": [
        {
         "name": "index",
         "rawType": "int64",
         "type": "integer"
        },
        {
         "name": "Book-Title",
         "rawType": "object",
         "type": "string"
        },
        {
         "name": "num_ratings",
         "rawType": "int64",
         "type": "integer"
        }
       ],
       "ref": "4b4a9439-4b11-415e-a7f6-3a8d66fe5966",
       "rows": [
        [
         "0",
         " A Light in the Storm: The Civil War Diary of Amelia Martin, Fenwick Island, Delaware, 1861 (Dear America)",
         "4"
        ],
        [
         "1",
         " Always Have Popsicles",
         "1"
        ],
        [
         "2",
         " Apple Magic (The Collector's series)",
         "1"
        ],
        [
         "3",
         " Ask Lily (Young Women of Faith: Lily Series, Book 5)",
         "1"
        ],
        [
         "4",
         " Beyond IBM: Leadership Marketing and Finance for the 1990s",
         "1"
        ],
        [
         "5",
         " Clifford Visita El Hospital (Clifford El Gran Perro Colorado)",
         "1"
        ],
        [
         "6",
         " Dark Justice",
         "1"
        ],
        [
         "7",
         " Deceived",
         "2"
        ],
        [
         "8",
         " Earth Prayers From around the World: 365 Prayers, Poems, and Invocations for Honoring the Earth",
         "10"
        ],
        [
         "9",
         " Final Fantasy Anthology: Official Strategy Guide (Brady Games)",
         "4"
        ],
        [
         "10",
         " Flight of Fancy: American Heiresses (Zebra Ballad Romance)",
         "2"
        ],
        [
         "11",
         " Garfield Bigger and Better (Garfield (Numbered Paperback))",
         "2"
        ],
        [
         "12",
         " God's Little Promise Book",
         "2"
        ],
        [
         "13",
         " Good Wives: Image and Reality in the Lives of Women in Northern New England, 1650-1750",
         "10"
        ],
        [
         "14",
         " Goosebumps Monster Edition 1: Welcome to Dead House, Stay Out of the Basement, and Say Cheese and Die!",
         "9"
        ],
        [
         "15",
         " Harry Potter and the Bible: The Menace Behind the Magick (And the Bible Series)",
         "1"
        ],
        [
         "16",
         " Highland Desire (Zebra Splendor Historical Romances)",
         "1"
        ],
        [
         "17",
         " Hiking the California Coastal Trail: Oregon to Monterey",
         "1"
        ],
        [
         "18",
         " It Takes Two",
         "2"
        ],
        [
         "19",
         " LA Gallinita Roja/the Little Red Hen",
         "2"
        ],
        [
         "20",
         " Little Comic Shop of Horrors (Give Yourself Goosebumps, Book 17)",
         "4"
        ],
        [
         "21",
         " Microsoft Application Architecture For Microsoft .net: Designing Application (Pro-Other)",
         "1"
        ],
        [
         "22",
         " Murder of a Sleeping Beauty (Scumble River Mysteries (Paperback))",
         "11"
        ],
        [
         "23",
         " Mystery Mile",
         "2"
        ],
        [
         "24",
         " Nonbook Materials: The Organization of Integrated Collections",
         "1"
        ],
        [
         "25",
         " Pokemon: The Official Collector's Sticker Book",
         "1"
        ],
        [
         "26",
         " Q-Space (Star Trek The Next Generation, Book 47)",
         "17"
        ],
        [
         "27",
         " Q-Zone (Star Trek The Next Generation, Book 48)",
         "11"
        ],
        [
         "28",
         " Stories of an Imaginary Childhood",
         "1"
        ],
        [
         "29",
         " Summonings: Books of Magic, Vol. 2",
         "2"
        ],
        [
         "30",
         " Tales of Terror and Suspense",
         "1"
        ],
        [
         "31",
         " The Secret of the Old Clock (Nancy Drew, Book 1)",
         "3"
        ],
        [
         "32",
         " The Tender Commandments : Reflections on the Father's Love",
         "2"
        ],
        [
         "33",
         " The Town Cats and Other Tales",
         "1"
        ],
        [
         "34",
         " This Place Has No Atmosphere (Laurel-Leaf Books)",
         "9"
        ],
        [
         "35",
         " Tough Loser",
         "1"
        ],
        [
         "36",
         " Travel Companion Chile and Easter Island (Travel Companion)",
         "1"
        ],
        [
         "37",
         " Twenty Thousand Leagues Under the Sea (Illustrated Classics)",
         "1"
        ],
        [
         "38",
         " Weird News Stories",
         "2"
        ],
        [
         "39",
         " Zap!: Science Fair Surprise! (Abracadabra!, Book 5)",
         "1"
        ],
        [
         "40",
         " the Devil Will Drag You Under",
         "1"
        ],
        [
         "41",
         "!%@ (A Nutshell handbook)",
         "2"
        ],
        [
         "42",
         "!Arriba! Comunicacion y cultura",
         "2"
        ],
        [
         "43",
         "!Trato hecho!: Spanish for Real Life, Combined Edition",
         "1"
        ],
        [
         "44",
         "!Yo!",
         "11"
        ],
        [
         "45",
         "$14 In The Bank (Cathy Collection)",
         "5"
        ],
        [
         "46",
         "$30 Film School",
         "1"
        ],
        [
         "47",
         "$Weet Deal$",
         "1"
        ],
        [
         "48",
         "$oft Money: The True Power in Our Nation's Capital",
         "5"
        ],
        [
         "49",
         "' Allo 'Allo: the War Diaries of Rene Artois",
         "1"
        ]
       ],
       "shape": {
        "columns": 2,
        "rows": 241068
       }
      },
      "text/html": [
       "<div>\n",
       "<style scoped>\n",
       "    .dataframe tbody tr th:only-of-type {\n",
       "        vertical-align: middle;\n",
       "    }\n",
       "\n",
       "    .dataframe tbody tr th {\n",
       "        vertical-align: top;\n",
       "    }\n",
       "\n",
       "    .dataframe thead th {\n",
       "        text-align: right;\n",
       "    }\n",
       "</style>\n",
       "<table border=\"1\" class=\"dataframe\">\n",
       "  <thead>\n",
       "    <tr style=\"text-align: right;\">\n",
       "      <th></th>\n",
       "      <th>Book-Title</th>\n",
       "      <th>num_ratings</th>\n",
       "    </tr>\n",
       "  </thead>\n",
       "  <tbody>\n",
       "    <tr>\n",
       "      <th>0</th>\n",
       "      <td>A Light in the Storm: The Civil War Diary of ...</td>\n",
       "      <td>4</td>\n",
       "    </tr>\n",
       "    <tr>\n",
       "      <th>1</th>\n",
       "      <td>Always Have Popsicles</td>\n",
       "      <td>1</td>\n",
       "    </tr>\n",
       "    <tr>\n",
       "      <th>2</th>\n",
       "      <td>Apple Magic (The Collector's series)</td>\n",
       "      <td>1</td>\n",
       "    </tr>\n",
       "    <tr>\n",
       "      <th>3</th>\n",
       "      <td>Ask Lily (Young Women of Faith: Lily Series, ...</td>\n",
       "      <td>1</td>\n",
       "    </tr>\n",
       "    <tr>\n",
       "      <th>4</th>\n",
       "      <td>Beyond IBM: Leadership Marketing and Finance ...</td>\n",
       "      <td>1</td>\n",
       "    </tr>\n",
       "    <tr>\n",
       "      <th>...</th>\n",
       "      <td>...</td>\n",
       "      <td>...</td>\n",
       "    </tr>\n",
       "    <tr>\n",
       "      <th>241063</th>\n",
       "      <td>Ã?Â?lpiraten.</td>\n",
       "      <td>2</td>\n",
       "    </tr>\n",
       "    <tr>\n",
       "      <th>241064</th>\n",
       "      <td>Ã?Â?rger mit Produkt X. Roman.</td>\n",
       "      <td>4</td>\n",
       "    </tr>\n",
       "    <tr>\n",
       "      <th>241065</th>\n",
       "      <td>Ã?Â?sterlich leben.</td>\n",
       "      <td>1</td>\n",
       "    </tr>\n",
       "    <tr>\n",
       "      <th>241066</th>\n",
       "      <td>Ã?Â?stlich der Berge.</td>\n",
       "      <td>3</td>\n",
       "    </tr>\n",
       "    <tr>\n",
       "      <th>241067</th>\n",
       "      <td>Ã?Â?thique en toc</td>\n",
       "      <td>2</td>\n",
       "    </tr>\n",
       "  </tbody>\n",
       "</table>\n",
       "<p>241068 rows × 2 columns</p>\n",
       "</div>"
      ],
      "text/plain": [
       "                                               Book-Title  num_ratings\n",
       "0        A Light in the Storm: The Civil War Diary of ...            4\n",
       "1                                   Always Have Popsicles            1\n",
       "2                    Apple Magic (The Collector's series)            1\n",
       "3        Ask Lily (Young Women of Faith: Lily Series, ...            1\n",
       "4        Beyond IBM: Leadership Marketing and Finance ...            1\n",
       "...                                                   ...          ...\n",
       "241063                                      Ã?Â?lpiraten.            2\n",
       "241064                     Ã?Â?rger mit Produkt X. Roman.            4\n",
       "241065                                Ã?Â?sterlich leben.            1\n",
       "241066                              Ã?Â?stlich der Berge.            3\n",
       "241067                                  Ã?Â?thique en toc            2\n",
       "\n",
       "[241068 rows x 2 columns]"
      ]
     },
     "execution_count": 631,
     "metadata": {},
     "output_type": "execute_result"
    }
   ],
   "source": [
    "ratings_per_book = df_books_rating.groupby('Book-Title')['Book-Rating'].count().reset_index()\n",
    "ratings_per_book.rename(columns={'Book-Rating':'num_ratings'},inplace=True)\n",
    "ratings_per_book"
   ]
  },
  {
   "cell_type": "code",
   "execution_count": 632,
   "id": "5d16a413",
   "metadata": {},
   "outputs": [
    {
     "data": {
      "application/vnd.microsoft.datawrangler.viewer.v0+json": {
       "columns": [
        {
         "name": "index",
         "rawType": "int64",
         "type": "integer"
        },
        {
         "name": "Book-Title",
         "rawType": "object",
         "type": "string"
        },
        {
         "name": "num_ratings",
         "rawType": "int64",
         "type": "integer"
        },
        {
         "name": "User-ID",
         "rawType": "int64",
         "type": "integer"
        },
        {
         "name": "ISBN",
         "rawType": "object",
         "type": "string"
        },
        {
         "name": "Book-Rating",
         "rawType": "int64",
         "type": "integer"
        },
        {
         "name": "Book-Author",
         "rawType": "object",
         "type": "string"
        },
        {
         "name": "Year-Of-Publication",
         "rawType": "float64",
         "type": "float"
        },
        {
         "name": "Publisher",
         "rawType": "object",
         "type": "string"
        }
       ],
       "ref": "e6407015-5ab8-4d7a-a165-b6994652040f",
       "rows": [
        [
         "0",
         " A Light in the Storm: The Civil War Diary of Amelia Martin, Fenwick Island, Delaware, 1861 (Dear America)",
         "4",
         "18995",
         "0590567330",
         "0",
         "Karen Hesse",
         "1999.0",
         "Hyperion Books for Children"
        ],
        [
         "1",
         " A Light in the Storm: The Civil War Diary of Amelia Martin, Fenwick Island, Delaware, 1861 (Dear America)",
         "4",
         "35859",
         "0590567330",
         "0",
         "Karen Hesse",
         "1999.0",
         "Hyperion Books for Children"
        ],
        [
         "2",
         " A Light in the Storm: The Civil War Diary of Amelia Martin, Fenwick Island, Delaware, 1861 (Dear America)",
         "4",
         "55927",
         "0590567330",
         "0",
         "Karen Hesse",
         "1999.0",
         "Hyperion Books for Children"
        ],
        [
         "3",
         " A Light in the Storm: The Civil War Diary of Amelia Martin, Fenwick Island, Delaware, 1861 (Dear America)",
         "4",
         "96448",
         "0590567330",
         "9",
         "Karen Hesse",
         "1999.0",
         "Hyperion Books for Children"
        ],
        [
         "4",
         " Always Have Popsicles",
         "1",
         "172742",
         "0964147726",
         "0",
         "Rebecca Harvin",
         "1994.0",
         "Rebecca L. Harvin"
        ],
        [
         "5",
         " Apple Magic (The Collector's series)",
         "1",
         "198711",
         "0942320093",
         "0",
         "Martina Boudreau",
         "1984.0",
         "Amer Cooking Guild"
        ],
        [
         "6",
         " Ask Lily (Young Women of Faith: Lily Series, Book 5)",
         "1",
         "269557",
         "0310232546",
         "8",
         "Nancy N. Rue",
         "2001.0",
         "Zonderkidz"
        ],
        [
         "7",
         " Beyond IBM: Leadership Marketing and Finance for the 1990s",
         "1",
         "11601",
         "0962295701",
         "0",
         "Lou Mobley",
         "1989.0",
         "Teleonet, Incorporated"
        ],
        [
         "8",
         " Clifford Visita El Hospital (Clifford El Gran Perro Colorado)",
         "1",
         "216683",
         "0439188970",
         "0",
         "Norman Bridwell",
         "2000.0",
         "Scholastic"
        ],
        [
         "9",
         " Dark Justice",
         "1",
         "98391",
         "0399151788",
         "10",
         "Jack Higgins",
         "2004.0",
         "Putnam Publishing Group"
        ],
        [
         "10",
         " Deceived",
         "2",
         "170595",
         "0786000015",
         "0",
         "Carla Simpson",
         "1994.0",
         "Pinnacle Books"
        ],
        [
         "11",
         " Deceived",
         "2",
         "245963",
         "0786000015",
         "0",
         "Carla Simpson",
         "1994.0",
         "Pinnacle Books"
        ],
        [
         "12",
         " Earth Prayers From around the World: 365 Prayers, Poems, and Invocations for Honoring the Earth",
         "10",
         "26544",
         "006250746X",
         "9",
         "Elizabeth Roberts",
         "1991.0",
         "HarperSanFrancisco"
        ],
        [
         "13",
         " Earth Prayers From around the World: 365 Prayers, Poems, and Invocations for Honoring the Earth",
         "10",
         "69120",
         "006250746X",
         "10",
         "Elizabeth Roberts",
         "1991.0",
         "HarperSanFrancisco"
        ],
        [
         "14",
         " Earth Prayers From around the World: 365 Prayers, Poems, and Invocations for Honoring the Earth",
         "10",
         "121592",
         "006250746X",
         "7",
         "Elizabeth Roberts",
         "1991.0",
         "HarperSanFrancisco"
        ],
        [
         "15",
         " Earth Prayers From around the World: 365 Prayers, Poems, and Invocations for Honoring the Earth",
         "10",
         "179730",
         "006250746X",
         "1",
         "Elizabeth Roberts",
         "1991.0",
         "HarperSanFrancisco"
        ],
        [
         "16",
         " Earth Prayers From around the World: 365 Prayers, Poems, and Invocations for Honoring the Earth",
         "10",
         "179744",
         "006250746X",
         "6",
         "Elizabeth Roberts",
         "1991.0",
         "HarperSanFrancisco"
        ],
        [
         "17",
         " Earth Prayers From around the World: 365 Prayers, Poems, and Invocations for Honoring the Earth",
         "10",
         "203017",
         "006250746X",
         "0",
         "Elizabeth Roberts",
         "1991.0",
         "HarperSanFrancisco"
        ],
        [
         "18",
         " Earth Prayers From around the World: 365 Prayers, Poems, and Invocations for Honoring the Earth",
         "10",
         "205980",
         "006250746X",
         "10",
         "Elizabeth Roberts",
         "1991.0",
         "HarperSanFrancisco"
        ],
        [
         "19",
         " Earth Prayers From around the World: 365 Prayers, Poems, and Invocations for Honoring the Earth",
         "10",
         "211137",
         "006250746X",
         "7",
         "Elizabeth Roberts",
         "1991.0",
         "HarperSanFrancisco"
        ],
        [
         "20",
         " Earth Prayers From around the World: 365 Prayers, Poems, and Invocations for Honoring the Earth",
         "10",
         "236840",
         "006250746X",
         "0",
         "Elizabeth Roberts",
         "1991.0",
         "HarperSanFrancisco"
        ],
        [
         "21",
         " Earth Prayers From around the World: 365 Prayers, Poems, and Invocations for Honoring the Earth",
         "10",
         "257963",
         "006250746X",
         "0",
         "Elizabeth Roberts",
         "1991.0",
         "HarperSanFrancisco"
        ],
        [
         "22",
         " Final Fantasy Anthology: Official Strategy Guide (Brady Games)",
         "4",
         "23768",
         "1566869250",
         "0",
         "David Cassady",
         "1999.0",
         "BradyGames"
        ],
        [
         "23",
         " Final Fantasy Anthology: Official Strategy Guide (Brady Games)",
         "4",
         "28523",
         "1566869250",
         "0",
         "David Cassady",
         "1999.0",
         "BradyGames"
        ],
        [
         "24",
         " Final Fantasy Anthology: Official Strategy Guide (Brady Games)",
         "4",
         "30072",
         "1566869250",
         "10",
         "David Cassady",
         "1999.0",
         "BradyGames"
        ],
        [
         "25",
         " Final Fantasy Anthology: Official Strategy Guide (Brady Games)",
         "4",
         "101851",
         "1566869250",
         "10",
         "David Cassady",
         "1999.0",
         "BradyGames"
        ],
        [
         "26",
         " Flight of Fancy: American Heiresses (Zebra Ballad Romance)",
         "2",
         "61028",
         "082177350X",
         "8",
         "Tracy Cozzens",
         "2002.0",
         "Kensington Publishing Corporation"
        ],
        [
         "27",
         " Flight of Fancy: American Heiresses (Zebra Ballad Romance)",
         "2",
         "203240",
         "082177350X",
         "0",
         "Tracy Cozzens",
         "2002.0",
         "Kensington Publishing Corporation"
        ],
        [
         "28",
         " Garfield Bigger and Better (Garfield (Numbered Paperback))",
         "2",
         "198711",
         "0345407709",
         "0",
         "Jim Davis",
         "1996.0",
         "Ballantine Books"
        ],
        [
         "29",
         " Garfield Bigger and Better (Garfield (Numbered Paperback))",
         "2",
         "200323",
         "0345407709",
         "7",
         "Jim Davis",
         "1996.0",
         "Ballantine Books"
        ],
        [
         "30",
         " God's Little Promise Book",
         "2",
         "129465",
         "0849951577",
         "9",
         "Word Pub",
         "1995.0",
         "J Countryman Books"
        ],
        [
         "31",
         " God's Little Promise Book",
         "2",
         "239552",
         "0849951577",
         "0",
         "Word Pub",
         "1995.0",
         "J Countryman Books"
        ],
        [
         "32",
         " Good Wives: Image and Reality in the Lives of Women in Northern New England, 1650-1750",
         "10",
         "36836",
         "0679732578",
         "0",
         "Laurel Thatcher Ulrich",
         "1991.0",
         "Vintage Books USA"
        ],
        [
         "33",
         " Good Wives: Image and Reality in the Lives of Women in Northern New England, 1650-1750",
         "10",
         "46398",
         "0679732578",
         "7",
         "Laurel Thatcher Ulrich",
         "1991.0",
         "Vintage Books USA"
        ],
        [
         "34",
         " Good Wives: Image and Reality in the Lives of Women in Northern New England, 1650-1750",
         "10",
         "56959",
         "0679732578",
         "0",
         "Laurel Thatcher Ulrich",
         "1991.0",
         "Vintage Books USA"
        ],
        [
         "35",
         " Good Wives: Image and Reality in the Lives of Women in Northern New England, 1650-1750",
         "10",
         "73622",
         "0679732578",
         "10",
         "Laurel Thatcher Ulrich",
         "1991.0",
         "Vintage Books USA"
        ],
        [
         "36",
         " Good Wives: Image and Reality in the Lives of Women in Northern New England, 1650-1750",
         "10",
         "88652",
         "0679732578",
         "0",
         "Laurel Thatcher Ulrich",
         "1991.0",
         "Vintage Books USA"
        ],
        [
         "37",
         " Good Wives: Image and Reality in the Lives of Women in Northern New England, 1650-1750",
         "10",
         "93047",
         "0679732578",
         "0",
         "Laurel Thatcher Ulrich",
         "1991.0",
         "Vintage Books USA"
        ],
        [
         "38",
         " Good Wives: Image and Reality in the Lives of Women in Northern New England, 1650-1750",
         "10",
         "129042",
         "0679732578",
         "0",
         "Laurel Thatcher Ulrich",
         "1991.0",
         "Vintage Books USA"
        ],
        [
         "39",
         " Good Wives: Image and Reality in the Lives of Women in Northern New England, 1650-1750",
         "10",
         "168047",
         "0679732578",
         "7",
         "Laurel Thatcher Ulrich",
         "1991.0",
         "Vintage Books USA"
        ],
        [
         "40",
         " Good Wives: Image and Reality in the Lives of Women in Northern New England, 1650-1750",
         "10",
         "187284",
         "0679732578",
         "8",
         "Laurel Thatcher Ulrich",
         "1991.0",
         "Vintage Books USA"
        ],
        [
         "41",
         " Good Wives: Image and Reality in the Lives of Women in Northern New England, 1650-1750",
         "10",
         "243700",
         "0679732578",
         "0",
         "Laurel Thatcher Ulrich",
         "1991.0",
         "Vintage Books USA"
        ],
        [
         "42",
         " Goosebumps Monster Edition 1: Welcome to Dead House, Stay Out of the Basement, and Say Cheese and Die!",
         "9",
         "78834",
         "0590509950",
         "0",
         "R. L. Stine",
         "1995.0",
         "Scholastic Paperbacks (T)"
        ],
        [
         "43",
         " Goosebumps Monster Edition 1: Welcome to Dead House, Stay Out of the Basement, and Say Cheese and Die!",
         "9",
         "96771",
         "0590509950",
         "0",
         "R. L. Stine",
         "1995.0",
         "Scholastic Paperbacks (T)"
        ],
        [
         "44",
         " Goosebumps Monster Edition 1: Welcome to Dead House, Stay Out of the Basement, and Say Cheese and Die!",
         "9",
         "154773",
         "0590509950",
         "0",
         "R. L. Stine",
         "1995.0",
         "Scholastic Paperbacks (T)"
        ],
        [
         "45",
         " Goosebumps Monster Edition 1: Welcome to Dead House, Stay Out of the Basement, and Say Cheese and Die!",
         "9",
         "172742",
         "0590509950",
         "0",
         "R. L. Stine",
         "1995.0",
         "Scholastic Paperbacks (T)"
        ],
        [
         "46",
         " Goosebumps Monster Edition 1: Welcome to Dead House, Stay Out of the Basement, and Say Cheese and Die!",
         "9",
         "177073",
         "0590509950",
         "0",
         "R. L. Stine",
         "1995.0",
         "Scholastic Paperbacks (T)"
        ],
        [
         "47",
         " Goosebumps Monster Edition 1: Welcome to Dead House, Stay Out of the Basement, and Say Cheese and Die!",
         "9",
         "212697",
         "0590509950",
         "8",
         "R. L. Stine",
         "1995.0",
         "Scholastic Paperbacks (T)"
        ],
        [
         "48",
         " Goosebumps Monster Edition 1: Welcome to Dead House, Stay Out of the Basement, and Say Cheese and Die!",
         "9",
         "215024",
         "0590509950",
         "7",
         "R. L. Stine",
         "1995.0",
         "Scholastic Paperbacks (T)"
        ],
        [
         "49",
         " Goosebumps Monster Edition 1: Welcome to Dead House, Stay Out of the Basement, and Say Cheese and Die!",
         "9",
         "240035",
         "0590509950",
         "5",
         "R. L. Stine",
         "1995.0",
         "Scholastic Paperbacks (T)"
        ]
       ],
       "shape": {
        "columns": 8,
        "rows": 1031132
       }
      },
      "text/html": [
       "<div>\n",
       "<style scoped>\n",
       "    .dataframe tbody tr th:only-of-type {\n",
       "        vertical-align: middle;\n",
       "    }\n",
       "\n",
       "    .dataframe tbody tr th {\n",
       "        vertical-align: top;\n",
       "    }\n",
       "\n",
       "    .dataframe thead th {\n",
       "        text-align: right;\n",
       "    }\n",
       "</style>\n",
       "<table border=\"1\" class=\"dataframe\">\n",
       "  <thead>\n",
       "    <tr style=\"text-align: right;\">\n",
       "      <th></th>\n",
       "      <th>Book-Title</th>\n",
       "      <th>num_ratings</th>\n",
       "      <th>User-ID</th>\n",
       "      <th>ISBN</th>\n",
       "      <th>Book-Rating</th>\n",
       "      <th>Book-Author</th>\n",
       "      <th>Year-Of-Publication</th>\n",
       "      <th>Publisher</th>\n",
       "    </tr>\n",
       "  </thead>\n",
       "  <tbody>\n",
       "    <tr>\n",
       "      <th>0</th>\n",
       "      <td>A Light in the Storm: The Civil War Diary of ...</td>\n",
       "      <td>4</td>\n",
       "      <td>18995</td>\n",
       "      <td>0590567330</td>\n",
       "      <td>0</td>\n",
       "      <td>Karen Hesse</td>\n",
       "      <td>1999.0</td>\n",
       "      <td>Hyperion Books for Children</td>\n",
       "    </tr>\n",
       "    <tr>\n",
       "      <th>1</th>\n",
       "      <td>A Light in the Storm: The Civil War Diary of ...</td>\n",
       "      <td>4</td>\n",
       "      <td>35859</td>\n",
       "      <td>0590567330</td>\n",
       "      <td>0</td>\n",
       "      <td>Karen Hesse</td>\n",
       "      <td>1999.0</td>\n",
       "      <td>Hyperion Books for Children</td>\n",
       "    </tr>\n",
       "    <tr>\n",
       "      <th>2</th>\n",
       "      <td>A Light in the Storm: The Civil War Diary of ...</td>\n",
       "      <td>4</td>\n",
       "      <td>55927</td>\n",
       "      <td>0590567330</td>\n",
       "      <td>0</td>\n",
       "      <td>Karen Hesse</td>\n",
       "      <td>1999.0</td>\n",
       "      <td>Hyperion Books for Children</td>\n",
       "    </tr>\n",
       "    <tr>\n",
       "      <th>3</th>\n",
       "      <td>A Light in the Storm: The Civil War Diary of ...</td>\n",
       "      <td>4</td>\n",
       "      <td>96448</td>\n",
       "      <td>0590567330</td>\n",
       "      <td>9</td>\n",
       "      <td>Karen Hesse</td>\n",
       "      <td>1999.0</td>\n",
       "      <td>Hyperion Books for Children</td>\n",
       "    </tr>\n",
       "    <tr>\n",
       "      <th>4</th>\n",
       "      <td>Always Have Popsicles</td>\n",
       "      <td>1</td>\n",
       "      <td>172742</td>\n",
       "      <td>0964147726</td>\n",
       "      <td>0</td>\n",
       "      <td>Rebecca Harvin</td>\n",
       "      <td>1994.0</td>\n",
       "      <td>Rebecca L. Harvin</td>\n",
       "    </tr>\n",
       "    <tr>\n",
       "      <th>...</th>\n",
       "      <td>...</td>\n",
       "      <td>...</td>\n",
       "      <td>...</td>\n",
       "      <td>...</td>\n",
       "      <td>...</td>\n",
       "      <td>...</td>\n",
       "      <td>...</td>\n",
       "      <td>...</td>\n",
       "    </tr>\n",
       "    <tr>\n",
       "      <th>1031127</th>\n",
       "      <td>Ã?Â?stlich der Berge.</td>\n",
       "      <td>3</td>\n",
       "      <td>90839</td>\n",
       "      <td>3442725739</td>\n",
       "      <td>8</td>\n",
       "      <td>David Guterson</td>\n",
       "      <td>2000.0</td>\n",
       "      <td>btb</td>\n",
       "    </tr>\n",
       "    <tr>\n",
       "      <th>1031128</th>\n",
       "      <td>Ã?Â?stlich der Berge.</td>\n",
       "      <td>3</td>\n",
       "      <td>243548</td>\n",
       "      <td>3442725739</td>\n",
       "      <td>0</td>\n",
       "      <td>David Guterson</td>\n",
       "      <td>2000.0</td>\n",
       "      <td>btb</td>\n",
       "    </tr>\n",
       "    <tr>\n",
       "      <th>1031129</th>\n",
       "      <td>Ã?Â?stlich der Berge.</td>\n",
       "      <td>3</td>\n",
       "      <td>261105</td>\n",
       "      <td>3442725739</td>\n",
       "      <td>0</td>\n",
       "      <td>David Guterson</td>\n",
       "      <td>2000.0</td>\n",
       "      <td>btb</td>\n",
       "    </tr>\n",
       "    <tr>\n",
       "      <th>1031130</th>\n",
       "      <td>Ã?Â?thique en toc</td>\n",
       "      <td>2</td>\n",
       "      <td>25436</td>\n",
       "      <td>2842192508</td>\n",
       "      <td>8</td>\n",
       "      <td>Didier Daeninckx</td>\n",
       "      <td>1998.0</td>\n",
       "      <td>Baleine</td>\n",
       "    </tr>\n",
       "    <tr>\n",
       "      <th>1031131</th>\n",
       "      <td>Ã?Â?thique en toc</td>\n",
       "      <td>2</td>\n",
       "      <td>53628</td>\n",
       "      <td>2842192508</td>\n",
       "      <td>0</td>\n",
       "      <td>Didier Daeninckx</td>\n",
       "      <td>1998.0</td>\n",
       "      <td>Baleine</td>\n",
       "    </tr>\n",
       "  </tbody>\n",
       "</table>\n",
       "<p>1031132 rows × 8 columns</p>\n",
       "</div>"
      ],
      "text/plain": [
       "                                                Book-Title  num_ratings  \\\n",
       "0         A Light in the Storm: The Civil War Diary of ...            4   \n",
       "1         A Light in the Storm: The Civil War Diary of ...            4   \n",
       "2         A Light in the Storm: The Civil War Diary of ...            4   \n",
       "3         A Light in the Storm: The Civil War Diary of ...            4   \n",
       "4                                    Always Have Popsicles            1   \n",
       "...                                                    ...          ...   \n",
       "1031127                              Ã?Â?stlich der Berge.            3   \n",
       "1031128                              Ã?Â?stlich der Berge.            3   \n",
       "1031129                              Ã?Â?stlich der Berge.            3   \n",
       "1031130                                  Ã?Â?thique en toc            2   \n",
       "1031131                                  Ã?Â?thique en toc            2   \n",
       "\n",
       "         User-ID        ISBN  Book-Rating       Book-Author  \\\n",
       "0          18995  0590567330            0       Karen Hesse   \n",
       "1          35859  0590567330            0       Karen Hesse   \n",
       "2          55927  0590567330            0       Karen Hesse   \n",
       "3          96448  0590567330            9       Karen Hesse   \n",
       "4         172742  0964147726            0    Rebecca Harvin   \n",
       "...          ...         ...          ...               ...   \n",
       "1031127    90839  3442725739            8    David Guterson   \n",
       "1031128   243548  3442725739            0    David Guterson   \n",
       "1031129   261105  3442725739            0    David Guterson   \n",
       "1031130    25436  2842192508            8  Didier Daeninckx   \n",
       "1031131    53628  2842192508            0  Didier Daeninckx   \n",
       "\n",
       "         Year-Of-Publication                    Publisher  \n",
       "0                     1999.0  Hyperion Books for Children  \n",
       "1                     1999.0  Hyperion Books for Children  \n",
       "2                     1999.0  Hyperion Books for Children  \n",
       "3                     1999.0  Hyperion Books for Children  \n",
       "4                     1994.0            Rebecca L. Harvin  \n",
       "...                      ...                          ...  \n",
       "1031127               2000.0                          btb  \n",
       "1031128               2000.0                          btb  \n",
       "1031129               2000.0                          btb  \n",
       "1031130               1998.0                      Baleine  \n",
       "1031131               1998.0                      Baleine  \n",
       "\n",
       "[1031132 rows x 8 columns]"
      ]
     },
     "execution_count": 632,
     "metadata": {},
     "output_type": "execute_result"
    }
   ],
   "source": [
    "ratings_with_num_ratings: DataFrame = ratings_per_book.merge(df_books_rating, left_on = 'Book-Title', right_on = 'Book-Title', how = 'left')\n",
    "ratings_with_num_ratings"
   ]
  },
  {
   "cell_type": "code",
   "execution_count": 633,
   "id": "d1fe122d",
   "metadata": {},
   "outputs": [
    {
     "data": {
      "application/vnd.microsoft.datawrangler.viewer.v0+json": {
       "columns": [
        {
         "name": "index",
         "rawType": "int64",
         "type": "integer"
        },
        {
         "name": "Book-Title",
         "rawType": "object",
         "type": "string"
        },
        {
         "name": "num_ratings",
         "rawType": "int64",
         "type": "integer"
        },
        {
         "name": "User-ID",
         "rawType": "int64",
         "type": "integer"
        },
        {
         "name": "ISBN",
         "rawType": "object",
         "type": "string"
        },
        {
         "name": "Book-Rating",
         "rawType": "int64",
         "type": "integer"
        },
        {
         "name": "Book-Author",
         "rawType": "object",
         "type": "string"
        },
        {
         "name": "Year-Of-Publication",
         "rawType": "float64",
         "type": "float"
        },
        {
         "name": "Publisher",
         "rawType": "object",
         "type": "string"
        }
       ],
       "ref": "61a2f2e1-fab6-4f1b-bc49-6fbd71c4c295",
       "rows": [
        [
         "2072",
         "1984",
         "284",
         "278158",
         "0451524934",
         "0",
         "George Orwell",
         "1990.0",
         "Signet Book"
        ],
        [
         "2073",
         "1984",
         "284",
         "278796",
         "0451519841",
         "0",
         "George Orwell",
         "1980.0",
         "New Amer Library"
        ],
        [
         "2074",
         "1984",
         "284",
         "254",
         "0451524934",
         "9",
         "George Orwell",
         "1990.0",
         "Signet Book"
        ],
        [
         "2075",
         "1984",
         "284",
         "1706",
         "0451524934",
         "10",
         "George Orwell",
         "1990.0",
         "Signet Book"
        ],
        [
         "2076",
         "1984",
         "284",
         "2179",
         "0451524934",
         "8",
         "George Orwell",
         "1990.0",
         "Signet Book"
        ],
        [
         "2077",
         "1984",
         "284",
         "2198",
         "0451524934",
         "10",
         "George Orwell",
         "1990.0",
         "Signet Book"
        ],
        [
         "2078",
         "1984",
         "284",
         "2799",
         "0451524934",
         "10",
         "George Orwell",
         "1990.0",
         "Signet Book"
        ],
        [
         "2079",
         "1984",
         "284",
         "7210",
         "0451519841",
         "9",
         "George Orwell",
         "1980.0",
         "New Amer Library"
        ],
        [
         "2080",
         "1984",
         "284",
         "7346",
         "0451519841",
         "8",
         "George Orwell",
         "1980.0",
         "New Amer Library"
        ],
        [
         "2081",
         "1984",
         "284",
         "8680",
         "0451519841",
         "5",
         "George Orwell",
         "1980.0",
         "New Amer Library"
        ],
        [
         "2082",
         "1984",
         "284",
         "9908",
         "0451524934",
         "6",
         "George Orwell",
         "1990.0",
         "Signet Book"
        ],
        [
         "2083",
         "1984",
         "284",
         "11676",
         "0451519841",
         "0",
         "George Orwell",
         "1980.0",
         "New Amer Library"
        ],
        [
         "2084",
         "1984",
         "284",
         "11676",
         "0451524934",
         "0",
         "George Orwell",
         "1990.0",
         "Signet Book"
        ],
        [
         "2085",
         "1984",
         "284",
         "11676",
         "0452262933",
         "10",
         "George Orwell",
         "1983.0",
         "Plume Books"
        ],
        [
         "2086",
         "1984",
         "284",
         "11944",
         "0452262933",
         "0",
         "George Orwell",
         "1983.0",
         "Plume Books"
        ],
        [
         "2087",
         "1984",
         "284",
         "12538",
         "0451519841",
         "0",
         "George Orwell",
         "1980.0",
         "New Amer Library"
        ],
        [
         "2088",
         "1984",
         "284",
         "12538",
         "0451524934",
         "0",
         "George Orwell",
         "1990.0",
         "Signet Book"
        ],
        [
         "2089",
         "1984",
         "284",
         "13093",
         "0452262933",
         "0",
         "George Orwell",
         "1983.0",
         "Plume Books"
        ],
        [
         "2090",
         "1984",
         "284",
         "13872",
         "0452262933",
         "0",
         "George Orwell",
         "1983.0",
         "Plume Books"
        ],
        [
         "2091",
         "1984",
         "284",
         "14768",
         "0451524934",
         "0",
         "George Orwell",
         "1990.0",
         "Signet Book"
        ],
        [
         "2092",
         "1984",
         "284",
         "15408",
         "0451524934",
         "9",
         "George Orwell",
         "1990.0",
         "Signet Book"
        ],
        [
         "2093",
         "1984",
         "284",
         "15583",
         "0451524934",
         "0",
         "George Orwell",
         "1990.0",
         "Signet Book"
        ],
        [
         "2094",
         "1984",
         "284",
         "16795",
         "0451524934",
         "8",
         "George Orwell",
         "1990.0",
         "Signet Book"
        ],
        [
         "2095",
         "1984",
         "284",
         "19336",
         "0451524934",
         "0",
         "George Orwell",
         "1990.0",
         "Signet Book"
        ],
        [
         "2096",
         "1984",
         "284",
         "20032",
         "0451524934",
         "0",
         "George Orwell",
         "1990.0",
         "Signet Book"
        ],
        [
         "2097",
         "1984",
         "284",
         "23768",
         "0451524934",
         "0",
         "George Orwell",
         "1990.0",
         "Signet Book"
        ],
        [
         "2098",
         "1984",
         "284",
         "23872",
         "0451524934",
         "7",
         "George Orwell",
         "1990.0",
         "Signet Book"
        ],
        [
         "2099",
         "1984",
         "284",
         "25522",
         "0151660387",
         "0",
         "George Orwell",
         "1983.0",
         "Harcourt"
        ],
        [
         "2100",
         "1984",
         "284",
         "30081",
         "0451524934",
         "10",
         "George Orwell",
         "1990.0",
         "Signet Book"
        ],
        [
         "2101",
         "1984",
         "284",
         "32599",
         "0451524934",
         "8",
         "George Orwell",
         "1990.0",
         "Signet Book"
        ],
        [
         "2102",
         "1984",
         "284",
         "32791",
         "207036822X",
         "10",
         "George Orwell",
         "0.0",
         "Gallimard French"
        ],
        [
         "2103",
         "1984",
         "284",
         "33818",
         "0451519841",
         "0",
         "George Orwell",
         "1980.0",
         "New Amer Library"
        ],
        [
         "2104",
         "1984",
         "284",
         "35618",
         "0451519841",
         "0",
         "George Orwell",
         "1980.0",
         "New Amer Library"
        ],
        [
         "2105",
         "1984",
         "284",
         "37092",
         "0451524934",
         "7",
         "George Orwell",
         "1990.0",
         "Signet Book"
        ],
        [
         "2106",
         "1984",
         "284",
         "37235",
         "0451524934",
         "9",
         "George Orwell",
         "1990.0",
         "Signet Book"
        ],
        [
         "2107",
         "1984",
         "284",
         "37712",
         "0451524934",
         "0",
         "George Orwell",
         "1990.0",
         "Signet Book"
        ],
        [
         "2108",
         "1984",
         "284",
         "37950",
         "0451524934",
         "0",
         "George Orwell",
         "1990.0",
         "Signet Book"
        ],
        [
         "2109",
         "1984",
         "284",
         "38104",
         "207036822X",
         "9",
         "George Orwell",
         "0.0",
         "Gallimard French"
        ],
        [
         "2110",
         "1984",
         "284",
         "38661",
         "0451524934",
         "10",
         "George Orwell",
         "1990.0",
         "Signet Book"
        ],
        [
         "2111",
         "1984",
         "284",
         "39616",
         "0451524934",
         "0",
         "George Orwell",
         "1990.0",
         "Signet Book"
        ],
        [
         "2112",
         "1984",
         "284",
         "40330",
         "0451524934",
         "0",
         "George Orwell",
         "1990.0",
         "Signet Book"
        ],
        [
         "2113",
         "1984",
         "284",
         "40885",
         "0452262933",
         "0",
         "George Orwell",
         "1983.0",
         "Plume Books"
        ],
        [
         "2114",
         "1984",
         "284",
         "42914",
         "0451519841",
         "0",
         "George Orwell",
         "1980.0",
         "New Amer Library"
        ],
        [
         "2115",
         "1984",
         "284",
         "44252",
         "0451524934",
         "10",
         "George Orwell",
         "1990.0",
         "Signet Book"
        ],
        [
         "2116",
         "1984",
         "284",
         "44925",
         "0451524934",
         "0",
         "George Orwell",
         "1990.0",
         "Signet Book"
        ],
        [
         "2117",
         "1984",
         "284",
         "45002",
         "0451524934",
         "0",
         "George Orwell",
         "1990.0",
         "Signet Book"
        ],
        [
         "2118",
         "1984",
         "284",
         "46461",
         "0451524934",
         "10",
         "George Orwell",
         "1990.0",
         "Signet Book"
        ],
        [
         "2119",
         "1984",
         "284",
         "47117",
         "0451524934",
         "10",
         "George Orwell",
         "1990.0",
         "Signet Book"
        ],
        [
         "2120",
         "1984",
         "284",
         "48453",
         "0451524934",
         "9",
         "George Orwell",
         "1990.0",
         "Signet Book"
        ],
        [
         "2121",
         "1984",
         "284",
         "48936",
         "0451519841",
         "0",
         "George Orwell",
         "1980.0",
         "New Amer Library"
        ]
       ],
       "shape": {
        "columns": 8,
        "rows": 183799
       }
      },
      "text/html": [
       "<div>\n",
       "<style scoped>\n",
       "    .dataframe tbody tr th:only-of-type {\n",
       "        vertical-align: middle;\n",
       "    }\n",
       "\n",
       "    .dataframe tbody tr th {\n",
       "        vertical-align: top;\n",
       "    }\n",
       "\n",
       "    .dataframe thead th {\n",
       "        text-align: right;\n",
       "    }\n",
       "</style>\n",
       "<table border=\"1\" class=\"dataframe\">\n",
       "  <thead>\n",
       "    <tr style=\"text-align: right;\">\n",
       "      <th></th>\n",
       "      <th>Book-Title</th>\n",
       "      <th>num_ratings</th>\n",
       "      <th>User-ID</th>\n",
       "      <th>ISBN</th>\n",
       "      <th>Book-Rating</th>\n",
       "      <th>Book-Author</th>\n",
       "      <th>Year-Of-Publication</th>\n",
       "      <th>Publisher</th>\n",
       "    </tr>\n",
       "  </thead>\n",
       "  <tbody>\n",
       "    <tr>\n",
       "      <th>2072</th>\n",
       "      <td>1984</td>\n",
       "      <td>284</td>\n",
       "      <td>278158</td>\n",
       "      <td>0451524934</td>\n",
       "      <td>0</td>\n",
       "      <td>George Orwell</td>\n",
       "      <td>1990.0</td>\n",
       "      <td>Signet Book</td>\n",
       "    </tr>\n",
       "    <tr>\n",
       "      <th>2073</th>\n",
       "      <td>1984</td>\n",
       "      <td>284</td>\n",
       "      <td>278796</td>\n",
       "      <td>0451519841</td>\n",
       "      <td>0</td>\n",
       "      <td>George Orwell</td>\n",
       "      <td>1980.0</td>\n",
       "      <td>New Amer Library</td>\n",
       "    </tr>\n",
       "    <tr>\n",
       "      <th>2074</th>\n",
       "      <td>1984</td>\n",
       "      <td>284</td>\n",
       "      <td>254</td>\n",
       "      <td>0451524934</td>\n",
       "      <td>9</td>\n",
       "      <td>George Orwell</td>\n",
       "      <td>1990.0</td>\n",
       "      <td>Signet Book</td>\n",
       "    </tr>\n",
       "    <tr>\n",
       "      <th>2075</th>\n",
       "      <td>1984</td>\n",
       "      <td>284</td>\n",
       "      <td>1706</td>\n",
       "      <td>0451524934</td>\n",
       "      <td>10</td>\n",
       "      <td>George Orwell</td>\n",
       "      <td>1990.0</td>\n",
       "      <td>Signet Book</td>\n",
       "    </tr>\n",
       "    <tr>\n",
       "      <th>2076</th>\n",
       "      <td>1984</td>\n",
       "      <td>284</td>\n",
       "      <td>2179</td>\n",
       "      <td>0451524934</td>\n",
       "      <td>8</td>\n",
       "      <td>George Orwell</td>\n",
       "      <td>1990.0</td>\n",
       "      <td>Signet Book</td>\n",
       "    </tr>\n",
       "    <tr>\n",
       "      <th>...</th>\n",
       "      <td>...</td>\n",
       "      <td>...</td>\n",
       "      <td>...</td>\n",
       "      <td>...</td>\n",
       "      <td>...</td>\n",
       "      <td>...</td>\n",
       "      <td>...</td>\n",
       "      <td>...</td>\n",
       "    </tr>\n",
       "    <tr>\n",
       "      <th>1030495</th>\n",
       "      <td>\\O\\\" Is for Outlaw\"</td>\n",
       "      <td>269</td>\n",
       "      <td>269728</td>\n",
       "      <td>0449003787</td>\n",
       "      <td>0</td>\n",
       "      <td>SUE GRAFTON</td>\n",
       "      <td>2001.0</td>\n",
       "      <td>Ballantine Books</td>\n",
       "    </tr>\n",
       "    <tr>\n",
       "      <th>1030496</th>\n",
       "      <td>\\O\\\" Is for Outlaw\"</td>\n",
       "      <td>269</td>\n",
       "      <td>271410</td>\n",
       "      <td>0449003787</td>\n",
       "      <td>0</td>\n",
       "      <td>SUE GRAFTON</td>\n",
       "      <td>2001.0</td>\n",
       "      <td>Ballantine Books</td>\n",
       "    </tr>\n",
       "    <tr>\n",
       "      <th>1030497</th>\n",
       "      <td>\\O\\\" Is for Outlaw\"</td>\n",
       "      <td>269</td>\n",
       "      <td>274301</td>\n",
       "      <td>0449003787</td>\n",
       "      <td>8</td>\n",
       "      <td>SUE GRAFTON</td>\n",
       "      <td>2001.0</td>\n",
       "      <td>Ballantine Books</td>\n",
       "    </tr>\n",
       "    <tr>\n",
       "      <th>1030498</th>\n",
       "      <td>\\O\\\" Is for Outlaw\"</td>\n",
       "      <td>269</td>\n",
       "      <td>274325</td>\n",
       "      <td>0449003787</td>\n",
       "      <td>9</td>\n",
       "      <td>SUE GRAFTON</td>\n",
       "      <td>2001.0</td>\n",
       "      <td>Ballantine Books</td>\n",
       "    </tr>\n",
       "    <tr>\n",
       "      <th>1030499</th>\n",
       "      <td>\\O\\\" Is for Outlaw\"</td>\n",
       "      <td>269</td>\n",
       "      <td>276050</td>\n",
       "      <td>0449003787</td>\n",
       "      <td>7</td>\n",
       "      <td>SUE GRAFTON</td>\n",
       "      <td>2001.0</td>\n",
       "      <td>Ballantine Books</td>\n",
       "    </tr>\n",
       "  </tbody>\n",
       "</table>\n",
       "<p>183799 rows × 8 columns</p>\n",
       "</div>"
      ],
      "text/plain": [
       "                  Book-Title  num_ratings  User-ID        ISBN  Book-Rating  \\\n",
       "2072                    1984          284   278158  0451524934            0   \n",
       "2073                    1984          284   278796  0451519841            0   \n",
       "2074                    1984          284      254  0451524934            9   \n",
       "2075                    1984          284     1706  0451524934           10   \n",
       "2076                    1984          284     2179  0451524934            8   \n",
       "...                      ...          ...      ...         ...          ...   \n",
       "1030495  \\O\\\" Is for Outlaw\"          269   269728  0449003787            0   \n",
       "1030496  \\O\\\" Is for Outlaw\"          269   271410  0449003787            0   \n",
       "1030497  \\O\\\" Is for Outlaw\"          269   274301  0449003787            8   \n",
       "1030498  \\O\\\" Is for Outlaw\"          269   274325  0449003787            9   \n",
       "1030499  \\O\\\" Is for Outlaw\"          269   276050  0449003787            7   \n",
       "\n",
       "           Book-Author  Year-Of-Publication         Publisher  \n",
       "2072     George Orwell               1990.0       Signet Book  \n",
       "2073     George Orwell               1980.0  New Amer Library  \n",
       "2074     George Orwell               1990.0       Signet Book  \n",
       "2075     George Orwell               1990.0       Signet Book  \n",
       "2076     George Orwell               1990.0       Signet Book  \n",
       "...                ...                  ...               ...  \n",
       "1030495    SUE GRAFTON               2001.0  Ballantine Books  \n",
       "1030496    SUE GRAFTON               2001.0  Ballantine Books  \n",
       "1030497    SUE GRAFTON               2001.0  Ballantine Books  \n",
       "1030498    SUE GRAFTON               2001.0  Ballantine Books  \n",
       "1030499    SUE GRAFTON               2001.0  Ballantine Books  \n",
       "\n",
       "[183799 rows x 8 columns]"
      ]
     },
     "execution_count": 633,
     "metadata": {},
     "output_type": "execute_result"
    }
   ],
   "source": [
    "popularity_threshold = 100\n",
    "rating_popular_book: DataFrame= ratings_with_num_ratings.query('num_ratings >= @popularity_threshold')\n",
    "\n",
    "rating_popular_book"
   ]
  },
  {
   "cell_type": "markdown",
   "id": "e013036f",
   "metadata": {},
   "source": [
    "### Dataframe final"
   ]
  },
  {
   "cell_type": "code",
   "execution_count": 634,
   "id": "84398c29",
   "metadata": {},
   "outputs": [
    {
     "data": {
      "text/plain": [
       "(914, 38132)"
      ]
     },
     "execution_count": 634,
     "metadata": {},
     "output_type": "execute_result"
    }
   ],
   "source": [
    "final_df: DataFrame=rating_popular_book.pivot_table(index='Book-Title', columns='User-ID', values='Book-Rating').fillna(0)\n",
    "final_df.shape"
   ]
  },
  {
   "cell_type": "code",
   "execution_count": 635,
   "id": "03e7007a",
   "metadata": {},
   "outputs": [],
   "source": [
    "Path.mkdir(\"../processed-data\", exist_ok=True)\n",
    "final_df.to_csv(\"../processed-data/final_df.csv\", encoding='utf-8')"
   ]
  }
 ],
 "metadata": {
  "kernelspec": {
   "display_name": "recommendation-system-ods",
   "language": "python",
   "name": "python3"
  },
  "language_info": {
   "codemirror_mode": {
    "name": "ipython",
    "version": 3
   },
   "file_extension": ".py",
   "mimetype": "text/x-python",
   "name": "python",
   "nbconvert_exporter": "python",
   "pygments_lexer": "ipython3",
   "version": "3.12.11"
  }
 },
 "nbformat": 4,
 "nbformat_minor": 5
}
