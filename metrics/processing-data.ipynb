{
 "cells": [
  {
   "cell_type": "code",
   "execution_count": 82,
   "id": "f78b1ebf",
   "metadata": {},
   "outputs": [],
   "source": [
    "from pathlib import Path\n",
    "\n",
    "import matplotlib.pyplot as plt\n",
    "import pandas as pd\n",
    "import seaborn as sns\n",
    "from pandas import DataFrame"
   ]
  },
  {
   "cell_type": "code",
   "execution_count": 83,
   "id": "f338d4e2",
   "metadata": {},
   "outputs": [
    {
     "data": {
      "application/vnd.microsoft.datawrangler.viewer.v0+json": {
       "columns": [
        {
         "name": "index",
         "rawType": "int64",
         "type": "integer"
        },
        {
         "name": "User-ID",
         "rawType": "int64",
         "type": "integer"
        },
        {
         "name": "ISBN",
         "rawType": "object",
         "type": "string"
        },
        {
         "name": "Book-Rating",
         "rawType": "int64",
         "type": "integer"
        }
       ],
       "ref": "ae6d6b9a-cae2-45bf-90ad-dbd2d2d34be1",
       "rows": [
        [
         "0",
         "276725",
         "034545104X",
         "0"
        ],
        [
         "1",
         "276726",
         "0155061224",
         "5"
        ],
        [
         "2",
         "276727",
         "0446520802",
         "0"
        ],
        [
         "3",
         "276729",
         "052165615X",
         "3"
        ],
        [
         "4",
         "276729",
         "0521795028",
         "6"
        ],
        [
         "5",
         "276733",
         "2080674722",
         "0"
        ],
        [
         "6",
         "276736",
         "3257224281",
         "8"
        ],
        [
         "7",
         "276737",
         "0600570967",
         "6"
        ],
        [
         "8",
         "276744",
         "038550120X",
         "7"
        ],
        [
         "9",
         "276745",
         "342310538",
         "10"
        ],
        [
         "10",
         "276746",
         "0425115801",
         "0"
        ],
        [
         "11",
         "276746",
         "0449006522",
         "0"
        ],
        [
         "12",
         "276746",
         "0553561618",
         "0"
        ],
        [
         "13",
         "276746",
         "055356451X",
         "0"
        ],
        [
         "14",
         "276746",
         "0786013990",
         "0"
        ],
        [
         "15",
         "276746",
         "0786014512",
         "0"
        ],
        [
         "16",
         "276747",
         "0060517794",
         "9"
        ],
        [
         "17",
         "276747",
         "0451192001",
         "0"
        ],
        [
         "18",
         "276747",
         "0609801279",
         "0"
        ],
        [
         "19",
         "276747",
         "0671537458",
         "9"
        ],
        [
         "20",
         "276747",
         "0679776818",
         "8"
        ],
        [
         "21",
         "276747",
         "0943066433",
         "7"
        ],
        [
         "22",
         "276747",
         "1570231028",
         "0"
        ],
        [
         "23",
         "276747",
         "1885408226",
         "7"
        ],
        [
         "24",
         "276748",
         "0747558167",
         "6"
        ],
        [
         "25",
         "276748",
         "3442437407",
         "0"
        ],
        [
         "26",
         "276751",
         "033390804X",
         "0"
        ],
        [
         "27",
         "276751",
         "3596218098",
         "8"
        ],
        [
         "28",
         "276754",
         "0684867621",
         "8"
        ],
        [
         "29",
         "276755",
         "0451166892",
         "5"
        ],
        [
         "30",
         "276760",
         "8440682697",
         "10"
        ],
        [
         "31",
         "276762",
         "034544003X",
         "0"
        ],
        [
         "32",
         "276762",
         "0380000059",
         "0"
        ],
        [
         "33",
         "276762",
         "0380711524",
         "5"
        ],
        [
         "34",
         "276762",
         "0451167317",
         "0"
        ],
        [
         "35",
         "276762",
         "0451454952",
         "0"
        ],
        [
         "36",
         "276762",
         "0843920262",
         "0"
        ],
        [
         "37",
         "276762",
         "3404122879",
         "0"
        ],
        [
         "38",
         "276762",
         "3404182928",
         "0"
        ],
        [
         "39",
         "276762",
         "3404611306",
         "0"
        ],
        [
         "40",
         "276762",
         "342662429",
         "0"
        ],
        [
         "41",
         "276762",
         "3426690179",
         "0"
        ],
        [
         "42",
         "276762",
         "3442424216",
         "0"
        ],
        [
         "43",
         "276762",
         "3442425573",
         "0"
        ],
        [
         "44",
         "276762",
         "3453092007",
         "8"
        ],
        [
         "45",
         "276762",
         "3453157745",
         "0"
        ],
        [
         "46",
         "276762",
         "3453176944",
         "0"
        ],
        [
         "47",
         "276762",
         "3453185137",
         "0"
        ],
        [
         "48",
         "276762",
         "3453185323",
         "0"
        ],
        [
         "49",
         "276762",
         "3453213025",
         "3"
        ]
       ],
       "shape": {
        "columns": 3,
        "rows": 50
       }
      },
      "text/html": [
       "<div>\n",
       "<style scoped>\n",
       "    .dataframe tbody tr th:only-of-type {\n",
       "        vertical-align: middle;\n",
       "    }\n",
       "\n",
       "    .dataframe tbody tr th {\n",
       "        vertical-align: top;\n",
       "    }\n",
       "\n",
       "    .dataframe thead th {\n",
       "        text-align: right;\n",
       "    }\n",
       "</style>\n",
       "<table border=\"1\" class=\"dataframe\">\n",
       "  <thead>\n",
       "    <tr style=\"text-align: right;\">\n",
       "      <th></th>\n",
       "      <th>User-ID</th>\n",
       "      <th>ISBN</th>\n",
       "      <th>Book-Rating</th>\n",
       "    </tr>\n",
       "  </thead>\n",
       "  <tbody>\n",
       "    <tr>\n",
       "      <th>0</th>\n",
       "      <td>276725</td>\n",
       "      <td>034545104X</td>\n",
       "      <td>0</td>\n",
       "    </tr>\n",
       "    <tr>\n",
       "      <th>1</th>\n",
       "      <td>276726</td>\n",
       "      <td>0155061224</td>\n",
       "      <td>5</td>\n",
       "    </tr>\n",
       "    <tr>\n",
       "      <th>2</th>\n",
       "      <td>276727</td>\n",
       "      <td>0446520802</td>\n",
       "      <td>0</td>\n",
       "    </tr>\n",
       "    <tr>\n",
       "      <th>3</th>\n",
       "      <td>276729</td>\n",
       "      <td>052165615X</td>\n",
       "      <td>3</td>\n",
       "    </tr>\n",
       "    <tr>\n",
       "      <th>4</th>\n",
       "      <td>276729</td>\n",
       "      <td>0521795028</td>\n",
       "      <td>6</td>\n",
       "    </tr>\n",
       "    <tr>\n",
       "      <th>5</th>\n",
       "      <td>276733</td>\n",
       "      <td>2080674722</td>\n",
       "      <td>0</td>\n",
       "    </tr>\n",
       "    <tr>\n",
       "      <th>6</th>\n",
       "      <td>276736</td>\n",
       "      <td>3257224281</td>\n",
       "      <td>8</td>\n",
       "    </tr>\n",
       "    <tr>\n",
       "      <th>7</th>\n",
       "      <td>276737</td>\n",
       "      <td>0600570967</td>\n",
       "      <td>6</td>\n",
       "    </tr>\n",
       "    <tr>\n",
       "      <th>8</th>\n",
       "      <td>276744</td>\n",
       "      <td>038550120X</td>\n",
       "      <td>7</td>\n",
       "    </tr>\n",
       "    <tr>\n",
       "      <th>9</th>\n",
       "      <td>276745</td>\n",
       "      <td>342310538</td>\n",
       "      <td>10</td>\n",
       "    </tr>\n",
       "    <tr>\n",
       "      <th>10</th>\n",
       "      <td>276746</td>\n",
       "      <td>0425115801</td>\n",
       "      <td>0</td>\n",
       "    </tr>\n",
       "    <tr>\n",
       "      <th>11</th>\n",
       "      <td>276746</td>\n",
       "      <td>0449006522</td>\n",
       "      <td>0</td>\n",
       "    </tr>\n",
       "    <tr>\n",
       "      <th>12</th>\n",
       "      <td>276746</td>\n",
       "      <td>0553561618</td>\n",
       "      <td>0</td>\n",
       "    </tr>\n",
       "    <tr>\n",
       "      <th>13</th>\n",
       "      <td>276746</td>\n",
       "      <td>055356451X</td>\n",
       "      <td>0</td>\n",
       "    </tr>\n",
       "    <tr>\n",
       "      <th>14</th>\n",
       "      <td>276746</td>\n",
       "      <td>0786013990</td>\n",
       "      <td>0</td>\n",
       "    </tr>\n",
       "    <tr>\n",
       "      <th>15</th>\n",
       "      <td>276746</td>\n",
       "      <td>0786014512</td>\n",
       "      <td>0</td>\n",
       "    </tr>\n",
       "    <tr>\n",
       "      <th>16</th>\n",
       "      <td>276747</td>\n",
       "      <td>0060517794</td>\n",
       "      <td>9</td>\n",
       "    </tr>\n",
       "    <tr>\n",
       "      <th>17</th>\n",
       "      <td>276747</td>\n",
       "      <td>0451192001</td>\n",
       "      <td>0</td>\n",
       "    </tr>\n",
       "    <tr>\n",
       "      <th>18</th>\n",
       "      <td>276747</td>\n",
       "      <td>0609801279</td>\n",
       "      <td>0</td>\n",
       "    </tr>\n",
       "    <tr>\n",
       "      <th>19</th>\n",
       "      <td>276747</td>\n",
       "      <td>0671537458</td>\n",
       "      <td>9</td>\n",
       "    </tr>\n",
       "    <tr>\n",
       "      <th>20</th>\n",
       "      <td>276747</td>\n",
       "      <td>0679776818</td>\n",
       "      <td>8</td>\n",
       "    </tr>\n",
       "    <tr>\n",
       "      <th>21</th>\n",
       "      <td>276747</td>\n",
       "      <td>0943066433</td>\n",
       "      <td>7</td>\n",
       "    </tr>\n",
       "    <tr>\n",
       "      <th>22</th>\n",
       "      <td>276747</td>\n",
       "      <td>1570231028</td>\n",
       "      <td>0</td>\n",
       "    </tr>\n",
       "    <tr>\n",
       "      <th>23</th>\n",
       "      <td>276747</td>\n",
       "      <td>1885408226</td>\n",
       "      <td>7</td>\n",
       "    </tr>\n",
       "    <tr>\n",
       "      <th>24</th>\n",
       "      <td>276748</td>\n",
       "      <td>0747558167</td>\n",
       "      <td>6</td>\n",
       "    </tr>\n",
       "    <tr>\n",
       "      <th>25</th>\n",
       "      <td>276748</td>\n",
       "      <td>3442437407</td>\n",
       "      <td>0</td>\n",
       "    </tr>\n",
       "    <tr>\n",
       "      <th>26</th>\n",
       "      <td>276751</td>\n",
       "      <td>033390804X</td>\n",
       "      <td>0</td>\n",
       "    </tr>\n",
       "    <tr>\n",
       "      <th>27</th>\n",
       "      <td>276751</td>\n",
       "      <td>3596218098</td>\n",
       "      <td>8</td>\n",
       "    </tr>\n",
       "    <tr>\n",
       "      <th>28</th>\n",
       "      <td>276754</td>\n",
       "      <td>0684867621</td>\n",
       "      <td>8</td>\n",
       "    </tr>\n",
       "    <tr>\n",
       "      <th>29</th>\n",
       "      <td>276755</td>\n",
       "      <td>0451166892</td>\n",
       "      <td>5</td>\n",
       "    </tr>\n",
       "    <tr>\n",
       "      <th>30</th>\n",
       "      <td>276760</td>\n",
       "      <td>8440682697</td>\n",
       "      <td>10</td>\n",
       "    </tr>\n",
       "    <tr>\n",
       "      <th>31</th>\n",
       "      <td>276762</td>\n",
       "      <td>034544003X</td>\n",
       "      <td>0</td>\n",
       "    </tr>\n",
       "    <tr>\n",
       "      <th>32</th>\n",
       "      <td>276762</td>\n",
       "      <td>0380000059</td>\n",
       "      <td>0</td>\n",
       "    </tr>\n",
       "    <tr>\n",
       "      <th>33</th>\n",
       "      <td>276762</td>\n",
       "      <td>0380711524</td>\n",
       "      <td>5</td>\n",
       "    </tr>\n",
       "    <tr>\n",
       "      <th>34</th>\n",
       "      <td>276762</td>\n",
       "      <td>0451167317</td>\n",
       "      <td>0</td>\n",
       "    </tr>\n",
       "    <tr>\n",
       "      <th>35</th>\n",
       "      <td>276762</td>\n",
       "      <td>0451454952</td>\n",
       "      <td>0</td>\n",
       "    </tr>\n",
       "    <tr>\n",
       "      <th>36</th>\n",
       "      <td>276762</td>\n",
       "      <td>0843920262</td>\n",
       "      <td>0</td>\n",
       "    </tr>\n",
       "    <tr>\n",
       "      <th>37</th>\n",
       "      <td>276762</td>\n",
       "      <td>3404122879</td>\n",
       "      <td>0</td>\n",
       "    </tr>\n",
       "    <tr>\n",
       "      <th>38</th>\n",
       "      <td>276762</td>\n",
       "      <td>3404182928</td>\n",
       "      <td>0</td>\n",
       "    </tr>\n",
       "    <tr>\n",
       "      <th>39</th>\n",
       "      <td>276762</td>\n",
       "      <td>3404611306</td>\n",
       "      <td>0</td>\n",
       "    </tr>\n",
       "    <tr>\n",
       "      <th>40</th>\n",
       "      <td>276762</td>\n",
       "      <td>342662429</td>\n",
       "      <td>0</td>\n",
       "    </tr>\n",
       "    <tr>\n",
       "      <th>41</th>\n",
       "      <td>276762</td>\n",
       "      <td>3426690179</td>\n",
       "      <td>0</td>\n",
       "    </tr>\n",
       "    <tr>\n",
       "      <th>42</th>\n",
       "      <td>276762</td>\n",
       "      <td>3442424216</td>\n",
       "      <td>0</td>\n",
       "    </tr>\n",
       "    <tr>\n",
       "      <th>43</th>\n",
       "      <td>276762</td>\n",
       "      <td>3442425573</td>\n",
       "      <td>0</td>\n",
       "    </tr>\n",
       "    <tr>\n",
       "      <th>44</th>\n",
       "      <td>276762</td>\n",
       "      <td>3453092007</td>\n",
       "      <td>8</td>\n",
       "    </tr>\n",
       "    <tr>\n",
       "      <th>45</th>\n",
       "      <td>276762</td>\n",
       "      <td>3453157745</td>\n",
       "      <td>0</td>\n",
       "    </tr>\n",
       "    <tr>\n",
       "      <th>46</th>\n",
       "      <td>276762</td>\n",
       "      <td>3453176944</td>\n",
       "      <td>0</td>\n",
       "    </tr>\n",
       "    <tr>\n",
       "      <th>47</th>\n",
       "      <td>276762</td>\n",
       "      <td>3453185137</td>\n",
       "      <td>0</td>\n",
       "    </tr>\n",
       "    <tr>\n",
       "      <th>48</th>\n",
       "      <td>276762</td>\n",
       "      <td>3453185323</td>\n",
       "      <td>0</td>\n",
       "    </tr>\n",
       "    <tr>\n",
       "      <th>49</th>\n",
       "      <td>276762</td>\n",
       "      <td>3453213025</td>\n",
       "      <td>3</td>\n",
       "    </tr>\n",
       "  </tbody>\n",
       "</table>\n",
       "</div>"
      ],
      "text/plain": [
       "    User-ID        ISBN  Book-Rating\n",
       "0    276725  034545104X            0\n",
       "1    276726  0155061224            5\n",
       "2    276727  0446520802            0\n",
       "3    276729  052165615X            3\n",
       "4    276729  0521795028            6\n",
       "5    276733  2080674722            0\n",
       "6    276736  3257224281            8\n",
       "7    276737  0600570967            6\n",
       "8    276744  038550120X            7\n",
       "9    276745   342310538           10\n",
       "10   276746  0425115801            0\n",
       "11   276746  0449006522            0\n",
       "12   276746  0553561618            0\n",
       "13   276746  055356451X            0\n",
       "14   276746  0786013990            0\n",
       "15   276746  0786014512            0\n",
       "16   276747  0060517794            9\n",
       "17   276747  0451192001            0\n",
       "18   276747  0609801279            0\n",
       "19   276747  0671537458            9\n",
       "20   276747  0679776818            8\n",
       "21   276747  0943066433            7\n",
       "22   276747  1570231028            0\n",
       "23   276747  1885408226            7\n",
       "24   276748  0747558167            6\n",
       "25   276748  3442437407            0\n",
       "26   276751  033390804X            0\n",
       "27   276751  3596218098            8\n",
       "28   276754  0684867621            8\n",
       "29   276755  0451166892            5\n",
       "30   276760  8440682697           10\n",
       "31   276762  034544003X            0\n",
       "32   276762  0380000059            0\n",
       "33   276762  0380711524            5\n",
       "34   276762  0451167317            0\n",
       "35   276762  0451454952            0\n",
       "36   276762  0843920262            0\n",
       "37   276762  3404122879            0\n",
       "38   276762  3404182928            0\n",
       "39   276762  3404611306            0\n",
       "40   276762   342662429            0\n",
       "41   276762  3426690179            0\n",
       "42   276762  3442424216            0\n",
       "43   276762  3442425573            0\n",
       "44   276762  3453092007            8\n",
       "45   276762  3453157745            0\n",
       "46   276762  3453176944            0\n",
       "47   276762  3453185137            0\n",
       "48   276762  3453185323            0\n",
       "49   276762  3453213025            3"
      ]
     },
     "execution_count": 83,
     "metadata": {},
     "output_type": "execute_result"
    }
   ],
   "source": [
    "df_ratings: DataFrame = pd.read_csv(\"../unprocessed-data/ratings.csv\", encoding=\"utf-8\")\n",
    "\n",
    "df_ratings.head(50)\n",
    "\n",
    "# Todas as colunas de df_ratings são importantes"
   ]
  },
  {
   "cell_type": "code",
   "execution_count": 84,
   "id": "31dc97a9",
   "metadata": {},
   "outputs": [
    {
     "data": {
      "text/plain": [
       "(1149780, 3)"
      ]
     },
     "execution_count": 84,
     "metadata": {},
     "output_type": "execute_result"
    }
   ],
   "source": [
    "df_ratings.shape"
   ]
  },
  {
   "cell_type": "code",
   "execution_count": 85,
   "id": "a20eeea9",
   "metadata": {},
   "outputs": [
    {
     "data": {
      "application/vnd.microsoft.datawrangler.viewer.v0+json": {
       "columns": [
        {
         "name": "index",
         "rawType": "object",
         "type": "string"
        },
        {
         "name": "0",
         "rawType": "int64",
         "type": "integer"
        }
       ],
       "ref": "5ff28609-ae07-4b30-85fb-53252a35bfe2",
       "rows": [
        [
         "User-ID",
         "0"
        ],
        [
         "ISBN",
         "0"
        ],
        [
         "Book-Rating",
         "0"
        ]
       ],
       "shape": {
        "columns": 1,
        "rows": 3
       }
      },
      "text/plain": [
       "User-ID        0\n",
       "ISBN           0\n",
       "Book-Rating    0\n",
       "dtype: int64"
      ]
     },
     "execution_count": 85,
     "metadata": {},
     "output_type": "execute_result"
    }
   ],
   "source": [
    "df_ratings.isna().sum()"
   ]
  },
  {
   "cell_type": "code",
   "execution_count": 86,
   "id": "1f50c721",
   "metadata": {},
   "outputs": [
    {
     "data": {
      "image/png": "[encoded data removed]",
      "text/plain": [
       "<Figure size 800x600 with 1 Axes>"
      ]
     },
     "metadata": {},
     "output_type": "display_data"
    }
   ],
   "source": [
    "plt.figure(figsize=(8, 6))\n",
    "sns.countplot(data=df_ratings, x=\"Book-Rating\")\n",
    "plt.title(\"Distribution of Book Ratings\")\n",
    "plt.show()"
   ]
  },
  {
   "cell_type": "code",
   "execution_count": 87,
   "id": "aee18882",
   "metadata": {},
   "outputs": [
    {
     "data": {
      "application/vnd.microsoft.datawrangler.viewer.v0+json": {
       "columns": [
        {
         "name": "index",
         "rawType": "int64",
         "type": "integer"
        },
        {
         "name": "User-ID",
         "rawType": "int64",
         "type": "integer"
        },
        {
         "name": "ISBN",
         "rawType": "object",
         "type": "string"
        },
        {
         "name": "Book-Rating",
         "rawType": "int64",
         "type": "integer"
        }
       ],
       "ref": "8a31e55b-0257-4c0e-b350-8ad228a52086",
       "rows": [
        [
         "1",
         "276726",
         "0155061224",
         "5"
        ],
        [
         "3",
         "276729",
         "052165615X",
         "3"
        ],
        [
         "4",
         "276729",
         "0521795028",
         "6"
        ],
        [
         "6",
         "276736",
         "3257224281",
         "8"
        ],
        [
         "7",
         "276737",
         "0600570967",
         "6"
        ],
        [
         "8",
         "276744",
         "038550120X",
         "7"
        ],
        [
         "9",
         "276745",
         "342310538",
         "10"
        ],
        [
         "16",
         "276747",
         "0060517794",
         "9"
        ],
        [
         "19",
         "276747",
         "0671537458",
         "9"
        ],
        [
         "20",
         "276747",
         "0679776818",
         "8"
        ],
        [
         "21",
         "276747",
         "0943066433",
         "7"
        ],
        [
         "23",
         "276747",
         "1885408226",
         "7"
        ],
        [
         "24",
         "276748",
         "0747558167",
         "6"
        ],
        [
         "27",
         "276751",
         "3596218098",
         "8"
        ],
        [
         "28",
         "276754",
         "0684867621",
         "8"
        ],
        [
         "29",
         "276755",
         "0451166892",
         "5"
        ],
        [
         "30",
         "276760",
         "8440682697",
         "10"
        ],
        [
         "33",
         "276762",
         "0380711524",
         "5"
        ],
        [
         "44",
         "276762",
         "3453092007",
         "8"
        ],
        [
         "49",
         "276762",
         "3453213025",
         "3"
        ],
        [
         "55",
         "276762",
         "N3453124715",
         "4"
        ],
        [
         "57",
         "276768",
         "9057868059",
         "4"
        ],
        [
         "59",
         "276772",
         "0553572369",
         "7"
        ],
        [
         "61",
         "276772",
         "3499230933",
         "10"
        ],
        [
         "62",
         "276772",
         "3596151465",
         "10"
        ],
        [
         "66",
         "276774",
         "3442136644",
         "9"
        ],
        [
         "69",
         "276780",
         "8484330478",
         "7"
        ],
        [
         "70",
         "276780",
         "8484332039",
         "7"
        ],
        [
         "71",
         "276786",
         "2864322102",
         "6"
        ],
        [
         "77",
         "276786",
         "8437606322",
         "8"
        ],
        [
         "79",
         "276786",
         "8466300821",
         "6"
        ],
        [
         "81",
         "276786",
         "8478442588",
         "6"
        ],
        [
         "83",
         "276788",
         "0345443683",
         "8"
        ],
        [
         "84",
         "276788",
         "043935806X",
         "7"
        ],
        [
         "85",
         "276788",
         "055310666X",
         "10"
        ],
        [
         "86",
         "276796",
         "0330332775",
         "5"
        ],
        [
         "88",
         "276798",
         "0006379702",
         "5"
        ],
        [
         "90",
         "276798",
         "3442131340",
         "7"
        ],
        [
         "97",
         "276798",
         "3548603203",
         "6"
        ],
        [
         "105",
         "276800",
         "1562827898",
         "7"
        ],
        [
         "109",
         "276804",
         "0440498058",
         "8"
        ],
        [
         "112",
         "276808",
         "0395547032",
         "10"
        ],
        [
         "113",
         "276811",
         "0440414121",
         "10"
        ],
        [
         "114",
         "276812",
         "8879839993",
         "8"
        ],
        [
         "118",
         "276813",
         "8423996565",
         "8"
        ],
        [
         "120",
         "276813",
         "8426449476",
         "8"
        ],
        [
         "121",
         "276813",
         "8426449573",
         "6"
        ],
        [
         "122",
         "276813",
         "8478884831",
         "8"
        ],
        [
         "123",
         "276813",
         "8478885218",
         "6"
        ],
        [
         "124",
         "276813",
         "8478885463",
         "6"
        ]
       ],
       "shape": {
        "columns": 3,
        "rows": 433671
       }
      },
      "text/html": [
       "<div>\n",
       "<style scoped>\n",
       "    .dataframe tbody tr th:only-of-type {\n",
       "        vertical-align: middle;\n",
       "    }\n",
       "\n",
       "    .dataframe tbody tr th {\n",
       "        vertical-align: top;\n",
       "    }\n",
       "\n",
       "    .dataframe thead th {\n",
       "        text-align: right;\n",
       "    }\n",
       "</style>\n",
       "<table border=\"1\" class=\"dataframe\">\n",
       "  <thead>\n",
       "    <tr style=\"text-align: right;\">\n",
       "      <th></th>\n",
       "      <th>User-ID</th>\n",
       "      <th>ISBN</th>\n",
       "      <th>Book-Rating</th>\n",
       "    </tr>\n",
       "  </thead>\n",
       "  <tbody>\n",
       "    <tr>\n",
       "      <th>1</th>\n",
       "      <td>276726</td>\n",
       "      <td>0155061224</td>\n",
       "      <td>5</td>\n",
       "    </tr>\n",
       "    <tr>\n",
       "      <th>3</th>\n",
       "      <td>276729</td>\n",
       "      <td>052165615X</td>\n",
       "      <td>3</td>\n",
       "    </tr>\n",
       "    <tr>\n",
       "      <th>4</th>\n",
       "      <td>276729</td>\n",
       "      <td>0521795028</td>\n",
       "      <td>6</td>\n",
       "    </tr>\n",
       "    <tr>\n",
       "      <th>6</th>\n",
       "      <td>276736</td>\n",
       "      <td>3257224281</td>\n",
       "      <td>8</td>\n",
       "    </tr>\n",
       "    <tr>\n",
       "      <th>7</th>\n",
       "      <td>276737</td>\n",
       "      <td>0600570967</td>\n",
       "      <td>6</td>\n",
       "    </tr>\n",
       "    <tr>\n",
       "      <th>...</th>\n",
       "      <td>...</td>\n",
       "      <td>...</td>\n",
       "      <td>...</td>\n",
       "    </tr>\n",
       "    <tr>\n",
       "      <th>1149773</th>\n",
       "      <td>276704</td>\n",
       "      <td>0806917695</td>\n",
       "      <td>5</td>\n",
       "    </tr>\n",
       "    <tr>\n",
       "      <th>1149775</th>\n",
       "      <td>276704</td>\n",
       "      <td>1563526298</td>\n",
       "      <td>9</td>\n",
       "    </tr>\n",
       "    <tr>\n",
       "      <th>1149777</th>\n",
       "      <td>276709</td>\n",
       "      <td>0515107662</td>\n",
       "      <td>10</td>\n",
       "    </tr>\n",
       "    <tr>\n",
       "      <th>1149778</th>\n",
       "      <td>276721</td>\n",
       "      <td>0590442449</td>\n",
       "      <td>10</td>\n",
       "    </tr>\n",
       "    <tr>\n",
       "      <th>1149779</th>\n",
       "      <td>276723</td>\n",
       "      <td>05162443314</td>\n",
       "      <td>8</td>\n",
       "    </tr>\n",
       "  </tbody>\n",
       "</table>\n",
       "<p>433671 rows × 3 columns</p>\n",
       "</div>"
      ],
      "text/plain": [
       "         User-ID         ISBN  Book-Rating\n",
       "1         276726   0155061224            5\n",
       "3         276729   052165615X            3\n",
       "4         276729   0521795028            6\n",
       "6         276736   3257224281            8\n",
       "7         276737   0600570967            6\n",
       "...          ...          ...          ...\n",
       "1149773   276704   0806917695            5\n",
       "1149775   276704   1563526298            9\n",
       "1149777   276709   0515107662           10\n",
       "1149778   276721   0590442449           10\n",
       "1149779   276723  05162443314            8\n",
       "\n",
       "[433671 rows x 3 columns]"
      ]
     },
     "execution_count": 87,
     "metadata": {},
     "output_type": "execute_result"
    }
   ],
   "source": [
    "df_ratings: DataFrame = df_ratings[df_ratings[\"Book-Rating\"] != 0]\n",
    "\n",
    "df_ratings"
   ]
  },
  {
   "cell_type": "code",
   "execution_count": 88,
   "id": "3ea61ad2",
   "metadata": {},
   "outputs": [
    {
     "data": {
      "image/png": "[encoded data removed]",
      "text/plain": [
       "<Figure size 800x600 with 1 Axes>"
      ]
     },
     "metadata": {},
     "output_type": "display_data"
    }
   ],
   "source": [
    "plt.figure(figsize=(8, 6))\n",
    "sns.countplot(data=df_ratings, x=\"Book-Rating\")\n",
    "plt.title(\"Distribution of Book Ratings\")\n",
    "plt.show()"
   ]
  },
  {
   "cell_type": "code",
   "execution_count": 89,
   "id": "49593622",
   "metadata": {},
   "outputs": [
    {
     "data": {
      "application/vnd.microsoft.datawrangler.viewer.v0+json": {
       "columns": [
        {
         "name": "index",
         "rawType": "int64",
         "type": "integer"
        },
        {
         "name": "ISBN",
         "rawType": "object",
         "type": "string"
        },
        {
         "name": "Book-Title",
         "rawType": "object",
         "type": "string"
        },
        {
         "name": "Book-Author",
         "rawType": "object",
         "type": "string"
        },
        {
         "name": "Year-Of-Publication",
         "rawType": "object",
         "type": "string"
        },
        {
         "name": "Publisher",
         "rawType": "object",
         "type": "string"
        },
        {
         "name": "Image-URL-S",
         "rawType": "object",
         "type": "string"
        },
        {
         "name": "Image-URL-M",
         "rawType": "object",
         "type": "string"
        },
        {
         "name": "Image-URL-L",
         "rawType": "object",
         "type": "string"
        }
       ],
       "ref": "f025dae4-7804-420d-906f-816de62b9f1f",
       "rows": [
        [
         "0",
         "0195153448",
         "Classical Mythology",
         "Mark P. O. Morford",
         "2002",
         "Oxford University Press",
         "http://images.amazon.com/images/P/0195153448.01.THUMBZZZ.jpg",
         "http://images.amazon.com/images/P/0195153448.01.MZZZZZZZ.jpg",
         "http://images.amazon.com/images/P/0195153448.01.LZZZZZZZ.jpg"
        ],
        [
         "1",
         "0002005018",
         "Clara Callan",
         "Richard Bruce Wright",
         "2001",
         "HarperFlamingo Canada",
         "http://images.amazon.com/images/P/0002005018.01.THUMBZZZ.jpg",
         "http://images.amazon.com/images/P/0002005018.01.MZZZZZZZ.jpg",
         "http://images.amazon.com/images/P/0002005018.01.LZZZZZZZ.jpg"
        ],
        [
         "2",
         "0060973129",
         "Decision in Normandy",
         "Carlo D'Este",
         "1991",
         "HarperPerennial",
         "http://images.amazon.com/images/P/0060973129.01.THUMBZZZ.jpg",
         "http://images.amazon.com/images/P/0060973129.01.MZZZZZZZ.jpg",
         "http://images.amazon.com/images/P/0060973129.01.LZZZZZZZ.jpg"
        ],
        [
         "3",
         "0374157065",
         "Flu: The Story of the Great Influenza Pandemic of 1918 and the Search for the Virus That Caused It",
         "Gina Bari Kolata",
         "1999",
         "Farrar Straus Giroux",
         "http://images.amazon.com/images/P/0374157065.01.THUMBZZZ.jpg",
         "http://images.amazon.com/images/P/0374157065.01.MZZZZZZZ.jpg",
         "http://images.amazon.com/images/P/0374157065.01.LZZZZZZZ.jpg"
        ],
        [
         "4",
         "0393045218",
         "The Mummies of Urumchi",
         "E. J. W. Barber",
         "1999",
         "W. W. Norton &amp; Company",
         "http://images.amazon.com/images/P/0393045218.01.THUMBZZZ.jpg",
         "http://images.amazon.com/images/P/0393045218.01.MZZZZZZZ.jpg",
         "http://images.amazon.com/images/P/0393045218.01.LZZZZZZZ.jpg"
        ]
       ],
       "shape": {
        "columns": 8,
        "rows": 5
       }
      },
      "text/html": [
       "<div>\n",
       "<style scoped>\n",
       "    .dataframe tbody tr th:only-of-type {\n",
       "        vertical-align: middle;\n",
       "    }\n",
       "\n",
       "    .dataframe tbody tr th {\n",
       "        vertical-align: top;\n",
       "    }\n",
       "\n",
       "    .dataframe thead th {\n",
       "        text-align: right;\n",
       "    }\n",
       "</style>\n",
       "<table border=\"1\" class=\"dataframe\">\n",
       "  <thead>\n",
       "    <tr style=\"text-align: right;\">\n",
       "      <th></th>\n",
       "      <th>ISBN</th>\n",
       "      <th>Book-Title</th>\n",
       "      <th>Book-Author</th>\n",
       "      <th>Year-Of-Publication</th>\n",
       "      <th>Publisher</th>\n",
       "      <th>Image-URL-S</th>\n",
       "      <th>Image-URL-M</th>\n",
       "      <th>Image-URL-L</th>\n",
       "    </tr>\n",
       "  </thead>\n",
       "  <tbody>\n",
       "    <tr>\n",
       "      <th>0</th>\n",
       "      <td>0195153448</td>\n",
       "      <td>Classical Mythology</td>\n",
       "      <td>Mark P. O. Morford</td>\n",
       "      <td>2002</td>\n",
       "      <td>Oxford University Press</td>\n",
       "      <td>http://images.amazon.com/images/P/0195153448.0...</td>\n",
       "      <td>http://images.amazon.com/images/P/0195153448.0...</td>\n",
       "      <td>http://images.amazon.com/images/P/0195153448.0...</td>\n",
       "    </tr>\n",
       "    <tr>\n",
       "      <th>1</th>\n",
       "      <td>0002005018</td>\n",
       "      <td>Clara Callan</td>\n",
       "      <td>Richard Bruce Wright</td>\n",
       "      <td>2001</td>\n",
       "      <td>HarperFlamingo Canada</td>\n",
       "      <td>http://images.amazon.com/images/P/0002005018.0...</td>\n",
       "      <td>http://images.amazon.com/images/P/0002005018.0...</td>\n",
       "      <td>http://images.amazon.com/images/P/0002005018.0...</td>\n",
       "    </tr>\n",
       "    <tr>\n",
       "      <th>2</th>\n",
       "      <td>0060973129</td>\n",
       "      <td>Decision in Normandy</td>\n",
       "      <td>Carlo D'Este</td>\n",
       "      <td>1991</td>\n",
       "      <td>HarperPerennial</td>\n",
       "      <td>http://images.amazon.com/images/P/0060973129.0...</td>\n",
       "      <td>http://images.amazon.com/images/P/0060973129.0...</td>\n",
       "      <td>http://images.amazon.com/images/P/0060973129.0...</td>\n",
       "    </tr>\n",
       "    <tr>\n",
       "      <th>3</th>\n",
       "      <td>0374157065</td>\n",
       "      <td>Flu: The Story of the Great Influenza Pandemic...</td>\n",
       "      <td>Gina Bari Kolata</td>\n",
       "      <td>1999</td>\n",
       "      <td>Farrar Straus Giroux</td>\n",
       "      <td>http://images.amazon.com/images/P/0374157065.0...</td>\n",
       "      <td>http://images.amazon.com/images/P/0374157065.0...</td>\n",
       "      <td>http://images.amazon.com/images/P/0374157065.0...</td>\n",
       "    </tr>\n",
       "    <tr>\n",
       "      <th>4</th>\n",
       "      <td>0393045218</td>\n",
       "      <td>The Mummies of Urumchi</td>\n",
       "      <td>E. J. W. Barber</td>\n",
       "      <td>1999</td>\n",
       "      <td>W. W. Norton &amp;amp; Company</td>\n",
       "      <td>http://images.amazon.com/images/P/0393045218.0...</td>\n",
       "      <td>http://images.amazon.com/images/P/0393045218.0...</td>\n",
       "      <td>http://images.amazon.com/images/P/0393045218.0...</td>\n",
       "    </tr>\n",
       "  </tbody>\n",
       "</table>\n",
       "</div>"
      ],
      "text/plain": [
       "         ISBN                                         Book-Title  \\\n",
       "0  0195153448                                Classical Mythology   \n",
       "1  0002005018                                       Clara Callan   \n",
       "2  0060973129                               Decision in Normandy   \n",
       "3  0374157065  Flu: The Story of the Great Influenza Pandemic...   \n",
       "4  0393045218                             The Mummies of Urumchi   \n",
       "\n",
       "            Book-Author Year-Of-Publication                   Publisher  \\\n",
       "0    Mark P. O. Morford                2002     Oxford University Press   \n",
       "1  Richard Bruce Wright                2001       HarperFlamingo Canada   \n",
       "2          Carlo D'Este                1991             HarperPerennial   \n",
       "3      Gina Bari Kolata                1999        Farrar Straus Giroux   \n",
       "4       E. J. W. Barber                1999  W. W. Norton &amp; Company   \n",
       "\n",
       "                                         Image-URL-S  \\\n",
       "0  http://images.amazon.com/images/P/0195153448.0...   \n",
       "1  http://images.amazon.com/images/P/0002005018.0...   \n",
       "2  http://images.amazon.com/images/P/0060973129.0...   \n",
       "3  http://images.amazon.com/images/P/0374157065.0...   \n",
       "4  http://images.amazon.com/images/P/0393045218.0...   \n",
       "\n",
       "                                         Image-URL-M  \\\n",
       "0  http://images.amazon.com/images/P/0195153448.0...   \n",
       "1  http://images.amazon.com/images/P/0002005018.0...   \n",
       "2  http://images.amazon.com/images/P/0060973129.0...   \n",
       "3  http://images.amazon.com/images/P/0374157065.0...   \n",
       "4  http://images.amazon.com/images/P/0393045218.0...   \n",
       "\n",
       "                                         Image-URL-L  \n",
       "0  http://images.amazon.com/images/P/0195153448.0...  \n",
       "1  http://images.amazon.com/images/P/0002005018.0...  \n",
       "2  http://images.amazon.com/images/P/0060973129.0...  \n",
       "3  http://images.amazon.com/images/P/0374157065.0...  \n",
       "4  http://images.amazon.com/images/P/0393045218.0...  "
      ]
     },
     "execution_count": 89,
     "metadata": {},
     "output_type": "execute_result"
    }
   ],
   "source": [
    "df_books: DataFrame = pd.read_csv(\"../unprocessed-data/books.csv\", encoding=\"utf-8\", low_memory=False)\n",
    "\n",
    "df_books.head()\n"
   ]
  },
  {
   "cell_type": "code",
   "execution_count": 90,
   "id": "8fb48bd1",
   "metadata": {},
   "outputs": [
    {
     "name": "stdout",
     "output_type": "stream",
     "text": [
      "<class 'pandas.core.frame.DataFrame'>\n",
      "RangeIndex: 271360 entries, 0 to 271359\n",
      "Data columns (total 8 columns):\n",
      " #   Column               Non-Null Count   Dtype \n",
      "---  ------               --------------   ----- \n",
      " 0   ISBN                 271360 non-null  object\n",
      " 1   Book-Title           271360 non-null  object\n",
      " 2   Book-Author          271358 non-null  object\n",
      " 3   Year-Of-Publication  271360 non-null  object\n",
      " 4   Publisher            271358 non-null  object\n",
      " 5   Image-URL-S          271360 non-null  object\n",
      " 6   Image-URL-M          271360 non-null  object\n",
      " 7   Image-URL-L          271357 non-null  object\n",
      "dtypes: object(8)\n",
      "memory usage: 16.6+ MB\n"
     ]
    }
   ],
   "source": [
    "df_books.info()"
   ]
  },
  {
   "cell_type": "code",
   "execution_count": 91,
   "id": "e54a6c1f",
   "metadata": {},
   "outputs": [
    {
     "data": {
      "application/vnd.microsoft.datawrangler.viewer.v0+json": {
       "columns": [
        {
         "name": "index",
         "rawType": "object",
         "type": "string"
        },
        {
         "name": "0",
         "rawType": "int64",
         "type": "integer"
        }
       ],
       "ref": "06aa37ec-bd3a-405a-b893-60970deee65e",
       "rows": [
        [
         "ISBN",
         "0"
        ],
        [
         "Book-Title",
         "0"
        ],
        [
         "Book-Author",
         "2"
        ],
        [
         "Year-Of-Publication",
         "0"
        ],
        [
         "Publisher",
         "2"
        ],
        [
         "Image-URL-S",
         "0"
        ],
        [
         "Image-URL-M",
         "0"
        ],
        [
         "Image-URL-L",
         "3"
        ]
       ],
       "shape": {
        "columns": 1,
        "rows": 8
       }
      },
      "text/plain": [
       "ISBN                   0\n",
       "Book-Title             0\n",
       "Book-Author            2\n",
       "Year-Of-Publication    0\n",
       "Publisher              2\n",
       "Image-URL-S            0\n",
       "Image-URL-M            0\n",
       "Image-URL-L            3\n",
       "dtype: int64"
      ]
     },
     "execution_count": 91,
     "metadata": {},
     "output_type": "execute_result"
    }
   ],
   "source": [
    "df_books.isna().sum()"
   ]
  },
  {
   "cell_type": "code",
   "execution_count": 92,
   "id": "9d2a76f2",
   "metadata": {},
   "outputs": [],
   "source": [
    "df_books[\"Book-Author\"] = df_books[\"Book-Author\"].fillna(\"Unknown Author\")\n",
    "df_books[\"Publisher\"] = df_books[\"Publisher\"].fillna(\"Unknown Publisher\")"
   ]
  },
  {
   "cell_type": "code",
   "execution_count": 93,
   "id": "6edabee3",
   "metadata": {},
   "outputs": [],
   "source": [
    "df_books[\"Year-Of-Publication\"] = pd.to_numeric(df_books[\"Year-Of-Publication\"], errors=\"coerce\")"
   ]
  },
  {
   "cell_type": "code",
   "execution_count": 94,
   "id": "51a01dee",
   "metadata": {},
   "outputs": [],
   "source": [
    "df_books.isna().sum()\n",
    "df_books: DataFrame = df_books.dropna(subset=[\"Year-Of-Publication\"])"
   ]
  },
  {
   "cell_type": "code",
   "execution_count": 95,
   "id": "9b48ad95",
   "metadata": {},
   "outputs": [
    {
     "data": {
      "application/vnd.microsoft.datawrangler.viewer.v0+json": {
       "columns": [
        {
         "name": "index",
         "rawType": "int64",
         "type": "integer"
        },
        {
         "name": "User-ID",
         "rawType": "int64",
         "type": "integer"
        },
        {
         "name": "Location",
         "rawType": "object",
         "type": "string"
        },
        {
         "name": "Age",
         "rawType": "float64",
         "type": "float"
        }
       ],
       "ref": "6e84d89d-a3f5-47cc-9e72-26cba1d74dca",
       "rows": [
        [
         "0",
         "1",
         "nyc, new york, usa",
         null
        ],
        [
         "1",
         "2",
         "stockton, california, usa",
         "18.0"
        ],
        [
         "2",
         "3",
         "moscow, yukon territory, russia",
         null
        ],
        [
         "3",
         "4",
         "porto, v.n.gaia, portugal",
         "17.0"
        ],
        [
         "4",
         "5",
         "farnborough, hants, united kingdom",
         null
        ]
       ],
       "shape": {
        "columns": 3,
        "rows": 5
       }
      },
      "text/html": [
       "<div>\n",
       "<style scoped>\n",
       "    .dataframe tbody tr th:only-of-type {\n",
       "        vertical-align: middle;\n",
       "    }\n",
       "\n",
       "    .dataframe tbody tr th {\n",
       "        vertical-align: top;\n",
       "    }\n",
       "\n",
       "    .dataframe thead th {\n",
       "        text-align: right;\n",
       "    }\n",
       "</style>\n",
       "<table border=\"1\" class=\"dataframe\">\n",
       "  <thead>\n",
       "    <tr style=\"text-align: right;\">\n",
       "      <th></th>\n",
       "      <th>User-ID</th>\n",
       "      <th>Location</th>\n",
       "      <th>Age</th>\n",
       "    </tr>\n",
       "  </thead>\n",
       "  <tbody>\n",
       "    <tr>\n",
       "      <th>0</th>\n",
       "      <td>1</td>\n",
       "      <td>nyc, new york, usa</td>\n",
       "      <td>NaN</td>\n",
       "    </tr>\n",
       "    <tr>\n",
       "      <th>1</th>\n",
       "      <td>2</td>\n",
       "      <td>stockton, california, usa</td>\n",
       "      <td>18.0</td>\n",
       "    </tr>\n",
       "    <tr>\n",
       "      <th>2</th>\n",
       "      <td>3</td>\n",
       "      <td>moscow, yukon territory, russia</td>\n",
       "      <td>NaN</td>\n",
       "    </tr>\n",
       "    <tr>\n",
       "      <th>3</th>\n",
       "      <td>4</td>\n",
       "      <td>porto, v.n.gaia, portugal</td>\n",
       "      <td>17.0</td>\n",
       "    </tr>\n",
       "    <tr>\n",
       "      <th>4</th>\n",
       "      <td>5</td>\n",
       "      <td>farnborough, hants, united kingdom</td>\n",
       "      <td>NaN</td>\n",
       "    </tr>\n",
       "  </tbody>\n",
       "</table>\n",
       "</div>"
      ],
      "text/plain": [
       "   User-ID                            Location   Age\n",
       "0        1                  nyc, new york, usa   NaN\n",
       "1        2           stockton, california, usa  18.0\n",
       "2        3     moscow, yukon territory, russia   NaN\n",
       "3        4           porto, v.n.gaia, portugal  17.0\n",
       "4        5  farnborough, hants, united kingdom   NaN"
      ]
     },
     "execution_count": 95,
     "metadata": {},
     "output_type": "execute_result"
    }
   ],
   "source": [
    "df_users: DataFrame = pd.read_csv(\"../unprocessed-data/users.csv\")\n",
    "\n",
    "df_users.head()"
   ]
  },
  {
   "cell_type": "code",
   "execution_count": 96,
   "id": "0d3bd0b6",
   "metadata": {},
   "outputs": [
    {
     "name": "stdout",
     "output_type": "stream",
     "text": [
      "<class 'pandas.core.frame.DataFrame'>\n",
      "RangeIndex: 278858 entries, 0 to 278857\n",
      "Data columns (total 3 columns):\n",
      " #   Column    Non-Null Count   Dtype  \n",
      "---  ------    --------------   -----  \n",
      " 0   User-ID   278858 non-null  int64  \n",
      " 1   Location  278858 non-null  object \n",
      " 2   Age       168096 non-null  float64\n",
      "dtypes: float64(1), int64(1), object(1)\n",
      "memory usage: 6.4+ MB\n"
     ]
    }
   ],
   "source": [
    "df_users.info()"
   ]
  },
  {
   "cell_type": "code",
   "execution_count": 97,
   "id": "a20de0ae",
   "metadata": {},
   "outputs": [
    {
     "data": {
      "application/vnd.microsoft.datawrangler.viewer.v0+json": {
       "columns": [
        {
         "name": "index",
         "rawType": "object",
         "type": "string"
        },
        {
         "name": "0",
         "rawType": "int64",
         "type": "integer"
        }
       ],
       "ref": "8adeacb2-ff42-40d6-a6b6-1acc0ae8d158",
       "rows": [
        [
         "User-ID",
         "0"
        ],
        [
         "Location",
         "0"
        ],
        [
         "Age",
         "110762"
        ]
       ],
       "shape": {
        "columns": 1,
        "rows": 3
       }
      },
      "text/plain": [
       "User-ID          0\n",
       "Location         0\n",
       "Age         110762\n",
       "dtype: int64"
      ]
     },
     "execution_count": 97,
     "metadata": {},
     "output_type": "execute_result"
    }
   ],
   "source": [
    "df_users.isna().sum()"
   ]
  },
  {
   "cell_type": "code",
   "execution_count": 98,
   "id": "3d44f327",
   "metadata": {},
   "outputs": [],
   "source": [
    "df_users: DataFrame = df_users.drop(columns=\"Age\")"
   ]
  },
  {
   "cell_type": "code",
   "execution_count": 99,
   "id": "5fd5bb11",
   "metadata": {},
   "outputs": [
    {
     "data": {
      "application/vnd.microsoft.datawrangler.viewer.v0+json": {
       "columns": [
        {
         "name": "index",
         "rawType": "int64",
         "type": "integer"
        },
        {
         "name": "User-ID",
         "rawType": "int64",
         "type": "integer"
        },
        {
         "name": "Location",
         "rawType": "object",
         "type": "string"
        }
       ],
       "ref": "8edab8ef-8a8d-4f48-bcef-cf2fe059a220",
       "rows": [
        [
         "0",
         "1",
         "nyc, new york, usa"
        ],
        [
         "1",
         "2",
         "stockton, california, usa"
        ],
        [
         "2",
         "3",
         "moscow, yukon territory, russia"
        ],
        [
         "3",
         "4",
         "porto, v.n.gaia, portugal"
        ],
        [
         "4",
         "5",
         "farnborough, hants, united kingdom"
        ]
       ],
       "shape": {
        "columns": 2,
        "rows": 5
       }
      },
      "text/html": [
       "<div>\n",
       "<style scoped>\n",
       "    .dataframe tbody tr th:only-of-type {\n",
       "        vertical-align: middle;\n",
       "    }\n",
       "\n",
       "    .dataframe tbody tr th {\n",
       "        vertical-align: top;\n",
       "    }\n",
       "\n",
       "    .dataframe thead th {\n",
       "        text-align: right;\n",
       "    }\n",
       "</style>\n",
       "<table border=\"1\" class=\"dataframe\">\n",
       "  <thead>\n",
       "    <tr style=\"text-align: right;\">\n",
       "      <th></th>\n",
       "      <th>User-ID</th>\n",
       "      <th>Location</th>\n",
       "    </tr>\n",
       "  </thead>\n",
       "  <tbody>\n",
       "    <tr>\n",
       "      <th>0</th>\n",
       "      <td>1</td>\n",
       "      <td>nyc, new york, usa</td>\n",
       "    </tr>\n",
       "    <tr>\n",
       "      <th>1</th>\n",
       "      <td>2</td>\n",
       "      <td>stockton, california, usa</td>\n",
       "    </tr>\n",
       "    <tr>\n",
       "      <th>2</th>\n",
       "      <td>3</td>\n",
       "      <td>moscow, yukon territory, russia</td>\n",
       "    </tr>\n",
       "    <tr>\n",
       "      <th>3</th>\n",
       "      <td>4</td>\n",
       "      <td>porto, v.n.gaia, portugal</td>\n",
       "    </tr>\n",
       "    <tr>\n",
       "      <th>4</th>\n",
       "      <td>5</td>\n",
       "      <td>farnborough, hants, united kingdom</td>\n",
       "    </tr>\n",
       "  </tbody>\n",
       "</table>\n",
       "</div>"
      ],
      "text/plain": [
       "   User-ID                            Location\n",
       "0        1                  nyc, new york, usa\n",
       "1        2           stockton, california, usa\n",
       "2        3     moscow, yukon territory, russia\n",
       "3        4           porto, v.n.gaia, portugal\n",
       "4        5  farnborough, hants, united kingdom"
      ]
     },
     "execution_count": 99,
     "metadata": {},
     "output_type": "execute_result"
    }
   ],
   "source": [
    "df_users.head()"
   ]
  },
  {
   "cell_type": "code",
   "execution_count": 100,
   "id": "5dd61ec3",
   "metadata": {},
   "outputs": [
    {
     "data": {
      "application/vnd.microsoft.datawrangler.viewer.v0+json": {
       "columns": [
        {
         "name": "index",
         "rawType": "int64",
         "type": "integer"
        },
        {
         "name": "User-ID",
         "rawType": "int64",
         "type": "integer"
        },
        {
         "name": "ISBN",
         "rawType": "object",
         "type": "string"
        },
        {
         "name": "Book-Rating",
         "rawType": "int64",
         "type": "integer"
        },
        {
         "name": "Book-Title",
         "rawType": "object",
         "type": "string"
        },
        {
         "name": "Book-Author",
         "rawType": "object",
         "type": "string"
        },
        {
         "name": "Year-Of-Publication",
         "rawType": "float64",
         "type": "float"
        },
        {
         "name": "Publisher",
         "rawType": "object",
         "type": "string"
        },
        {
         "name": "Image-URL-S",
         "rawType": "object",
         "type": "string"
        },
        {
         "name": "Image-URL-M",
         "rawType": "object",
         "type": "string"
        },
        {
         "name": "Image-URL-L",
         "rawType": "object",
         "type": "string"
        }
       ],
       "ref": "377b470f-1829-48a2-9e66-339d416d6663",
       "rows": [
        [
         "0",
         "276726",
         "0155061224",
         "5",
         "Rites of Passage",
         "Judith Rae",
         "2001.0",
         "Heinle",
         "http://images.amazon.com/images/P/0155061224.01.THUMBZZZ.jpg",
         "http://images.amazon.com/images/P/0155061224.01.MZZZZZZZ.jpg",
         "http://images.amazon.com/images/P/0155061224.01.LZZZZZZZ.jpg"
        ],
        [
         "1",
         "276729",
         "052165615X",
         "3",
         "Help!: Level 1",
         "Philip Prowse",
         "1999.0",
         "Cambridge University Press",
         "http://images.amazon.com/images/P/052165615X.01.THUMBZZZ.jpg",
         "http://images.amazon.com/images/P/052165615X.01.MZZZZZZZ.jpg",
         "http://images.amazon.com/images/P/052165615X.01.LZZZZZZZ.jpg"
        ],
        [
         "2",
         "276729",
         "0521795028",
         "6",
         "The Amsterdam Connection : Level 4 (Cambridge English Readers)",
         "Sue Leather",
         "2001.0",
         "Cambridge University Press",
         "http://images.amazon.com/images/P/0521795028.01.THUMBZZZ.jpg",
         "http://images.amazon.com/images/P/0521795028.01.MZZZZZZZ.jpg",
         "http://images.amazon.com/images/P/0521795028.01.LZZZZZZZ.jpg"
        ],
        [
         "3",
         "276744",
         "038550120X",
         "7",
         "A Painted House",
         "JOHN GRISHAM",
         "2001.0",
         "Doubleday",
         "http://images.amazon.com/images/P/038550120X.01.THUMBZZZ.jpg",
         "http://images.amazon.com/images/P/038550120X.01.MZZZZZZZ.jpg",
         "http://images.amazon.com/images/P/038550120X.01.LZZZZZZZ.jpg"
        ],
        [
         "4",
         "276747",
         "0060517794",
         "9",
         "Little Altars Everywhere",
         "Rebecca Wells",
         "2003.0",
         "HarperTorch",
         "http://images.amazon.com/images/P/0060517794.01.THUMBZZZ.jpg",
         "http://images.amazon.com/images/P/0060517794.01.MZZZZZZZ.jpg",
         "http://images.amazon.com/images/P/0060517794.01.LZZZZZZZ.jpg"
        ]
       ],
       "shape": {
        "columns": 10,
        "rows": 5
       }
      },
      "text/html": [
       "<div>\n",
       "<style scoped>\n",
       "    .dataframe tbody tr th:only-of-type {\n",
       "        vertical-align: middle;\n",
       "    }\n",
       "\n",
       "    .dataframe tbody tr th {\n",
       "        vertical-align: top;\n",
       "    }\n",
       "\n",
       "    .dataframe thead th {\n",
       "        text-align: right;\n",
       "    }\n",
       "</style>\n",
       "<table border=\"1\" class=\"dataframe\">\n",
       "  <thead>\n",
       "    <tr style=\"text-align: right;\">\n",
       "      <th></th>\n",
       "      <th>User-ID</th>\n",
       "      <th>ISBN</th>\n",
       "      <th>Book-Rating</th>\n",
       "      <th>Book-Title</th>\n",
       "      <th>Book-Author</th>\n",
       "      <th>Year-Of-Publication</th>\n",
       "      <th>Publisher</th>\n",
       "      <th>Image-URL-S</th>\n",
       "      <th>Image-URL-M</th>\n",
       "      <th>Image-URL-L</th>\n",
       "    </tr>\n",
       "  </thead>\n",
       "  <tbody>\n",
       "    <tr>\n",
       "      <th>0</th>\n",
       "      <td>276726</td>\n",
       "      <td>0155061224</td>\n",
       "      <td>5</td>\n",
       "      <td>Rites of Passage</td>\n",
       "      <td>Judith Rae</td>\n",
       "      <td>2001.0</td>\n",
       "      <td>Heinle</td>\n",
       "      <td>http://images.amazon.com/images/P/0155061224.0...</td>\n",
       "      <td>http://images.amazon.com/images/P/0155061224.0...</td>\n",
       "      <td>http://images.amazon.com/images/P/0155061224.0...</td>\n",
       "    </tr>\n",
       "    <tr>\n",
       "      <th>1</th>\n",
       "      <td>276729</td>\n",
       "      <td>052165615X</td>\n",
       "      <td>3</td>\n",
       "      <td>Help!: Level 1</td>\n",
       "      <td>Philip Prowse</td>\n",
       "      <td>1999.0</td>\n",
       "      <td>Cambridge University Press</td>\n",
       "      <td>http://images.amazon.com/images/P/052165615X.0...</td>\n",
       "      <td>http://images.amazon.com/images/P/052165615X.0...</td>\n",
       "      <td>http://images.amazon.com/images/P/052165615X.0...</td>\n",
       "    </tr>\n",
       "    <tr>\n",
       "      <th>2</th>\n",
       "      <td>276729</td>\n",
       "      <td>0521795028</td>\n",
       "      <td>6</td>\n",
       "      <td>The Amsterdam Connection : Level 4 (Cambridge ...</td>\n",
       "      <td>Sue Leather</td>\n",
       "      <td>2001.0</td>\n",
       "      <td>Cambridge University Press</td>\n",
       "      <td>http://images.amazon.com/images/P/0521795028.0...</td>\n",
       "      <td>http://images.amazon.com/images/P/0521795028.0...</td>\n",
       "      <td>http://images.amazon.com/images/P/0521795028.0...</td>\n",
       "    </tr>\n",
       "    <tr>\n",
       "      <th>3</th>\n",
       "      <td>276744</td>\n",
       "      <td>038550120X</td>\n",
       "      <td>7</td>\n",
       "      <td>A Painted House</td>\n",
       "      <td>JOHN GRISHAM</td>\n",
       "      <td>2001.0</td>\n",
       "      <td>Doubleday</td>\n",
       "      <td>http://images.amazon.com/images/P/038550120X.0...</td>\n",
       "      <td>http://images.amazon.com/images/P/038550120X.0...</td>\n",
       "      <td>http://images.amazon.com/images/P/038550120X.0...</td>\n",
       "    </tr>\n",
       "    <tr>\n",
       "      <th>4</th>\n",
       "      <td>276747</td>\n",
       "      <td>0060517794</td>\n",
       "      <td>9</td>\n",
       "      <td>Little Altars Everywhere</td>\n",
       "      <td>Rebecca Wells</td>\n",
       "      <td>2003.0</td>\n",
       "      <td>HarperTorch</td>\n",
       "      <td>http://images.amazon.com/images/P/0060517794.0...</td>\n",
       "      <td>http://images.amazon.com/images/P/0060517794.0...</td>\n",
       "      <td>http://images.amazon.com/images/P/0060517794.0...</td>\n",
       "    </tr>\n",
       "  </tbody>\n",
       "</table>\n",
       "</div>"
      ],
      "text/plain": [
       "   User-ID        ISBN  Book-Rating  \\\n",
       "0   276726  0155061224            5   \n",
       "1   276729  052165615X            3   \n",
       "2   276729  0521795028            6   \n",
       "3   276744  038550120X            7   \n",
       "4   276747  0060517794            9   \n",
       "\n",
       "                                          Book-Title    Book-Author  \\\n",
       "0                                   Rites of Passage     Judith Rae   \n",
       "1                                     Help!: Level 1  Philip Prowse   \n",
       "2  The Amsterdam Connection : Level 4 (Cambridge ...    Sue Leather   \n",
       "3                                    A Painted House   JOHN GRISHAM   \n",
       "4                           Little Altars Everywhere  Rebecca Wells   \n",
       "\n",
       "   Year-Of-Publication                   Publisher  \\\n",
       "0               2001.0                      Heinle   \n",
       "1               1999.0  Cambridge University Press   \n",
       "2               2001.0  Cambridge University Press   \n",
       "3               2001.0                   Doubleday   \n",
       "4               2003.0                 HarperTorch   \n",
       "\n",
       "                                         Image-URL-S  \\\n",
       "0  http://images.amazon.com/images/P/0155061224.0...   \n",
       "1  http://images.amazon.com/images/P/052165615X.0...   \n",
       "2  http://images.amazon.com/images/P/0521795028.0...   \n",
       "3  http://images.amazon.com/images/P/038550120X.0...   \n",
       "4  http://images.amazon.com/images/P/0060517794.0...   \n",
       "\n",
       "                                         Image-URL-M  \\\n",
       "0  http://images.amazon.com/images/P/0155061224.0...   \n",
       "1  http://images.amazon.com/images/P/052165615X.0...   \n",
       "2  http://images.amazon.com/images/P/0521795028.0...   \n",
       "3  http://images.amazon.com/images/P/038550120X.0...   \n",
       "4  http://images.amazon.com/images/P/0060517794.0...   \n",
       "\n",
       "                                         Image-URL-L  \n",
       "0  http://images.amazon.com/images/P/0155061224.0...  \n",
       "1  http://images.amazon.com/images/P/052165615X.0...  \n",
       "2  http://images.amazon.com/images/P/0521795028.0...  \n",
       "3  http://images.amazon.com/images/P/038550120X.0...  \n",
       "4  http://images.amazon.com/images/P/0060517794.0...  "
      ]
     },
     "execution_count": 100,
     "metadata": {},
     "output_type": "execute_result"
    }
   ],
   "source": [
    "df_books_rating: DataFrame = df_ratings.merge(df_books, on=\"ISBN\", how=\"inner\")\n",
    "\n",
    "df_books_rating.head()"
   ]
  },
  {
   "cell_type": "code",
   "execution_count": 101,
   "id": "b045f6cb",
   "metadata": {},
   "outputs": [],
   "source": [
    "df_books_rating: DataFrame = df_books_rating.drop(columns=[\"Image-URL-S\", \"Image-URL-M\", \"Image-URL-L\"])"
   ]
  },
  {
   "cell_type": "code",
   "execution_count": 102,
   "id": "f2237584",
   "metadata": {},
   "outputs": [
    {
     "data": {
      "application/vnd.microsoft.datawrangler.viewer.v0+json": {
       "columns": [
        {
         "name": "index",
         "rawType": "int64",
         "type": "integer"
        },
        {
         "name": "User-ID",
         "rawType": "int64",
         "type": "integer"
        },
        {
         "name": "ISBN",
         "rawType": "object",
         "type": "string"
        },
        {
         "name": "Book-Rating",
         "rawType": "int64",
         "type": "integer"
        },
        {
         "name": "Book-Title",
         "rawType": "object",
         "type": "string"
        },
        {
         "name": "Book-Author",
         "rawType": "object",
         "type": "string"
        },
        {
         "name": "Year-Of-Publication",
         "rawType": "float64",
         "type": "float"
        },
        {
         "name": "Publisher",
         "rawType": "object",
         "type": "string"
        }
       ],
       "ref": "18c3179e-60ec-481f-9c64-139c00c39698",
       "rows": [
        [
         "0",
         "276726",
         "0155061224",
         "5",
         "Rites of Passage",
         "Judith Rae",
         "2001.0",
         "Heinle"
        ],
        [
         "1",
         "276729",
         "052165615X",
         "3",
         "Help!: Level 1",
         "Philip Prowse",
         "1999.0",
         "Cambridge University Press"
        ],
        [
         "2",
         "276729",
         "0521795028",
         "6",
         "The Amsterdam Connection : Level 4 (Cambridge English Readers)",
         "Sue Leather",
         "2001.0",
         "Cambridge University Press"
        ],
        [
         "3",
         "276744",
         "038550120X",
         "7",
         "A Painted House",
         "JOHN GRISHAM",
         "2001.0",
         "Doubleday"
        ],
        [
         "4",
         "276747",
         "0060517794",
         "9",
         "Little Altars Everywhere",
         "Rebecca Wells",
         "2003.0",
         "HarperTorch"
        ]
       ],
       "shape": {
        "columns": 7,
        "rows": 5
       }
      },
      "text/html": [
       "<div>\n",
       "<style scoped>\n",
       "    .dataframe tbody tr th:only-of-type {\n",
       "        vertical-align: middle;\n",
       "    }\n",
       "\n",
       "    .dataframe tbody tr th {\n",
       "        vertical-align: top;\n",
       "    }\n",
       "\n",
       "    .dataframe thead th {\n",
       "        text-align: right;\n",
       "    }\n",
       "</style>\n",
       "<table border=\"1\" class=\"dataframe\">\n",
       "  <thead>\n",
       "    <tr style=\"text-align: right;\">\n",
       "      <th></th>\n",
       "      <th>User-ID</th>\n",
       "      <th>ISBN</th>\n",
       "      <th>Book-Rating</th>\n",
       "      <th>Book-Title</th>\n",
       "      <th>Book-Author</th>\n",
       "      <th>Year-Of-Publication</th>\n",
       "      <th>Publisher</th>\n",
       "    </tr>\n",
       "  </thead>\n",
       "  <tbody>\n",
       "    <tr>\n",
       "      <th>0</th>\n",
       "      <td>276726</td>\n",
       "      <td>0155061224</td>\n",
       "      <td>5</td>\n",
       "      <td>Rites of Passage</td>\n",
       "      <td>Judith Rae</td>\n",
       "      <td>2001.0</td>\n",
       "      <td>Heinle</td>\n",
       "    </tr>\n",
       "    <tr>\n",
       "      <th>1</th>\n",
       "      <td>276729</td>\n",
       "      <td>052165615X</td>\n",
       "      <td>3</td>\n",
       "      <td>Help!: Level 1</td>\n",
       "      <td>Philip Prowse</td>\n",
       "      <td>1999.0</td>\n",
       "      <td>Cambridge University Press</td>\n",
       "    </tr>\n",
       "    <tr>\n",
       "      <th>2</th>\n",
       "      <td>276729</td>\n",
       "      <td>0521795028</td>\n",
       "      <td>6</td>\n",
       "      <td>The Amsterdam Connection : Level 4 (Cambridge ...</td>\n",
       "      <td>Sue Leather</td>\n",
       "      <td>2001.0</td>\n",
       "      <td>Cambridge University Press</td>\n",
       "    </tr>\n",
       "    <tr>\n",
       "      <th>3</th>\n",
       "      <td>276744</td>\n",
       "      <td>038550120X</td>\n",
       "      <td>7</td>\n",
       "      <td>A Painted House</td>\n",
       "      <td>JOHN GRISHAM</td>\n",
       "      <td>2001.0</td>\n",
       "      <td>Doubleday</td>\n",
       "    </tr>\n",
       "    <tr>\n",
       "      <th>4</th>\n",
       "      <td>276747</td>\n",
       "      <td>0060517794</td>\n",
       "      <td>9</td>\n",
       "      <td>Little Altars Everywhere</td>\n",
       "      <td>Rebecca Wells</td>\n",
       "      <td>2003.0</td>\n",
       "      <td>HarperTorch</td>\n",
       "    </tr>\n",
       "  </tbody>\n",
       "</table>\n",
       "</div>"
      ],
      "text/plain": [
       "   User-ID        ISBN  Book-Rating  \\\n",
       "0   276726  0155061224            5   \n",
       "1   276729  052165615X            3   \n",
       "2   276729  0521795028            6   \n",
       "3   276744  038550120X            7   \n",
       "4   276747  0060517794            9   \n",
       "\n",
       "                                          Book-Title    Book-Author  \\\n",
       "0                                   Rites of Passage     Judith Rae   \n",
       "1                                     Help!: Level 1  Philip Prowse   \n",
       "2  The Amsterdam Connection : Level 4 (Cambridge ...    Sue Leather   \n",
       "3                                    A Painted House   JOHN GRISHAM   \n",
       "4                           Little Altars Everywhere  Rebecca Wells   \n",
       "\n",
       "   Year-Of-Publication                   Publisher  \n",
       "0               2001.0                      Heinle  \n",
       "1               1999.0  Cambridge University Press  \n",
       "2               2001.0  Cambridge University Press  \n",
       "3               2001.0                   Doubleday  \n",
       "4               2003.0                 HarperTorch  "
      ]
     },
     "execution_count": 102,
     "metadata": {},
     "output_type": "execute_result"
    }
   ],
   "source": [
    "df_books_rating.head()"
   ]
  },
  {
   "cell_type": "code",
   "execution_count": 103,
   "id": "eb0becaa",
   "metadata": {},
   "outputs": [
    {
     "data": {
      "application/vnd.microsoft.datawrangler.viewer.v0+json": {
       "columns": [
        {
         "name": "index",
         "rawType": "object",
         "type": "string"
        },
        {
         "name": "0",
         "rawType": "int64",
         "type": "integer"
        }
       ],
       "ref": "6765ede9-b1de-4d2e-8314-3d95c4b0a65d",
       "rows": [
        [
         "User-ID",
         "0"
        ],
        [
         "ISBN",
         "0"
        ],
        [
         "Book-Rating",
         "0"
        ],
        [
         "Book-Title",
         "0"
        ],
        [
         "Book-Author",
         "0"
        ],
        [
         "Year-Of-Publication",
         "0"
        ],
        [
         "Publisher",
         "0"
        ]
       ],
       "shape": {
        "columns": 1,
        "rows": 7
       }
      },
      "text/plain": [
       "User-ID                0\n",
       "ISBN                   0\n",
       "Book-Rating            0\n",
       "Book-Title             0\n",
       "Book-Author            0\n",
       "Year-Of-Publication    0\n",
       "Publisher              0\n",
       "dtype: int64"
      ]
     },
     "execution_count": 103,
     "metadata": {},
     "output_type": "execute_result"
    }
   ],
   "source": [
    "df_books_rating.isna().sum()"
   ]
  },
  {
   "cell_type": "code",
   "execution_count": 104,
   "id": "bb71d44b",
   "metadata": {},
   "outputs": [
    {
     "data": {
      "application/vnd.microsoft.datawrangler.viewer.v0+json": {
       "columns": [
        {
         "name": "index",
         "rawType": "int64",
         "type": "integer"
        },
        {
         "name": "Book-Title",
         "rawType": "object",
         "type": "string"
        },
        {
         "name": "num_ratings",
         "rawType": "int64",
         "type": "integer"
        }
       ],
       "ref": "fbedae98-4232-4de9-b3b9-73d322cfd538",
       "rows": [
        [
         "0",
         " A Light in the Storm: The Civil War Diary of Amelia Martin, Fenwick Island, Delaware, 1861 (Dear America)",
         "1"
        ],
        [
         "1",
         " Ask Lily (Young Women of Faith: Lily Series, Book 5)",
         "1"
        ],
        [
         "2",
         " Dark Justice",
         "1"
        ],
        [
         "3",
         " Earth Prayers From around the World: 365 Prayers, Poems, and Invocations for Honoring the Earth",
         "7"
        ],
        [
         "4",
         " Final Fantasy Anthology: Official Strategy Guide (Brady Games)",
         "2"
        ],
        [
         "5",
         " Flight of Fancy: American Heiresses (Zebra Ballad Romance)",
         "1"
        ],
        [
         "6",
         " Garfield Bigger and Better (Garfield (Numbered Paperback))",
         "1"
        ],
        [
         "7",
         " God's Little Promise Book",
         "1"
        ],
        [
         "8",
         " Good Wives: Image and Reality in the Lives of Women in Northern New England, 1650-1750",
         "4"
        ],
        [
         "9",
         " Goosebumps Monster Edition 1: Welcome to Dead House, Stay Out of the Basement, and Say Cheese and Die!",
         "3"
        ],
        [
         "10",
         " Highland Desire (Zebra Splendor Historical Romances)",
         "1"
        ],
        [
         "11",
         " Little Comic Shop of Horrors (Give Yourself Goosebumps, Book 17)",
         "1"
        ],
        [
         "12",
         " Microsoft Application Architecture For Microsoft .net: Designing Application (Pro-Other)",
         "1"
        ],
        [
         "13",
         " Murder of a Sleeping Beauty (Scumble River Mysteries (Paperback))",
         "5"
        ],
        [
         "14",
         " Nonbook Materials: The Organization of Integrated Collections",
         "1"
        ],
        [
         "15",
         " Q-Space (Star Trek The Next Generation, Book 47)",
         "4"
        ],
        [
         "16",
         " Q-Zone (Star Trek The Next Generation, Book 48)",
         "2"
        ],
        [
         "17",
         " Summonings: Books of Magic, Vol. 2",
         "2"
        ],
        [
         "18",
         " The Secret of the Old Clock (Nancy Drew, Book 1)",
         "1"
        ],
        [
         "19",
         " This Place Has No Atmosphere (Laurel-Leaf Books)",
         "2"
        ],
        [
         "20",
         " Travel Companion Chile and Easter Island (Travel Companion)",
         "1"
        ],
        [
         "21",
         " Weird News Stories",
         "1"
        ],
        [
         "22",
         " the Devil Will Drag You Under",
         "1"
        ],
        [
         "23",
         "!%@ (A Nutshell handbook)",
         "1"
        ],
        [
         "24",
         "!Arriba! Comunicacion y cultura",
         "1"
        ],
        [
         "25",
         "!Trato hecho!: Spanish for Real Life, Combined Edition",
         "1"
        ],
        [
         "26",
         "!Yo!",
         "7"
        ],
        [
         "27",
         "$14 In The Bank (Cathy Collection)",
         "1"
        ],
        [
         "28",
         "$30 Film School",
         "1"
        ],
        [
         "29",
         "$oft Money: The True Power in Our Nation's Capital",
         "3"
        ],
        [
         "30",
         "' Allo 'Allo: the War Diaries of Rene Artois",
         "1"
        ],
        [
         "31",
         "' L' Is for Lawless",
         "1"
        ],
        [
         "32",
         "' Mein verwundetes Herz'. Das Leben der Lilli Jahn 1900 - 1944.",
         "1"
        ],
        [
         "33",
         "' Sehr geehrtes Arschloch.' Briefe an den RegierungsprÃ?Â¤sidenten.",
         "1"
        ],
        [
         "34",
         "' Sie belieben wohl zu scherzen, Mr. Feynman.'. Abenteuer eines neugierigen Physikers.",
         "1"
        ],
        [
         "35",
         "' Small g'. Eine Sommeridylle.",
         "2"
        ],
        [
         "36",
         "'A Hell of a Place to Lose a Cow': An American Hitchhiking Odyssey",
         "2"
        ],
        [
         "37",
         "'California Historical Landmarks'",
         "1"
        ],
        [
         "38",
         "'Eine gute Frau hat keinen Kopf'. EuropÃ?Â¤ische SprichwÃ?Â¶rter Ã?Â¼ber Frauen.",
         "1"
        ],
        [
         "39",
         "'G' Is for Grafton : The World of Kinsey Millhone",
         "3"
        ],
        [
         "40",
         "'Isms: a dictionary of words ending in -ism, -ology, and -phobia,: With some similar terms, arranged in subject order",
         "1"
        ],
        [
         "41",
         "'Mit Verlaub, Sie sind ein Arschloch.' Joschkas schÃ?Â¤rfste SprÃ?Â¼che.",
         "1"
        ],
        [
         "42",
         "'N Sync",
         "1"
        ],
        [
         "43",
         "'O Au No Keia: Voices from Hawai'I's Mahu and Transgender Communities",
         "1"
        ],
        [
         "44",
         "'Romance of Paula Vaughn'",
         "1"
        ],
        [
         "45",
         "'Round the Corner (Sister Circle)",
         "1"
        ],
        [
         "46",
         "'Salem's Lot",
         "22"
        ],
        [
         "47",
         "'The Moon by Whale Light: And Other Adventures Among Bats, Penguins, Crocodilians, and Whales",
         "1"
        ],
        [
         "48",
         "'Til Death Do Us Part",
         "3"
        ],
        [
         "49",
         "'Til There Was You",
         "1"
        ]
       ],
       "shape": {
        "columns": 2,
        "rows": 135566
       }
      },
      "text/html": [
       "<div>\n",
       "<style scoped>\n",
       "    .dataframe tbody tr th:only-of-type {\n",
       "        vertical-align: middle;\n",
       "    }\n",
       "\n",
       "    .dataframe tbody tr th {\n",
       "        vertical-align: top;\n",
       "    }\n",
       "\n",
       "    .dataframe thead th {\n",
       "        text-align: right;\n",
       "    }\n",
       "</style>\n",
       "<table border=\"1\" class=\"dataframe\">\n",
       "  <thead>\n",
       "    <tr style=\"text-align: right;\">\n",
       "      <th></th>\n",
       "      <th>Book-Title</th>\n",
       "      <th>num_ratings</th>\n",
       "    </tr>\n",
       "  </thead>\n",
       "  <tbody>\n",
       "    <tr>\n",
       "      <th>0</th>\n",
       "      <td>A Light in the Storm: The Civil War Diary of ...</td>\n",
       "      <td>1</td>\n",
       "    </tr>\n",
       "    <tr>\n",
       "      <th>1</th>\n",
       "      <td>Ask Lily (Young Women of Faith: Lily Series, ...</td>\n",
       "      <td>1</td>\n",
       "    </tr>\n",
       "    <tr>\n",
       "      <th>2</th>\n",
       "      <td>Dark Justice</td>\n",
       "      <td>1</td>\n",
       "    </tr>\n",
       "    <tr>\n",
       "      <th>3</th>\n",
       "      <td>Earth Prayers From around the World: 365 Pray...</td>\n",
       "      <td>7</td>\n",
       "    </tr>\n",
       "    <tr>\n",
       "      <th>4</th>\n",
       "      <td>Final Fantasy Anthology: Official Strategy Gu...</td>\n",
       "      <td>2</td>\n",
       "    </tr>\n",
       "    <tr>\n",
       "      <th>...</th>\n",
       "      <td>...</td>\n",
       "      <td>...</td>\n",
       "    </tr>\n",
       "    <tr>\n",
       "      <th>135561</th>\n",
       "      <td>Ã?Â?bernachten mit Stil. Die schÃ?Â¶nsten Coun...</td>\n",
       "      <td>1</td>\n",
       "    </tr>\n",
       "    <tr>\n",
       "      <th>135562</th>\n",
       "      <td>Ã?Â?rger mit Produkt X. Roman.</td>\n",
       "      <td>3</td>\n",
       "    </tr>\n",
       "    <tr>\n",
       "      <th>135563</th>\n",
       "      <td>Ã?Â?sterlich leben.</td>\n",
       "      <td>1</td>\n",
       "    </tr>\n",
       "    <tr>\n",
       "      <th>135564</th>\n",
       "      <td>Ã?Â?stlich der Berge.</td>\n",
       "      <td>1</td>\n",
       "    </tr>\n",
       "    <tr>\n",
       "      <th>135565</th>\n",
       "      <td>Ã?Â?thique en toc</td>\n",
       "      <td>1</td>\n",
       "    </tr>\n",
       "  </tbody>\n",
       "</table>\n",
       "<p>135566 rows × 2 columns</p>\n",
       "</div>"
      ],
      "text/plain": [
       "                                               Book-Title  num_ratings\n",
       "0        A Light in the Storm: The Civil War Diary of ...            1\n",
       "1        Ask Lily (Young Women of Faith: Lily Series, ...            1\n",
       "2                                            Dark Justice            1\n",
       "3        Earth Prayers From around the World: 365 Pray...            7\n",
       "4        Final Fantasy Anthology: Official Strategy Gu...            2\n",
       "...                                                   ...          ...\n",
       "135561  Ã?Â?bernachten mit Stil. Die schÃ?Â¶nsten Coun...            1\n",
       "135562                     Ã?Â?rger mit Produkt X. Roman.            3\n",
       "135563                                Ã?Â?sterlich leben.            1\n",
       "135564                              Ã?Â?stlich der Berge.            1\n",
       "135565                                  Ã?Â?thique en toc            1\n",
       "\n",
       "[135566 rows x 2 columns]"
      ]
     },
     "execution_count": 104,
     "metadata": {},
     "output_type": "execute_result"
    }
   ],
   "source": [
    "ratings_per_book: DataFrame = df_books_rating.groupby(\"Book-Title\")[\"Book-Rating\"].count().reset_index()\n",
    "ratings_per_book: DataFrame = ratings_per_book.rename(columns={\"Book-Rating\":\"num_ratings\"})\n",
    "ratings_per_book"
   ]
  },
  {
   "cell_type": "code",
   "execution_count": 105,
   "id": "5d16a413",
   "metadata": {},
   "outputs": [
    {
     "data": {
      "application/vnd.microsoft.datawrangler.viewer.v0+json": {
       "columns": [
        {
         "name": "index",
         "rawType": "int64",
         "type": "integer"
        },
        {
         "name": "Book-Title",
         "rawType": "object",
         "type": "string"
        },
        {
         "name": "num_ratings",
         "rawType": "int64",
         "type": "integer"
        },
        {
         "name": "User-ID",
         "rawType": "int64",
         "type": "integer"
        },
        {
         "name": "ISBN",
         "rawType": "object",
         "type": "string"
        },
        {
         "name": "Book-Rating",
         "rawType": "int64",
         "type": "integer"
        },
        {
         "name": "Book-Author",
         "rawType": "object",
         "type": "string"
        },
        {
         "name": "Year-Of-Publication",
         "rawType": "float64",
         "type": "float"
        },
        {
         "name": "Publisher",
         "rawType": "object",
         "type": "string"
        }
       ],
       "ref": "87045021-8b87-43aa-958e-0f86b24f8a05",
       "rows": [
        [
         "0",
         " A Light in the Storm: The Civil War Diary of Amelia Martin, Fenwick Island, Delaware, 1861 (Dear America)",
         "1",
         "96448",
         "0590567330",
         "9",
         "Karen Hesse",
         "1999.0",
         "Hyperion Books for Children"
        ],
        [
         "1",
         " Ask Lily (Young Women of Faith: Lily Series, Book 5)",
         "1",
         "269557",
         "0310232546",
         "8",
         "Nancy N. Rue",
         "2001.0",
         "Zonderkidz"
        ],
        [
         "2",
         " Dark Justice",
         "1",
         "98391",
         "0399151788",
         "10",
         "Jack Higgins",
         "2004.0",
         "Putnam Publishing Group"
        ],
        [
         "3",
         " Earth Prayers From around the World: 365 Prayers, Poems, and Invocations for Honoring the Earth",
         "7",
         "26544",
         "006250746X",
         "9",
         "Elizabeth Roberts",
         "1991.0",
         "HarperSanFrancisco"
        ],
        [
         "4",
         " Earth Prayers From around the World: 365 Prayers, Poems, and Invocations for Honoring the Earth",
         "7",
         "69120",
         "006250746X",
         "10",
         "Elizabeth Roberts",
         "1991.0",
         "HarperSanFrancisco"
        ],
        [
         "5",
         " Earth Prayers From around the World: 365 Prayers, Poems, and Invocations for Honoring the Earth",
         "7",
         "121592",
         "006250746X",
         "7",
         "Elizabeth Roberts",
         "1991.0",
         "HarperSanFrancisco"
        ],
        [
         "6",
         " Earth Prayers From around the World: 365 Prayers, Poems, and Invocations for Honoring the Earth",
         "7",
         "179730",
         "006250746X",
         "1",
         "Elizabeth Roberts",
         "1991.0",
         "HarperSanFrancisco"
        ],
        [
         "7",
         " Earth Prayers From around the World: 365 Prayers, Poems, and Invocations for Honoring the Earth",
         "7",
         "179744",
         "006250746X",
         "6",
         "Elizabeth Roberts",
         "1991.0",
         "HarperSanFrancisco"
        ],
        [
         "8",
         " Earth Prayers From around the World: 365 Prayers, Poems, and Invocations for Honoring the Earth",
         "7",
         "205980",
         "006250746X",
         "10",
         "Elizabeth Roberts",
         "1991.0",
         "HarperSanFrancisco"
        ],
        [
         "9",
         " Earth Prayers From around the World: 365 Prayers, Poems, and Invocations for Honoring the Earth",
         "7",
         "211137",
         "006250746X",
         "7",
         "Elizabeth Roberts",
         "1991.0",
         "HarperSanFrancisco"
        ],
        [
         "10",
         " Final Fantasy Anthology: Official Strategy Guide (Brady Games)",
         "2",
         "30072",
         "1566869250",
         "10",
         "David Cassady",
         "1999.0",
         "BradyGames"
        ],
        [
         "11",
         " Final Fantasy Anthology: Official Strategy Guide (Brady Games)",
         "2",
         "101851",
         "1566869250",
         "10",
         "David Cassady",
         "1999.0",
         "BradyGames"
        ],
        [
         "12",
         " Flight of Fancy: American Heiresses (Zebra Ballad Romance)",
         "1",
         "61028",
         "082177350X",
         "8",
         "Tracy Cozzens",
         "2002.0",
         "Kensington Publishing Corporation"
        ],
        [
         "13",
         " Garfield Bigger and Better (Garfield (Numbered Paperback))",
         "1",
         "200323",
         "0345407709",
         "7",
         "Jim Davis",
         "1996.0",
         "Ballantine Books"
        ],
        [
         "14",
         " God's Little Promise Book",
         "1",
         "129465",
         "0849951577",
         "9",
         "Word Pub",
         "1995.0",
         "J Countryman Books"
        ],
        [
         "15",
         " Good Wives: Image and Reality in the Lives of Women in Northern New England, 1650-1750",
         "4",
         "46398",
         "0679732578",
         "7",
         "Laurel Thatcher Ulrich",
         "1991.0",
         "Vintage Books USA"
        ],
        [
         "16",
         " Good Wives: Image and Reality in the Lives of Women in Northern New England, 1650-1750",
         "4",
         "73622",
         "0679732578",
         "10",
         "Laurel Thatcher Ulrich",
         "1991.0",
         "Vintage Books USA"
        ],
        [
         "17",
         " Good Wives: Image and Reality in the Lives of Women in Northern New England, 1650-1750",
         "4",
         "168047",
         "0679732578",
         "7",
         "Laurel Thatcher Ulrich",
         "1991.0",
         "Vintage Books USA"
        ],
        [
         "18",
         " Good Wives: Image and Reality in the Lives of Women in Northern New England, 1650-1750",
         "4",
         "187284",
         "0679732578",
         "8",
         "Laurel Thatcher Ulrich",
         "1991.0",
         "Vintage Books USA"
        ],
        [
         "19",
         " Goosebumps Monster Edition 1: Welcome to Dead House, Stay Out of the Basement, and Say Cheese and Die!",
         "3",
         "212697",
         "0590509950",
         "8",
         "R. L. Stine",
         "1995.0",
         "Scholastic Paperbacks (T)"
        ],
        [
         "20",
         " Goosebumps Monster Edition 1: Welcome to Dead House, Stay Out of the Basement, and Say Cheese and Die!",
         "3",
         "215024",
         "0590509950",
         "7",
         "R. L. Stine",
         "1995.0",
         "Scholastic Paperbacks (T)"
        ],
        [
         "21",
         " Goosebumps Monster Edition 1: Welcome to Dead House, Stay Out of the Basement, and Say Cheese and Die!",
         "3",
         "240035",
         "0590509950",
         "5",
         "R. L. Stine",
         "1995.0",
         "Scholastic Paperbacks (T)"
        ],
        [
         "22",
         " Highland Desire (Zebra Splendor Historical Romances)",
         "1",
         "212965",
         "0821760580",
         "7",
         "Joyce Carlow",
         "1998.0",
         "Zebra Books"
        ],
        [
         "23",
         " Little Comic Shop of Horrors (Give Yourself Goosebumps, Book 17)",
         "1",
         "268932",
         "059093483X",
         "5",
         "R. L. Stine",
         "1997.0",
         "Apple (Scholastic)"
        ],
        [
         "24",
         " Microsoft Application Architecture For Microsoft .net: Designing Application (Pro-Other)",
         "1",
         "237883",
         "0735618372",
         "9",
         "Microsoft Corporation Staff",
         "2004.0",
         "Microsoft Press"
        ],
        [
         "25",
         " Murder of a Sleeping Beauty (Scumble River Mysteries (Paperback))",
         "5",
         "25409",
         "0451205480",
         "8",
         "Denise Swanson",
         "2002.0",
         "Signet Book"
        ],
        [
         "26",
         " Murder of a Sleeping Beauty (Scumble River Mysteries (Paperback))",
         "5",
         "69156",
         "0451205480",
         "6",
         "Denise Swanson",
         "2002.0",
         "Signet Book"
        ],
        [
         "27",
         " Murder of a Sleeping Beauty (Scumble River Mysteries (Paperback))",
         "5",
         "86145",
         "0451205480",
         "5",
         "Denise Swanson",
         "2002.0",
         "Signet Book"
        ],
        [
         "28",
         " Murder of a Sleeping Beauty (Scumble River Mysteries (Paperback))",
         "5",
         "98391",
         "0451205480",
         "9",
         "Denise Swanson",
         "2002.0",
         "Signet Book"
        ],
        [
         "29",
         " Murder of a Sleeping Beauty (Scumble River Mysteries (Paperback))",
         "5",
         "187517",
         "0451205480",
         "7",
         "Denise Swanson",
         "2002.0",
         "Signet Book"
        ],
        [
         "30",
         " Nonbook Materials: The Organization of Integrated Collections",
         "1",
         "171118",
         "0888020910",
         "7",
         "Jean Riddle Weihs",
         "1973.0",
         "Canadian Library Association"
        ],
        [
         "31",
         " Q-Space (Star Trek The Next Generation, Book 47)",
         "4",
         "183196",
         "0671019155",
         "10",
         "Greg Cox",
         "1998.0",
         "Star Trek"
        ],
        [
         "32",
         " Q-Space (Star Trek The Next Generation, Book 47)",
         "4",
         "226006",
         "0671019155",
         "10",
         "Greg Cox",
         "1998.0",
         "Star Trek"
        ],
        [
         "33",
         " Q-Space (Star Trek The Next Generation, Book 47)",
         "4",
         "270713",
         "0671019155",
         "8",
         "Greg Cox",
         "1998.0",
         "Star Trek"
        ],
        [
         "34",
         " Q-Space (Star Trek The Next Generation, Book 47)",
         "4",
         "272980",
         "0671019155",
         "5",
         "Greg Cox",
         "1998.0",
         "Star Trek"
        ],
        [
         "35",
         " Q-Zone (Star Trek The Next Generation, Book 48)",
         "2",
         "225199",
         "067101921X",
         "6",
         "Greg Cox",
         "1998.0",
         "Star Trek"
        ],
        [
         "36",
         " Q-Zone (Star Trek The Next Generation, Book 48)",
         "2",
         "272980",
         "067101921X",
         "5",
         "Greg Cox",
         "1998.0",
         "Star Trek"
        ],
        [
         "37",
         " Summonings: Books of Magic, Vol. 2",
         "2",
         "52011",
         "1563892650",
         "5",
         "John Ney Rieber",
         "1996.0",
         "DC Comics"
        ],
        [
         "38",
         " Summonings: Books of Magic, Vol. 2",
         "2",
         "158226",
         "1563892650",
         "9",
         "John Ney Rieber",
         "1996.0",
         "DC Comics"
        ],
        [
         "39",
         " The Secret of the Old Clock (Nancy Drew, Book 1)",
         "1",
         "40943",
         "0807207543",
         "10",
         "Carolyn Keene",
         "2002.0",
         "Imagination Studio"
        ],
        [
         "40",
         " This Place Has No Atmosphere (Laurel-Leaf Books)",
         "2",
         "95359",
         "0440987261",
         "9",
         "Paula Danziger",
         "1987.0",
         "Random House Childrens Pub"
        ],
        [
         "41",
         " This Place Has No Atmosphere (Laurel-Leaf Books)",
         "2",
         "182414",
         "0440987261",
         "9",
         "Paula Danziger",
         "1987.0",
         "Random House Childrens Pub"
        ],
        [
         "42",
         " Travel Companion Chile and Easter Island (Travel Companion)",
         "1",
         "56271",
         "0646060422",
         "5",
         "Gerry Leitner",
         "1996.0",
         "Hunter Publishing"
        ],
        [
         "43",
         " Weird News Stories",
         "1",
         "264321",
         "0752517783",
         "5",
         "Colin Wilson",
         "1996.0",
         "Siena"
        ],
        [
         "44",
         " the Devil Will Drag You Under",
         "1",
         "193560",
         "0345279263",
         "8",
         "Jack L Chalker",
         "1979.0",
         "Ballantine Books"
        ],
        [
         "45",
         "!%@ (A Nutshell handbook)",
         "1",
         "87141",
         "1565920317",
         "6",
         "Donnalyn Frey",
         "1993.0",
         "O'Reilly"
        ],
        [
         "46",
         "!Arriba! Comunicacion y cultura",
         "1",
         "197659",
         "0133989429",
         "9",
         "Eduardo Zayas-Bazan",
         "1996.0",
         "Prentice Hall"
        ],
        [
         "47",
         "!Trato hecho!: Spanish for Real Life, Combined Edition",
         "1",
         "174304",
         "013327974X",
         "5",
         "John T. McMinn",
         "1995.0",
         "Prentice Hall"
        ],
        [
         "48",
         "!Yo!",
         "7",
         "27617",
         "0452279186",
         "7",
         "Julia Alvarez",
         "1997.0",
         "Plume Books"
        ],
        [
         "49",
         "!Yo!",
         "7",
         "113435",
         "0452279186",
         "8",
         "Julia Alvarez",
         "1997.0",
         "Plume Books"
        ]
       ],
       "shape": {
        "columns": 8,
        "rows": 383841
       }
      },
      "text/html": [
       "<div>\n",
       "<style scoped>\n",
       "    .dataframe tbody tr th:only-of-type {\n",
       "        vertical-align: middle;\n",
       "    }\n",
       "\n",
       "    .dataframe tbody tr th {\n",
       "        vertical-align: top;\n",
       "    }\n",
       "\n",
       "    .dataframe thead th {\n",
       "        text-align: right;\n",
       "    }\n",
       "</style>\n",
       "<table border=\"1\" class=\"dataframe\">\n",
       "  <thead>\n",
       "    <tr style=\"text-align: right;\">\n",
       "      <th></th>\n",
       "      <th>Book-Title</th>\n",
       "      <th>num_ratings</th>\n",
       "      <th>User-ID</th>\n",
       "      <th>ISBN</th>\n",
       "      <th>Book-Rating</th>\n",
       "      <th>Book-Author</th>\n",
       "      <th>Year-Of-Publication</th>\n",
       "      <th>Publisher</th>\n",
       "    </tr>\n",
       "  </thead>\n",
       "  <tbody>\n",
       "    <tr>\n",
       "      <th>0</th>\n",
       "      <td>A Light in the Storm: The Civil War Diary of ...</td>\n",
       "      <td>1</td>\n",
       "      <td>96448</td>\n",
       "      <td>0590567330</td>\n",
       "      <td>9</td>\n",
       "      <td>Karen Hesse</td>\n",
       "      <td>1999.0</td>\n",
       "      <td>Hyperion Books for Children</td>\n",
       "    </tr>\n",
       "    <tr>\n",
       "      <th>1</th>\n",
       "      <td>Ask Lily (Young Women of Faith: Lily Series, ...</td>\n",
       "      <td>1</td>\n",
       "      <td>269557</td>\n",
       "      <td>0310232546</td>\n",
       "      <td>8</td>\n",
       "      <td>Nancy N. Rue</td>\n",
       "      <td>2001.0</td>\n",
       "      <td>Zonderkidz</td>\n",
       "    </tr>\n",
       "    <tr>\n",
       "      <th>2</th>\n",
       "      <td>Dark Justice</td>\n",
       "      <td>1</td>\n",
       "      <td>98391</td>\n",
       "      <td>0399151788</td>\n",
       "      <td>10</td>\n",
       "      <td>Jack Higgins</td>\n",
       "      <td>2004.0</td>\n",
       "      <td>Putnam Publishing Group</td>\n",
       "    </tr>\n",
       "    <tr>\n",
       "      <th>3</th>\n",
       "      <td>Earth Prayers From around the World: 365 Pray...</td>\n",
       "      <td>7</td>\n",
       "      <td>26544</td>\n",
       "      <td>006250746X</td>\n",
       "      <td>9</td>\n",
       "      <td>Elizabeth Roberts</td>\n",
       "      <td>1991.0</td>\n",
       "      <td>HarperSanFrancisco</td>\n",
       "    </tr>\n",
       "    <tr>\n",
       "      <th>4</th>\n",
       "      <td>Earth Prayers From around the World: 365 Pray...</td>\n",
       "      <td>7</td>\n",
       "      <td>69120</td>\n",
       "      <td>006250746X</td>\n",
       "      <td>10</td>\n",
       "      <td>Elizabeth Roberts</td>\n",
       "      <td>1991.0</td>\n",
       "      <td>HarperSanFrancisco</td>\n",
       "    </tr>\n",
       "    <tr>\n",
       "      <th>...</th>\n",
       "      <td>...</td>\n",
       "      <td>...</td>\n",
       "      <td>...</td>\n",
       "      <td>...</td>\n",
       "      <td>...</td>\n",
       "      <td>...</td>\n",
       "      <td>...</td>\n",
       "      <td>...</td>\n",
       "    </tr>\n",
       "    <tr>\n",
       "      <th>383836</th>\n",
       "      <td>Ã?Â?rger mit Produkt X. Roman.</td>\n",
       "      <td>3</td>\n",
       "      <td>133567</td>\n",
       "      <td>325721538X</td>\n",
       "      <td>8</td>\n",
       "      <td>Joan Aiken</td>\n",
       "      <td>1987.0</td>\n",
       "      <td>Diogenes Verlag</td>\n",
       "    </tr>\n",
       "    <tr>\n",
       "      <th>383837</th>\n",
       "      <td>Ã?Â?rger mit Produkt X. Roman.</td>\n",
       "      <td>3</td>\n",
       "      <td>225343</td>\n",
       "      <td>325721538X</td>\n",
       "      <td>7</td>\n",
       "      <td>Joan Aiken</td>\n",
       "      <td>1987.0</td>\n",
       "      <td>Diogenes Verlag</td>\n",
       "    </tr>\n",
       "    <tr>\n",
       "      <th>383838</th>\n",
       "      <td>Ã?Â?sterlich leben.</td>\n",
       "      <td>1</td>\n",
       "      <td>256636</td>\n",
       "      <td>3451274973</td>\n",
       "      <td>7</td>\n",
       "      <td>Anselm GrÃ?Â¼n</td>\n",
       "      <td>2001.0</td>\n",
       "      <td>Herder, Freiburg</td>\n",
       "    </tr>\n",
       "    <tr>\n",
       "      <th>383839</th>\n",
       "      <td>Ã?Â?stlich der Berge.</td>\n",
       "      <td>1</td>\n",
       "      <td>90839</td>\n",
       "      <td>3442725739</td>\n",
       "      <td>8</td>\n",
       "      <td>David Guterson</td>\n",
       "      <td>2000.0</td>\n",
       "      <td>btb</td>\n",
       "    </tr>\n",
       "    <tr>\n",
       "      <th>383840</th>\n",
       "      <td>Ã?Â?thique en toc</td>\n",
       "      <td>1</td>\n",
       "      <td>25436</td>\n",
       "      <td>2842192508</td>\n",
       "      <td>8</td>\n",
       "      <td>Didier Daeninckx</td>\n",
       "      <td>1998.0</td>\n",
       "      <td>Baleine</td>\n",
       "    </tr>\n",
       "  </tbody>\n",
       "</table>\n",
       "<p>383841 rows × 8 columns</p>\n",
       "</div>"
      ],
      "text/plain": [
       "                                               Book-Title  num_ratings  \\\n",
       "0        A Light in the Storm: The Civil War Diary of ...            1   \n",
       "1        Ask Lily (Young Women of Faith: Lily Series, ...            1   \n",
       "2                                            Dark Justice            1   \n",
       "3        Earth Prayers From around the World: 365 Pray...            7   \n",
       "4        Earth Prayers From around the World: 365 Pray...            7   \n",
       "...                                                   ...          ...   \n",
       "383836                     Ã?Â?rger mit Produkt X. Roman.            3   \n",
       "383837                     Ã?Â?rger mit Produkt X. Roman.            3   \n",
       "383838                                Ã?Â?sterlich leben.            1   \n",
       "383839                              Ã?Â?stlich der Berge.            1   \n",
       "383840                                  Ã?Â?thique en toc            1   \n",
       "\n",
       "        User-ID        ISBN  Book-Rating        Book-Author  \\\n",
       "0         96448  0590567330            9        Karen Hesse   \n",
       "1        269557  0310232546            8       Nancy N. Rue   \n",
       "2         98391  0399151788           10       Jack Higgins   \n",
       "3         26544  006250746X            9  Elizabeth Roberts   \n",
       "4         69120  006250746X           10  Elizabeth Roberts   \n",
       "...         ...         ...          ...                ...   \n",
       "383836   133567  325721538X            8         Joan Aiken   \n",
       "383837   225343  325721538X            7         Joan Aiken   \n",
       "383838   256636  3451274973            7     Anselm GrÃ?Â¼n   \n",
       "383839    90839  3442725739            8     David Guterson   \n",
       "383840    25436  2842192508            8   Didier Daeninckx   \n",
       "\n",
       "        Year-Of-Publication                    Publisher  \n",
       "0                    1999.0  Hyperion Books for Children  \n",
       "1                    2001.0                   Zonderkidz  \n",
       "2                    2004.0      Putnam Publishing Group  \n",
       "3                    1991.0           HarperSanFrancisco  \n",
       "4                    1991.0           HarperSanFrancisco  \n",
       "...                     ...                          ...  \n",
       "383836               1987.0              Diogenes Verlag  \n",
       "383837               1987.0              Diogenes Verlag  \n",
       "383838               2001.0             Herder, Freiburg  \n",
       "383839               2000.0                          btb  \n",
       "383840               1998.0                      Baleine  \n",
       "\n",
       "[383841 rows x 8 columns]"
      ]
     },
     "execution_count": 105,
     "metadata": {},
     "output_type": "execute_result"
    }
   ],
   "source": [
    "ratings_with_num_ratings: DataFrame = ratings_per_book.merge(df_books_rating, left_on = \"Book-Title\", right_on = \"Book-Title\", how = \"left\")\n",
    "ratings_with_num_ratings"
   ]
  },
  {
   "cell_type": "code",
   "execution_count": 109,
   "id": "d1fe122d",
   "metadata": {},
   "outputs": [
    {
     "data": {
      "application/vnd.microsoft.datawrangler.viewer.v0+json": {
       "columns": [
        {
         "name": "index",
         "rawType": "int64",
         "type": "integer"
        },
        {
         "name": "Book-Title",
         "rawType": "object",
         "type": "string"
        },
        {
         "name": "num_ratings",
         "rawType": "int64",
         "type": "integer"
        },
        {
         "name": "User-ID",
         "rawType": "int64",
         "type": "integer"
        },
        {
         "name": "ISBN",
         "rawType": "object",
         "type": "string"
        },
        {
         "name": "Book-Rating",
         "rawType": "int64",
         "type": "integer"
        },
        {
         "name": "Book-Author",
         "rawType": "object",
         "type": "string"
        },
        {
         "name": "Year-Of-Publication",
         "rawType": "float64",
         "type": "float"
        },
        {
         "name": "Publisher",
         "rawType": "object",
         "type": "string"
        }
       ],
       "ref": "51eb5a8e-ba22-4f20-886d-331f86e8388a",
       "rows": [
        [
         "80",
         "'Salem's Lot",
         "22",
         "33283",
         "0451168089",
         "10",
         "Stephen King",
         "1990.0",
         "Signet Book"
        ],
        [
         "81",
         "'Salem's Lot",
         "22",
         "35859",
         "0385007515",
         "9",
         "Stephen King",
         "1993.0",
         "Doubleday Books"
        ],
        [
         "82",
         "'Salem's Lot",
         "22",
         "56044",
         "0451168089",
         "8",
         "Stephen King",
         "1990.0",
         "Signet Book"
        ],
        [
         "83",
         "'Salem's Lot",
         "22",
         "60263",
         "0451168089",
         "10",
         "Stephen King",
         "1990.0",
         "Signet Book"
        ],
        [
         "84",
         "'Salem's Lot",
         "22",
         "70065",
         "0451168089",
         "5",
         "Stephen King",
         "1990.0",
         "Signet Book"
        ],
        [
         "85",
         "'Salem's Lot",
         "22",
         "71712",
         "0451168089",
         "5",
         "Stephen King",
         "1990.0",
         "Signet Book"
        ],
        [
         "86",
         "'Salem's Lot",
         "22",
         "105028",
         "0451168089",
         "8",
         "Stephen King",
         "1990.0",
         "Signet Book"
        ],
        [
         "87",
         "'Salem's Lot",
         "22",
         "106768",
         "0451168089",
         "9",
         "Stephen King",
         "1990.0",
         "Signet Book"
        ],
        [
         "88",
         "'Salem's Lot",
         "22",
         "123544",
         "0385007515",
         "7",
         "Stephen King",
         "1993.0",
         "Doubleday Books"
        ],
        [
         "89",
         "'Salem's Lot",
         "22",
         "157655",
         "0385007515",
         "6",
         "Stephen King",
         "1993.0",
         "Doubleday Books"
        ],
        [
         "90",
         "'Salem's Lot",
         "22",
         "161448",
         "0385007515",
         "7",
         "Stephen King",
         "1993.0",
         "Doubleday Books"
        ],
        [
         "91",
         "'Salem's Lot",
         "22",
         "163570",
         "0451168089",
         "10",
         "Stephen King",
         "1990.0",
         "Signet Book"
        ],
        [
         "92",
         "'Salem's Lot",
         "22",
         "184299",
         "0451168089",
         "10",
         "Stephen King",
         "1990.0",
         "Signet Book"
        ],
        [
         "93",
         "'Salem's Lot",
         "22",
         "185233",
         "0385007515",
         "5",
         "Stephen King",
         "1993.0",
         "Doubleday Books"
        ],
        [
         "94",
         "'Salem's Lot",
         "22",
         "189835",
         "067103975X",
         "5",
         "Stephen King",
         "2000.0",
         "Pocket"
        ],
        [
         "95",
         "'Salem's Lot",
         "22",
         "206042",
         "0451168089",
         "10",
         "Stephen King",
         "1990.0",
         "Signet Book"
        ],
        [
         "96",
         "'Salem's Lot",
         "22",
         "208450",
         "0385007515",
         "8",
         "Stephen King",
         "1993.0",
         "Doubleday Books"
        ],
        [
         "97",
         "'Salem's Lot",
         "22",
         "214315",
         "0385007515",
         "8",
         "Stephen King",
         "1993.0",
         "Doubleday Books"
        ],
        [
         "98",
         "'Salem's Lot",
         "22",
         "223325",
         "0451168089",
         "10",
         "Stephen King",
         "1990.0",
         "Signet Book"
        ],
        [
         "99",
         "'Salem's Lot",
         "22",
         "250979",
         "0385007515",
         "9",
         "Stephen King",
         "1993.0",
         "Doubleday Books"
        ],
        [
         "100",
         "'Salem's Lot",
         "22",
         "255858",
         "0451168089",
         "8",
         "Stephen King",
         "1990.0",
         "Signet Book"
        ],
        [
         "101",
         "'Salem's Lot",
         "22",
         "268300",
         "0451168089",
         "6",
         "Stephen King",
         "1990.0",
         "Signet Book"
        ],
        [
         "801",
         "1984",
         "144",
         "254",
         "0451524934",
         "9",
         "George Orwell",
         "1990.0",
         "Signet Book"
        ],
        [
         "802",
         "1984",
         "144",
         "1706",
         "0451524934",
         "10",
         "George Orwell",
         "1990.0",
         "Signet Book"
        ],
        [
         "803",
         "1984",
         "144",
         "2179",
         "0451524934",
         "8",
         "George Orwell",
         "1990.0",
         "Signet Book"
        ],
        [
         "804",
         "1984",
         "144",
         "2198",
         "0451524934",
         "10",
         "George Orwell",
         "1990.0",
         "Signet Book"
        ],
        [
         "805",
         "1984",
         "144",
         "2799",
         "0451524934",
         "10",
         "George Orwell",
         "1990.0",
         "Signet Book"
        ],
        [
         "806",
         "1984",
         "144",
         "7210",
         "0451519841",
         "9",
         "George Orwell",
         "1980.0",
         "New Amer Library"
        ],
        [
         "807",
         "1984",
         "144",
         "7346",
         "0451519841",
         "8",
         "George Orwell",
         "1980.0",
         "New Amer Library"
        ],
        [
         "808",
         "1984",
         "144",
         "8680",
         "0451519841",
         "5",
         "George Orwell",
         "1980.0",
         "New Amer Library"
        ],
        [
         "809",
         "1984",
         "144",
         "9908",
         "0451524934",
         "6",
         "George Orwell",
         "1990.0",
         "Signet Book"
        ],
        [
         "810",
         "1984",
         "144",
         "11676",
         "0452262933",
         "10",
         "George Orwell",
         "1983.0",
         "Plume Books"
        ],
        [
         "811",
         "1984",
         "144",
         "15408",
         "0451524934",
         "9",
         "George Orwell",
         "1990.0",
         "Signet Book"
        ],
        [
         "812",
         "1984",
         "144",
         "16795",
         "0451524934",
         "8",
         "George Orwell",
         "1990.0",
         "Signet Book"
        ],
        [
         "813",
         "1984",
         "144",
         "23872",
         "0451524934",
         "7",
         "George Orwell",
         "1990.0",
         "Signet Book"
        ],
        [
         "814",
         "1984",
         "144",
         "30081",
         "0451524934",
         "10",
         "George Orwell",
         "1990.0",
         "Signet Book"
        ],
        [
         "815",
         "1984",
         "144",
         "32599",
         "0451524934",
         "8",
         "George Orwell",
         "1990.0",
         "Signet Book"
        ],
        [
         "816",
         "1984",
         "144",
         "32791",
         "207036822X",
         "10",
         "George Orwell",
         "0.0",
         "Gallimard French"
        ],
        [
         "817",
         "1984",
         "144",
         "37092",
         "0451524934",
         "7",
         "George Orwell",
         "1990.0",
         "Signet Book"
        ],
        [
         "818",
         "1984",
         "144",
         "37235",
         "0451524934",
         "9",
         "George Orwell",
         "1990.0",
         "Signet Book"
        ],
        [
         "819",
         "1984",
         "144",
         "38104",
         "207036822X",
         "9",
         "George Orwell",
         "0.0",
         "Gallimard French"
        ],
        [
         "820",
         "1984",
         "144",
         "38661",
         "0451524934",
         "10",
         "George Orwell",
         "1990.0",
         "Signet Book"
        ],
        [
         "821",
         "1984",
         "144",
         "44252",
         "0451524934",
         "10",
         "George Orwell",
         "1990.0",
         "Signet Book"
        ],
        [
         "822",
         "1984",
         "144",
         "46461",
         "0451524934",
         "10",
         "George Orwell",
         "1990.0",
         "Signet Book"
        ],
        [
         "823",
         "1984",
         "144",
         "47117",
         "0451524934",
         "10",
         "George Orwell",
         "1990.0",
         "Signet Book"
        ],
        [
         "824",
         "1984",
         "144",
         "48453",
         "0451524934",
         "9",
         "George Orwell",
         "1990.0",
         "Signet Book"
        ],
        [
         "825",
         "1984",
         "144",
         "49460",
         "0451524934",
         "9",
         "George Orwell",
         "1990.0",
         "Signet Book"
        ],
        [
         "826",
         "1984",
         "144",
         "52987",
         "0451524934",
         "7",
         "George Orwell",
         "1990.0",
         "Signet Book"
        ],
        [
         "827",
         "1984",
         "144",
         "53408",
         "0451524934",
         "7",
         "George Orwell",
         "1990.0",
         "Signet Book"
        ],
        [
         "828",
         "1984",
         "144",
         "53510",
         "0451524934",
         "8",
         "George Orwell",
         "1990.0",
         "Signet Book"
        ]
       ],
       "shape": {
        "columns": 8,
        "rows": 114744
       }
      },
      "text/html": [
       "<div>\n",
       "<style scoped>\n",
       "    .dataframe tbody tr th:only-of-type {\n",
       "        vertical-align: middle;\n",
       "    }\n",
       "\n",
       "    .dataframe tbody tr th {\n",
       "        vertical-align: top;\n",
       "    }\n",
       "\n",
       "    .dataframe thead th {\n",
       "        text-align: right;\n",
       "    }\n",
       "</style>\n",
       "<table border=\"1\" class=\"dataframe\">\n",
       "  <thead>\n",
       "    <tr style=\"text-align: right;\">\n",
       "      <th></th>\n",
       "      <th>Book-Title</th>\n",
       "      <th>num_ratings</th>\n",
       "      <th>User-ID</th>\n",
       "      <th>ISBN</th>\n",
       "      <th>Book-Rating</th>\n",
       "      <th>Book-Author</th>\n",
       "      <th>Year-Of-Publication</th>\n",
       "      <th>Publisher</th>\n",
       "    </tr>\n",
       "  </thead>\n",
       "  <tbody>\n",
       "    <tr>\n",
       "      <th>80</th>\n",
       "      <td>'Salem's Lot</td>\n",
       "      <td>22</td>\n",
       "      <td>33283</td>\n",
       "      <td>0451168089</td>\n",
       "      <td>10</td>\n",
       "      <td>Stephen King</td>\n",
       "      <td>1990.0</td>\n",
       "      <td>Signet Book</td>\n",
       "    </tr>\n",
       "    <tr>\n",
       "      <th>81</th>\n",
       "      <td>'Salem's Lot</td>\n",
       "      <td>22</td>\n",
       "      <td>35859</td>\n",
       "      <td>0385007515</td>\n",
       "      <td>9</td>\n",
       "      <td>Stephen King</td>\n",
       "      <td>1993.0</td>\n",
       "      <td>Doubleday Books</td>\n",
       "    </tr>\n",
       "    <tr>\n",
       "      <th>82</th>\n",
       "      <td>'Salem's Lot</td>\n",
       "      <td>22</td>\n",
       "      <td>56044</td>\n",
       "      <td>0451168089</td>\n",
       "      <td>8</td>\n",
       "      <td>Stephen King</td>\n",
       "      <td>1990.0</td>\n",
       "      <td>Signet Book</td>\n",
       "    </tr>\n",
       "    <tr>\n",
       "      <th>83</th>\n",
       "      <td>'Salem's Lot</td>\n",
       "      <td>22</td>\n",
       "      <td>60263</td>\n",
       "      <td>0451168089</td>\n",
       "      <td>10</td>\n",
       "      <td>Stephen King</td>\n",
       "      <td>1990.0</td>\n",
       "      <td>Signet Book</td>\n",
       "    </tr>\n",
       "    <tr>\n",
       "      <th>84</th>\n",
       "      <td>'Salem's Lot</td>\n",
       "      <td>22</td>\n",
       "      <td>70065</td>\n",
       "      <td>0451168089</td>\n",
       "      <td>5</td>\n",
       "      <td>Stephen King</td>\n",
       "      <td>1990.0</td>\n",
       "      <td>Signet Book</td>\n",
       "    </tr>\n",
       "    <tr>\n",
       "      <th>...</th>\n",
       "      <td>...</td>\n",
       "      <td>...</td>\n",
       "      <td>...</td>\n",
       "      <td>...</td>\n",
       "      <td>...</td>\n",
       "      <td>...</td>\n",
       "      <td>...</td>\n",
       "      <td>...</td>\n",
       "    </tr>\n",
       "    <tr>\n",
       "      <th>383776</th>\n",
       "      <td>stardust</td>\n",
       "      <td>26</td>\n",
       "      <td>234359</td>\n",
       "      <td>0060934719</td>\n",
       "      <td>7</td>\n",
       "      <td>Neil Gaiman</td>\n",
       "      <td>2001.0</td>\n",
       "      <td>Perennial</td>\n",
       "    </tr>\n",
       "    <tr>\n",
       "      <th>383777</th>\n",
       "      <td>stardust</td>\n",
       "      <td>26</td>\n",
       "      <td>236754</td>\n",
       "      <td>0060934719</td>\n",
       "      <td>10</td>\n",
       "      <td>Neil Gaiman</td>\n",
       "      <td>2001.0</td>\n",
       "      <td>Perennial</td>\n",
       "    </tr>\n",
       "    <tr>\n",
       "      <th>383778</th>\n",
       "      <td>stardust</td>\n",
       "      <td>26</td>\n",
       "      <td>245295</td>\n",
       "      <td>0060934719</td>\n",
       "      <td>10</td>\n",
       "      <td>Neil Gaiman</td>\n",
       "      <td>2001.0</td>\n",
       "      <td>Perennial</td>\n",
       "    </tr>\n",
       "    <tr>\n",
       "      <th>383779</th>\n",
       "      <td>stardust</td>\n",
       "      <td>26</td>\n",
       "      <td>274393</td>\n",
       "      <td>0060934719</td>\n",
       "      <td>8</td>\n",
       "      <td>Neil Gaiman</td>\n",
       "      <td>2001.0</td>\n",
       "      <td>Perennial</td>\n",
       "    </tr>\n",
       "    <tr>\n",
       "      <th>383780</th>\n",
       "      <td>stardust</td>\n",
       "      <td>26</td>\n",
       "      <td>275519</td>\n",
       "      <td>0060934719</td>\n",
       "      <td>7</td>\n",
       "      <td>Neil Gaiman</td>\n",
       "      <td>2001.0</td>\n",
       "      <td>Perennial</td>\n",
       "    </tr>\n",
       "  </tbody>\n",
       "</table>\n",
       "<p>114744 rows × 8 columns</p>\n",
       "</div>"
      ],
      "text/plain": [
       "          Book-Title  num_ratings  User-ID        ISBN  Book-Rating  \\\n",
       "80      'Salem's Lot           22    33283  0451168089           10   \n",
       "81      'Salem's Lot           22    35859  0385007515            9   \n",
       "82      'Salem's Lot           22    56044  0451168089            8   \n",
       "83      'Salem's Lot           22    60263  0451168089           10   \n",
       "84      'Salem's Lot           22    70065  0451168089            5   \n",
       "...              ...          ...      ...         ...          ...   \n",
       "383776      stardust           26   234359  0060934719            7   \n",
       "383777      stardust           26   236754  0060934719           10   \n",
       "383778      stardust           26   245295  0060934719           10   \n",
       "383779      stardust           26   274393  0060934719            8   \n",
       "383780      stardust           26   275519  0060934719            7   \n",
       "\n",
       "         Book-Author  Year-Of-Publication        Publisher  \n",
       "80      Stephen King               1990.0      Signet Book  \n",
       "81      Stephen King               1993.0  Doubleday Books  \n",
       "82      Stephen King               1990.0      Signet Book  \n",
       "83      Stephen King               1990.0      Signet Book  \n",
       "84      Stephen King               1990.0      Signet Book  \n",
       "...              ...                  ...              ...  \n",
       "383776   Neil Gaiman               2001.0        Perennial  \n",
       "383777   Neil Gaiman               2001.0        Perennial  \n",
       "383778   Neil Gaiman               2001.0        Perennial  \n",
       "383779   Neil Gaiman               2001.0        Perennial  \n",
       "383780   Neil Gaiman               2001.0        Perennial  \n",
       "\n",
       "[114744 rows x 8 columns]"
      ]
     },
     "execution_count": 109,
     "metadata": {},
     "output_type": "execute_result"
    }
   ],
   "source": [
    "popularity_threshold = 20\n",
    "rating_popular_book: DataFrame= ratings_with_num_ratings.query(\"num_ratings >= @popularity_threshold\")\n",
    "\n",
    "rating_popular_book"
   ]
  },
  {
   "cell_type": "markdown",
   "id": "e013036f",
   "metadata": {},
   "source": [
    "### Dataframe final"
   ]
  },
  {
   "cell_type": "code",
   "execution_count": 110,
   "id": "84398c29",
   "metadata": {},
   "outputs": [
    {
     "data": {
      "text/plain": [
       "(2338, 35019)"
      ]
     },
     "execution_count": 110,
     "metadata": {},
     "output_type": "execute_result"
    }
   ],
   "source": [
    "final_df: DataFrame = rating_popular_book.pivot_table(index=\"Book-Title\", columns=\"User-ID\", values=\"Book-Rating\").fillna(0)\n",
    "final_df.shape"
   ]
  },
  {
   "cell_type": "code",
   "execution_count": 111,
   "id": "03e7007a",
   "metadata": {},
   "outputs": [],
   "source": [
    "Path(\"../processed-data\").mkdir(exist_ok=True)\n",
    "final_df.to_csv(\"../processed-data/final_df.csv\", encoding=\"utf-8\")"
   ]
  }
 ],
 "metadata": {
  "kernelspec": {
   "display_name": "recommendation-system-ods",
   "language": "python",
   "name": "python3"
  },
  "language_info": {
   "codemirror_mode": {
    "name": "ipython",
    "version": 3
   },
   "file_extension": ".py",
   "mimetype": "text/x-python",
   "name": "python",
   "nbconvert_exporter": "python",
   "pygments_lexer": "ipython3",
   "version": "3.12.11"
  }
 },
 "nbformat": 4,
 "nbformat_minor": 5
}
